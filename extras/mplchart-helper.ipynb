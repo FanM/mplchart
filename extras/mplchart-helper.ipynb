{
 "cells": [
  {
   "cell_type": "markdown",
   "source": [
    "# Fetching prices with the helper module (deprecated)"
   ],
   "metadata": {
    "collapsed": false,
    "pycharm": {
     "name": "#%% md\n"
    }
   }
  },
  {
   "cell_type": "code",
   "execution_count": 1,
   "outputs": [
    {
     "name": "stderr",
     "output_type": "stream",
     "text": [
      "/var/folders/s8/jtb72jcx6739t9rmc8pl26980000gn/T/ipykernel_13568/2046007206.py:3: DeprecationWarning: The helper module is deprecated. Use your own data source.\n",
      "  from mplchart import helper\n"
     ]
    }
   ],
   "source": [
    "import warnings\n",
    "\n",
    "from mplchart import helper\n"
   ],
   "metadata": {
    "collapsed": false,
    "pycharm": {
     "name": "#%%\n"
    },
    "ExecuteTime": {
     "end_time": "2023-09-24T09:59:32.580456Z",
     "start_time": "2023-09-24T09:59:32.275241Z"
    }
   }
  },
  {
   "cell_type": "code",
   "execution_count": 3,
   "metadata": {
    "pycharm": {
     "name": "#%%\n"
    },
    "ExecuteTime": {
     "end_time": "2023-09-24T09:59:07.450208Z",
     "start_time": "2023-09-24T09:59:07.428015Z"
    }
   },
   "outputs": [
    {
     "data": {
      "text/plain": "['list_cache', 'clear_cache', 'map_frequency', 'maximum_period', 'get_prices']"
     },
     "execution_count": 3,
     "metadata": {},
     "output_type": "execute_result"
    }
   ],
   "source": [
    "[k for k, v in vars(helper).items() if callable(v)]"
   ]
  },
  {
   "cell_type": "code",
   "execution_count": 4,
   "metadata": {
    "pycharm": {
     "name": "#%%\n"
    },
    "ExecuteTime": {
     "end_time": "2023-09-24T09:59:08.133270Z",
     "start_time": "2023-09-24T09:59:08.119410Z"
    }
   },
   "outputs": [
    {
     "name": "stdout",
     "output_type": "stream",
     "text": [
      "mplchart.helper.AAPL.1d.max.csv\n",
      "mplchart.helper.AAPL.1mo.max.csv\n",
      "mplchart.helper.AAPL.1wk.max.csv\n"
     ]
    }
   ],
   "source": [
    "for file in helper.list_cache():\n",
    "    print(file.name)\n"
   ]
  },
  {
   "cell_type": "code",
   "execution_count": 5,
   "metadata": {
    "pycharm": {
     "name": "#%%\n"
    },
    "ExecuteTime": {
     "end_time": "2023-09-24T09:59:08.931257Z",
     "start_time": "2023-09-24T09:59:08.903133Z"
    }
   },
   "outputs": [
    {
     "name": "stdout",
     "output_type": "stream",
     "text": [
      "Deleting mplchart.helper.AAPL.1d.max.csv ...\n",
      "Deleting mplchart.helper.AAPL.1mo.max.csv ...\n",
      "Deleting mplchart.helper.AAPL.1wk.max.csv ...\n"
     ]
    }
   ],
   "source": [
    "helper.clear_cache(verbose=True)\n"
   ]
  },
  {
   "cell_type": "code",
   "execution_count": 6,
   "outputs": [
    {
     "data": {
      "text/plain": "                                 open        high         low       close  \\\ndate                                                                        \n1980-12-12 00:00:00-05:00    0.099450    0.099882    0.099450    0.099450   \n1980-12-15 00:00:00-05:00    0.094694    0.094694    0.094261    0.094261   \n1980-12-16 00:00:00-05:00    0.087775    0.087775    0.087343    0.087343   \n1980-12-17 00:00:00-05:00    0.089504    0.089937    0.089504    0.089504   \n1980-12-18 00:00:00-05:00    0.092099    0.092532    0.092099    0.092099   \n...                               ...         ...         ...         ...   \n2023-09-18 00:00:00-04:00  176.479996  179.380005  176.169998  177.970001   \n2023-09-19 00:00:00-04:00  177.520004  179.630005  177.130005  179.070007   \n2023-09-20 00:00:00-04:00  179.259995  179.699997  175.399994  175.490005   \n2023-09-21 00:00:00-04:00  174.550003  176.300003  173.860001  173.929993   \n2023-09-22 00:00:00-04:00  174.669998  177.078995  174.054993  174.789993   \n\n                              volume  \ndate                                  \n1980-12-12 00:00:00-05:00  469033600  \n1980-12-15 00:00:00-05:00  175884800  \n1980-12-16 00:00:00-05:00  105728000  \n1980-12-17 00:00:00-05:00   86441600  \n1980-12-18 00:00:00-05:00   73449600  \n...                              ...  \n2023-09-18 00:00:00-04:00   67257600  \n2023-09-19 00:00:00-04:00   51826900  \n2023-09-20 00:00:00-04:00   58436200  \n2023-09-21 00:00:00-04:00   63047900  \n2023-09-22 00:00:00-04:00   55110610  \n\n[10785 rows x 5 columns]",
      "text/html": "<div>\n<style scoped>\n    .dataframe tbody tr th:only-of-type {\n        vertical-align: middle;\n    }\n\n    .dataframe tbody tr th {\n        vertical-align: top;\n    }\n\n    .dataframe thead th {\n        text-align: right;\n    }\n</style>\n<table border=\"1\" class=\"dataframe\">\n  <thead>\n    <tr style=\"text-align: right;\">\n      <th></th>\n      <th>open</th>\n      <th>high</th>\n      <th>low</th>\n      <th>close</th>\n      <th>volume</th>\n    </tr>\n    <tr>\n      <th>date</th>\n      <th></th>\n      <th></th>\n      <th></th>\n      <th></th>\n      <th></th>\n    </tr>\n  </thead>\n  <tbody>\n    <tr>\n      <th>1980-12-12 00:00:00-05:00</th>\n      <td>0.099450</td>\n      <td>0.099882</td>\n      <td>0.099450</td>\n      <td>0.099450</td>\n      <td>469033600</td>\n    </tr>\n    <tr>\n      <th>1980-12-15 00:00:00-05:00</th>\n      <td>0.094694</td>\n      <td>0.094694</td>\n      <td>0.094261</td>\n      <td>0.094261</td>\n      <td>175884800</td>\n    </tr>\n    <tr>\n      <th>1980-12-16 00:00:00-05:00</th>\n      <td>0.087775</td>\n      <td>0.087775</td>\n      <td>0.087343</td>\n      <td>0.087343</td>\n      <td>105728000</td>\n    </tr>\n    <tr>\n      <th>1980-12-17 00:00:00-05:00</th>\n      <td>0.089504</td>\n      <td>0.089937</td>\n      <td>0.089504</td>\n      <td>0.089504</td>\n      <td>86441600</td>\n    </tr>\n    <tr>\n      <th>1980-12-18 00:00:00-05:00</th>\n      <td>0.092099</td>\n      <td>0.092532</td>\n      <td>0.092099</td>\n      <td>0.092099</td>\n      <td>73449600</td>\n    </tr>\n    <tr>\n      <th>...</th>\n      <td>...</td>\n      <td>...</td>\n      <td>...</td>\n      <td>...</td>\n      <td>...</td>\n    </tr>\n    <tr>\n      <th>2023-09-18 00:00:00-04:00</th>\n      <td>176.479996</td>\n      <td>179.380005</td>\n      <td>176.169998</td>\n      <td>177.970001</td>\n      <td>67257600</td>\n    </tr>\n    <tr>\n      <th>2023-09-19 00:00:00-04:00</th>\n      <td>177.520004</td>\n      <td>179.630005</td>\n      <td>177.130005</td>\n      <td>179.070007</td>\n      <td>51826900</td>\n    </tr>\n    <tr>\n      <th>2023-09-20 00:00:00-04:00</th>\n      <td>179.259995</td>\n      <td>179.699997</td>\n      <td>175.399994</td>\n      <td>175.490005</td>\n      <td>58436200</td>\n    </tr>\n    <tr>\n      <th>2023-09-21 00:00:00-04:00</th>\n      <td>174.550003</td>\n      <td>176.300003</td>\n      <td>173.860001</td>\n      <td>173.929993</td>\n      <td>63047900</td>\n    </tr>\n    <tr>\n      <th>2023-09-22 00:00:00-04:00</th>\n      <td>174.669998</td>\n      <td>177.078995</td>\n      <td>174.054993</td>\n      <td>174.789993</td>\n      <td>55110610</td>\n    </tr>\n  </tbody>\n</table>\n<p>10785 rows × 5 columns</p>\n</div>"
     },
     "execution_count": 6,
     "metadata": {},
     "output_type": "execute_result"
    }
   ],
   "source": [
    "helper.get_prices('AAPL', freq='daily')"
   ],
   "metadata": {
    "collapsed": false,
    "pycharm": {
     "name": "#%%\n"
    },
    "ExecuteTime": {
     "end_time": "2023-09-24T09:59:10.348777Z",
     "start_time": "2023-09-24T09:59:09.684377Z"
    }
   }
  },
  {
   "cell_type": "code",
   "execution_count": 7,
   "outputs": [
    {
     "data": {
      "text/plain": "                                 open        high         low       close  \\\ndate                                                                        \n1980-12-08 00:00:00-05:00    0.099450    0.099882    0.099450    0.099450   \n1980-12-15 00:00:00-05:00    0.094694    0.098152    0.087343    0.097720   \n1980-12-22 00:00:00-05:00    0.102476    0.123231    0.102476    0.122799   \n1980-12-29 00:00:00-05:00    0.124528    0.124960    0.118043    0.119340   \n1981-01-05 00:00:00-05:00    0.117178    0.117178    0.104639    0.110259   \n...                               ...         ...         ...         ...   \n2023-08-21 00:00:00-04:00  175.070007  181.550003  173.740005  178.610001   \n2023-08-28 00:00:00-04:00  180.089996  189.919998  178.550003  189.460007   \n2023-09-04 00:00:00-04:00  188.279999  189.979996  173.539993  178.179993   \n2023-09-11 00:00:00-04:00  180.070007  180.300003  173.580002  175.009995   \n2023-09-18 00:00:00-04:00  176.479996  179.699997  173.860001  174.789993   \n\n                              volume  \ndate                                  \n1980-12-08 00:00:00-05:00  469033600  \n1980-12-15 00:00:00-05:00  490134400  \n1980-12-22 00:00:00-05:00  187891200  \n1980-12-29 00:00:00-05:00  219452800  \n1981-01-05 00:00:00-05:00  197904000  \n...                              ...  \n2023-08-21 00:00:00-04:00  247514300  \n2023-08-28 00:00:00-04:00  264165600  \n2023-09-04 00:00:00-04:00  305075900  \n2023-09-11 00:00:00-04:00  403692100  \n2023-09-18 00:00:00-04:00  295679210  \n\n[2233 rows x 5 columns]",
      "text/html": "<div>\n<style scoped>\n    .dataframe tbody tr th:only-of-type {\n        vertical-align: middle;\n    }\n\n    .dataframe tbody tr th {\n        vertical-align: top;\n    }\n\n    .dataframe thead th {\n        text-align: right;\n    }\n</style>\n<table border=\"1\" class=\"dataframe\">\n  <thead>\n    <tr style=\"text-align: right;\">\n      <th></th>\n      <th>open</th>\n      <th>high</th>\n      <th>low</th>\n      <th>close</th>\n      <th>volume</th>\n    </tr>\n    <tr>\n      <th>date</th>\n      <th></th>\n      <th></th>\n      <th></th>\n      <th></th>\n      <th></th>\n    </tr>\n  </thead>\n  <tbody>\n    <tr>\n      <th>1980-12-08 00:00:00-05:00</th>\n      <td>0.099450</td>\n      <td>0.099882</td>\n      <td>0.099450</td>\n      <td>0.099450</td>\n      <td>469033600</td>\n    </tr>\n    <tr>\n      <th>1980-12-15 00:00:00-05:00</th>\n      <td>0.094694</td>\n      <td>0.098152</td>\n      <td>0.087343</td>\n      <td>0.097720</td>\n      <td>490134400</td>\n    </tr>\n    <tr>\n      <th>1980-12-22 00:00:00-05:00</th>\n      <td>0.102476</td>\n      <td>0.123231</td>\n      <td>0.102476</td>\n      <td>0.122799</td>\n      <td>187891200</td>\n    </tr>\n    <tr>\n      <th>1980-12-29 00:00:00-05:00</th>\n      <td>0.124528</td>\n      <td>0.124960</td>\n      <td>0.118043</td>\n      <td>0.119340</td>\n      <td>219452800</td>\n    </tr>\n    <tr>\n      <th>1981-01-05 00:00:00-05:00</th>\n      <td>0.117178</td>\n      <td>0.117178</td>\n      <td>0.104639</td>\n      <td>0.110259</td>\n      <td>197904000</td>\n    </tr>\n    <tr>\n      <th>...</th>\n      <td>...</td>\n      <td>...</td>\n      <td>...</td>\n      <td>...</td>\n      <td>...</td>\n    </tr>\n    <tr>\n      <th>2023-08-21 00:00:00-04:00</th>\n      <td>175.070007</td>\n      <td>181.550003</td>\n      <td>173.740005</td>\n      <td>178.610001</td>\n      <td>247514300</td>\n    </tr>\n    <tr>\n      <th>2023-08-28 00:00:00-04:00</th>\n      <td>180.089996</td>\n      <td>189.919998</td>\n      <td>178.550003</td>\n      <td>189.460007</td>\n      <td>264165600</td>\n    </tr>\n    <tr>\n      <th>2023-09-04 00:00:00-04:00</th>\n      <td>188.279999</td>\n      <td>189.979996</td>\n      <td>173.539993</td>\n      <td>178.179993</td>\n      <td>305075900</td>\n    </tr>\n    <tr>\n      <th>2023-09-11 00:00:00-04:00</th>\n      <td>180.070007</td>\n      <td>180.300003</td>\n      <td>173.580002</td>\n      <td>175.009995</td>\n      <td>403692100</td>\n    </tr>\n    <tr>\n      <th>2023-09-18 00:00:00-04:00</th>\n      <td>176.479996</td>\n      <td>179.699997</td>\n      <td>173.860001</td>\n      <td>174.789993</td>\n      <td>295679210</td>\n    </tr>\n  </tbody>\n</table>\n<p>2233 rows × 5 columns</p>\n</div>"
     },
     "execution_count": 7,
     "metadata": {},
     "output_type": "execute_result"
    }
   ],
   "source": [
    "helper.get_prices('AAPL', freq='weekly')"
   ],
   "metadata": {
    "collapsed": false,
    "pycharm": {
     "name": "#%%\n"
    },
    "ExecuteTime": {
     "end_time": "2023-09-24T09:59:11.493081Z",
     "start_time": "2023-09-24T09:59:11.138622Z"
    }
   }
  },
  {
   "cell_type": "code",
   "execution_count": 8,
   "outputs": [
    {
     "data": {
      "text/plain": "                                 open        high         low       close  \\\ndate                                                                        \n1985-01-01 00:00:00-05:00    0.100747    0.107665    0.096423    0.100314   \n1985-02-01 00:00:00-05:00    0.100314    0.106368    0.085613    0.085613   \n1985-03-01 00:00:00-05:00    0.085613    0.089937    0.071777    0.076533   \n1985-04-01 00:00:00-05:00    0.076533    0.079560    0.067886    0.073506   \n1985-05-01 00:00:00-04:00    0.073506    0.076965    0.058373    0.060102   \n...                               ...         ...         ...         ...   \n2023-05-01 00:00:00-04:00  168.818205  178.860742  163.861762  176.766464   \n2023-06-01 00:00:00-04:00  177.460357  194.217727  176.691391  193.708420   \n2023-07-01 00:00:00-04:00  193.518676  197.962672  186.348366  196.185074   \n2023-08-01 00:00:00-04:00  195.975361  196.464690  171.728106  187.616638   \n2023-09-01 00:00:00-04:00  189.490005  189.979996  173.539993  174.789993   \n\n                               volume  \ndate                                   \n1985-01-01 00:00:00-05:00  6366416000  \n1985-02-01 00:00:00-05:00  4733388800  \n1985-03-01 00:00:00-05:00  4615587200  \n1985-04-01 00:00:00-05:00  2868028800  \n1985-05-01 00:00:00-04:00  4639129600  \n...                               ...  \n2023-05-01 00:00:00-04:00  1275155500  \n2023-06-01 00:00:00-04:00  1297101100  \n2023-07-01 00:00:00-04:00   996066400  \n2023-08-01 00:00:00-04:00  1322439400  \n2023-09-01 00:00:00-04:00  1050179810  \n\n[465 rows x 5 columns]",
      "text/html": "<div>\n<style scoped>\n    .dataframe tbody tr th:only-of-type {\n        vertical-align: middle;\n    }\n\n    .dataframe tbody tr th {\n        vertical-align: top;\n    }\n\n    .dataframe thead th {\n        text-align: right;\n    }\n</style>\n<table border=\"1\" class=\"dataframe\">\n  <thead>\n    <tr style=\"text-align: right;\">\n      <th></th>\n      <th>open</th>\n      <th>high</th>\n      <th>low</th>\n      <th>close</th>\n      <th>volume</th>\n    </tr>\n    <tr>\n      <th>date</th>\n      <th></th>\n      <th></th>\n      <th></th>\n      <th></th>\n      <th></th>\n    </tr>\n  </thead>\n  <tbody>\n    <tr>\n      <th>1985-01-01 00:00:00-05:00</th>\n      <td>0.100747</td>\n      <td>0.107665</td>\n      <td>0.096423</td>\n      <td>0.100314</td>\n      <td>6366416000</td>\n    </tr>\n    <tr>\n      <th>1985-02-01 00:00:00-05:00</th>\n      <td>0.100314</td>\n      <td>0.106368</td>\n      <td>0.085613</td>\n      <td>0.085613</td>\n      <td>4733388800</td>\n    </tr>\n    <tr>\n      <th>1985-03-01 00:00:00-05:00</th>\n      <td>0.085613</td>\n      <td>0.089937</td>\n      <td>0.071777</td>\n      <td>0.076533</td>\n      <td>4615587200</td>\n    </tr>\n    <tr>\n      <th>1985-04-01 00:00:00-05:00</th>\n      <td>0.076533</td>\n      <td>0.079560</td>\n      <td>0.067886</td>\n      <td>0.073506</td>\n      <td>2868028800</td>\n    </tr>\n    <tr>\n      <th>1985-05-01 00:00:00-04:00</th>\n      <td>0.073506</td>\n      <td>0.076965</td>\n      <td>0.058373</td>\n      <td>0.060102</td>\n      <td>4639129600</td>\n    </tr>\n    <tr>\n      <th>...</th>\n      <td>...</td>\n      <td>...</td>\n      <td>...</td>\n      <td>...</td>\n      <td>...</td>\n    </tr>\n    <tr>\n      <th>2023-05-01 00:00:00-04:00</th>\n      <td>168.818205</td>\n      <td>178.860742</td>\n      <td>163.861762</td>\n      <td>176.766464</td>\n      <td>1275155500</td>\n    </tr>\n    <tr>\n      <th>2023-06-01 00:00:00-04:00</th>\n      <td>177.460357</td>\n      <td>194.217727</td>\n      <td>176.691391</td>\n      <td>193.708420</td>\n      <td>1297101100</td>\n    </tr>\n    <tr>\n      <th>2023-07-01 00:00:00-04:00</th>\n      <td>193.518676</td>\n      <td>197.962672</td>\n      <td>186.348366</td>\n      <td>196.185074</td>\n      <td>996066400</td>\n    </tr>\n    <tr>\n      <th>2023-08-01 00:00:00-04:00</th>\n      <td>195.975361</td>\n      <td>196.464690</td>\n      <td>171.728106</td>\n      <td>187.616638</td>\n      <td>1322439400</td>\n    </tr>\n    <tr>\n      <th>2023-09-01 00:00:00-04:00</th>\n      <td>189.490005</td>\n      <td>189.979996</td>\n      <td>173.539993</td>\n      <td>174.789993</td>\n      <td>1050179810</td>\n    </tr>\n  </tbody>\n</table>\n<p>465 rows × 5 columns</p>\n</div>"
     },
     "execution_count": 8,
     "metadata": {},
     "output_type": "execute_result"
    }
   ],
   "source": [
    "helper.get_prices('AAPL', freq='monthly')"
   ],
   "metadata": {
    "collapsed": false,
    "pycharm": {
     "name": "#%%\n"
    },
    "ExecuteTime": {
     "end_time": "2023-09-24T09:59:12.330176Z",
     "start_time": "2023-09-24T09:59:12.122175Z"
    }
   }
  },
  {
   "cell_type": "code",
   "execution_count": 9,
   "metadata": {
    "pycharm": {
     "name": "#%%\n"
    },
    "ExecuteTime": {
     "end_time": "2023-09-24T09:59:13.264236Z",
     "start_time": "2023-09-24T09:59:13.016260Z"
    }
   },
   "outputs": [
    {
     "data": {
      "text/plain": "                                 open        high         low       close  \\\ndate                                                                        \n2023-09-14 09:30:00-04:00  174.000000  174.199997  173.809998  173.872803   \n2023-09-14 09:31:00-04:00  173.869995  174.099701  173.580002  173.660004   \n2023-09-14 09:32:00-04:00  173.654999  174.197006  173.600006  174.179993   \n2023-09-14 09:33:00-04:00  174.179993  174.470001  174.000000  174.339996   \n2023-09-14 09:34:00-04:00  174.309998  174.449997  174.130005  174.272903   \n...                               ...         ...         ...         ...   \n2023-09-22 15:55:00-04:00  174.850006  175.044998  174.800003  174.820007   \n2023-09-22 15:56:00-04:00  174.809998  174.919998  174.800003  174.880005   \n2023-09-22 15:57:00-04:00  174.882004  174.925003  174.839996  174.869995   \n2023-09-22 15:58:00-04:00  174.869995  174.910004  174.820007  174.899994   \n2023-09-22 15:59:00-04:00  174.899994  174.919998  174.710007  174.740005   \n\n                            volume  \ndate                                \n2023-09-14 09:30:00-04:00  2853594  \n2023-09-14 09:31:00-04:00   359059  \n2023-09-14 09:32:00-04:00   359135  \n2023-09-14 09:33:00-04:00   372394  \n2023-09-14 09:34:00-04:00   195746  \n...                            ...  \n2023-09-22 15:55:00-04:00   431956  \n2023-09-22 15:56:00-04:00   207663  \n2023-09-22 15:57:00-04:00   313203  \n2023-09-22 15:58:00-04:00   381540  \n2023-09-22 15:59:00-04:00  1237598  \n\n[2730 rows x 5 columns]",
      "text/html": "<div>\n<style scoped>\n    .dataframe tbody tr th:only-of-type {\n        vertical-align: middle;\n    }\n\n    .dataframe tbody tr th {\n        vertical-align: top;\n    }\n\n    .dataframe thead th {\n        text-align: right;\n    }\n</style>\n<table border=\"1\" class=\"dataframe\">\n  <thead>\n    <tr style=\"text-align: right;\">\n      <th></th>\n      <th>open</th>\n      <th>high</th>\n      <th>low</th>\n      <th>close</th>\n      <th>volume</th>\n    </tr>\n    <tr>\n      <th>date</th>\n      <th></th>\n      <th></th>\n      <th></th>\n      <th></th>\n      <th></th>\n    </tr>\n  </thead>\n  <tbody>\n    <tr>\n      <th>2023-09-14 09:30:00-04:00</th>\n      <td>174.000000</td>\n      <td>174.199997</td>\n      <td>173.809998</td>\n      <td>173.872803</td>\n      <td>2853594</td>\n    </tr>\n    <tr>\n      <th>2023-09-14 09:31:00-04:00</th>\n      <td>173.869995</td>\n      <td>174.099701</td>\n      <td>173.580002</td>\n      <td>173.660004</td>\n      <td>359059</td>\n    </tr>\n    <tr>\n      <th>2023-09-14 09:32:00-04:00</th>\n      <td>173.654999</td>\n      <td>174.197006</td>\n      <td>173.600006</td>\n      <td>174.179993</td>\n      <td>359135</td>\n    </tr>\n    <tr>\n      <th>2023-09-14 09:33:00-04:00</th>\n      <td>174.179993</td>\n      <td>174.470001</td>\n      <td>174.000000</td>\n      <td>174.339996</td>\n      <td>372394</td>\n    </tr>\n    <tr>\n      <th>2023-09-14 09:34:00-04:00</th>\n      <td>174.309998</td>\n      <td>174.449997</td>\n      <td>174.130005</td>\n      <td>174.272903</td>\n      <td>195746</td>\n    </tr>\n    <tr>\n      <th>...</th>\n      <td>...</td>\n      <td>...</td>\n      <td>...</td>\n      <td>...</td>\n      <td>...</td>\n    </tr>\n    <tr>\n      <th>2023-09-22 15:55:00-04:00</th>\n      <td>174.850006</td>\n      <td>175.044998</td>\n      <td>174.800003</td>\n      <td>174.820007</td>\n      <td>431956</td>\n    </tr>\n    <tr>\n      <th>2023-09-22 15:56:00-04:00</th>\n      <td>174.809998</td>\n      <td>174.919998</td>\n      <td>174.800003</td>\n      <td>174.880005</td>\n      <td>207663</td>\n    </tr>\n    <tr>\n      <th>2023-09-22 15:57:00-04:00</th>\n      <td>174.882004</td>\n      <td>174.925003</td>\n      <td>174.839996</td>\n      <td>174.869995</td>\n      <td>313203</td>\n    </tr>\n    <tr>\n      <th>2023-09-22 15:58:00-04:00</th>\n      <td>174.869995</td>\n      <td>174.910004</td>\n      <td>174.820007</td>\n      <td>174.899994</td>\n      <td>381540</td>\n    </tr>\n    <tr>\n      <th>2023-09-22 15:59:00-04:00</th>\n      <td>174.899994</td>\n      <td>174.919998</td>\n      <td>174.710007</td>\n      <td>174.740005</td>\n      <td>1237598</td>\n    </tr>\n  </tbody>\n</table>\n<p>2730 rows × 5 columns</p>\n</div>"
     },
     "execution_count": 9,
     "metadata": {},
     "output_type": "execute_result"
    }
   ],
   "source": [
    "helper.get_prices('AAPL', freq='1min')"
   ]
  },
  {
   "cell_type": "code",
   "execution_count": 10,
   "outputs": [
    {
     "data": {
      "text/plain": "                                 open        high         low       close  \\\ndate                                                                        \n2023-06-29 09:30:00-04:00  189.080002  189.949997  189.050003  189.809998   \n2023-06-29 09:35:00-04:00  189.830002  189.869995  189.304993  189.660004   \n2023-06-29 09:40:00-04:00  189.649994  189.729996  189.250000  189.330002   \n2023-06-29 09:45:00-04:00  189.329895  189.949997  189.300003  189.850006   \n2023-06-29 09:50:00-04:00  189.840103  189.990005  189.824997  189.955002   \n...                               ...         ...         ...         ...   \n2023-09-22 15:35:00-04:00  175.530899  175.589996  175.440002  175.535004   \n2023-09-22 15:40:00-04:00  175.539993  175.580002  174.949997  174.979996   \n2023-09-22 15:45:00-04:00  174.979996  175.160004  174.779999  174.970001   \n2023-09-22 15:50:00-04:00  174.970001  174.970001  174.619995  174.850006   \n2023-09-22 15:55:00-04:00  174.850006  175.044998  174.710007  174.740005   \n\n                            volume  \ndate                                \n2023-06-29 09:30:00-04:00  3484599  \n2023-06-29 09:35:00-04:00  1252068  \n2023-06-29 09:40:00-04:00   962954  \n2023-06-29 09:45:00-04:00  1121085  \n2023-06-29 09:50:00-04:00   926026  \n...                            ...  \n2023-09-22 15:35:00-04:00   333695  \n2023-09-22 15:40:00-04:00   782093  \n2023-09-22 15:45:00-04:00   901702  \n2023-09-22 15:50:00-04:00  1378722  \n2023-09-22 15:55:00-04:00  2571960  \n\n[4642 rows x 5 columns]",
      "text/html": "<div>\n<style scoped>\n    .dataframe tbody tr th:only-of-type {\n        vertical-align: middle;\n    }\n\n    .dataframe tbody tr th {\n        vertical-align: top;\n    }\n\n    .dataframe thead th {\n        text-align: right;\n    }\n</style>\n<table border=\"1\" class=\"dataframe\">\n  <thead>\n    <tr style=\"text-align: right;\">\n      <th></th>\n      <th>open</th>\n      <th>high</th>\n      <th>low</th>\n      <th>close</th>\n      <th>volume</th>\n    </tr>\n    <tr>\n      <th>date</th>\n      <th></th>\n      <th></th>\n      <th></th>\n      <th></th>\n      <th></th>\n    </tr>\n  </thead>\n  <tbody>\n    <tr>\n      <th>2023-06-29 09:30:00-04:00</th>\n      <td>189.080002</td>\n      <td>189.949997</td>\n      <td>189.050003</td>\n      <td>189.809998</td>\n      <td>3484599</td>\n    </tr>\n    <tr>\n      <th>2023-06-29 09:35:00-04:00</th>\n      <td>189.830002</td>\n      <td>189.869995</td>\n      <td>189.304993</td>\n      <td>189.660004</td>\n      <td>1252068</td>\n    </tr>\n    <tr>\n      <th>2023-06-29 09:40:00-04:00</th>\n      <td>189.649994</td>\n      <td>189.729996</td>\n      <td>189.250000</td>\n      <td>189.330002</td>\n      <td>962954</td>\n    </tr>\n    <tr>\n      <th>2023-06-29 09:45:00-04:00</th>\n      <td>189.329895</td>\n      <td>189.949997</td>\n      <td>189.300003</td>\n      <td>189.850006</td>\n      <td>1121085</td>\n    </tr>\n    <tr>\n      <th>2023-06-29 09:50:00-04:00</th>\n      <td>189.840103</td>\n      <td>189.990005</td>\n      <td>189.824997</td>\n      <td>189.955002</td>\n      <td>926026</td>\n    </tr>\n    <tr>\n      <th>...</th>\n      <td>...</td>\n      <td>...</td>\n      <td>...</td>\n      <td>...</td>\n      <td>...</td>\n    </tr>\n    <tr>\n      <th>2023-09-22 15:35:00-04:00</th>\n      <td>175.530899</td>\n      <td>175.589996</td>\n      <td>175.440002</td>\n      <td>175.535004</td>\n      <td>333695</td>\n    </tr>\n    <tr>\n      <th>2023-09-22 15:40:00-04:00</th>\n      <td>175.539993</td>\n      <td>175.580002</td>\n      <td>174.949997</td>\n      <td>174.979996</td>\n      <td>782093</td>\n    </tr>\n    <tr>\n      <th>2023-09-22 15:45:00-04:00</th>\n      <td>174.979996</td>\n      <td>175.160004</td>\n      <td>174.779999</td>\n      <td>174.970001</td>\n      <td>901702</td>\n    </tr>\n    <tr>\n      <th>2023-09-22 15:50:00-04:00</th>\n      <td>174.970001</td>\n      <td>174.970001</td>\n      <td>174.619995</td>\n      <td>174.850006</td>\n      <td>1378722</td>\n    </tr>\n    <tr>\n      <th>2023-09-22 15:55:00-04:00</th>\n      <td>174.850006</td>\n      <td>175.044998</td>\n      <td>174.710007</td>\n      <td>174.740005</td>\n      <td>2571960</td>\n    </tr>\n  </tbody>\n</table>\n<p>4642 rows × 5 columns</p>\n</div>"
     },
     "execution_count": 10,
     "metadata": {},
     "output_type": "execute_result"
    }
   ],
   "source": [
    "helper.get_prices('AAPL', freq='5min')\n"
   ],
   "metadata": {
    "collapsed": false,
    "pycharm": {
     "name": "#%%\n"
    },
    "ExecuteTime": {
     "end_time": "2023-09-24T09:59:14.321724Z",
     "start_time": "2023-09-24T09:59:14.021050Z"
    }
   }
  },
  {
   "cell_type": "code",
   "execution_count": 11,
   "outputs": [
    {
     "data": {
      "text/plain": "                                 open        high         low       close  \\\ndate                                                                        \n2023-06-29 09:30:00-04:00  189.080002  189.949997  189.050003  189.330002   \n2023-06-29 09:45:00-04:00  189.329895  190.070007  189.300003  189.699295   \n2023-06-29 10:00:00-04:00  189.699997  189.975006  189.059998  189.460007   \n2023-06-29 10:15:00-04:00  189.449997  189.860001  189.350006  189.470001   \n2023-06-29 10:30:00-04:00  189.460007  189.570007  189.110001  189.220001   \n...                               ...         ...         ...         ...   \n2023-09-22 14:45:00-04:00  175.089996  175.429993  175.039093  175.291000   \n2023-09-22 15:00:00-04:00  175.279999  175.889999  175.210007  175.730103   \n2023-09-22 15:15:00-04:00  175.740005  175.990005  175.639999  175.690002   \n2023-09-22 15:30:00-04:00  175.684998  175.785004  174.949997  174.979996   \n2023-09-22 15:45:00-04:00  174.979996  175.160004  174.619995  174.740005   \n\n                            volume  \ndate                                \n2023-06-29 09:30:00-04:00  5699621  \n2023-06-29 09:45:00-04:00  3998254  \n2023-06-29 10:00:00-04:00  2557308  \n2023-06-29 10:15:00-04:00  2050805  \n2023-06-29 10:30:00-04:00  1746009  \n...                            ...  \n2023-09-22 14:45:00-04:00  1007483  \n2023-09-22 15:00:00-04:00  1752057  \n2023-09-22 15:15:00-04:00  1318549  \n2023-09-22 15:30:00-04:00  1472884  \n2023-09-22 15:45:00-04:00  4852384  \n\n[1548 rows x 5 columns]",
      "text/html": "<div>\n<style scoped>\n    .dataframe tbody tr th:only-of-type {\n        vertical-align: middle;\n    }\n\n    .dataframe tbody tr th {\n        vertical-align: top;\n    }\n\n    .dataframe thead th {\n        text-align: right;\n    }\n</style>\n<table border=\"1\" class=\"dataframe\">\n  <thead>\n    <tr style=\"text-align: right;\">\n      <th></th>\n      <th>open</th>\n      <th>high</th>\n      <th>low</th>\n      <th>close</th>\n      <th>volume</th>\n    </tr>\n    <tr>\n      <th>date</th>\n      <th></th>\n      <th></th>\n      <th></th>\n      <th></th>\n      <th></th>\n    </tr>\n  </thead>\n  <tbody>\n    <tr>\n      <th>2023-06-29 09:30:00-04:00</th>\n      <td>189.080002</td>\n      <td>189.949997</td>\n      <td>189.050003</td>\n      <td>189.330002</td>\n      <td>5699621</td>\n    </tr>\n    <tr>\n      <th>2023-06-29 09:45:00-04:00</th>\n      <td>189.329895</td>\n      <td>190.070007</td>\n      <td>189.300003</td>\n      <td>189.699295</td>\n      <td>3998254</td>\n    </tr>\n    <tr>\n      <th>2023-06-29 10:00:00-04:00</th>\n      <td>189.699997</td>\n      <td>189.975006</td>\n      <td>189.059998</td>\n      <td>189.460007</td>\n      <td>2557308</td>\n    </tr>\n    <tr>\n      <th>2023-06-29 10:15:00-04:00</th>\n      <td>189.449997</td>\n      <td>189.860001</td>\n      <td>189.350006</td>\n      <td>189.470001</td>\n      <td>2050805</td>\n    </tr>\n    <tr>\n      <th>2023-06-29 10:30:00-04:00</th>\n      <td>189.460007</td>\n      <td>189.570007</td>\n      <td>189.110001</td>\n      <td>189.220001</td>\n      <td>1746009</td>\n    </tr>\n    <tr>\n      <th>...</th>\n      <td>...</td>\n      <td>...</td>\n      <td>...</td>\n      <td>...</td>\n      <td>...</td>\n    </tr>\n    <tr>\n      <th>2023-09-22 14:45:00-04:00</th>\n      <td>175.089996</td>\n      <td>175.429993</td>\n      <td>175.039093</td>\n      <td>175.291000</td>\n      <td>1007483</td>\n    </tr>\n    <tr>\n      <th>2023-09-22 15:00:00-04:00</th>\n      <td>175.279999</td>\n      <td>175.889999</td>\n      <td>175.210007</td>\n      <td>175.730103</td>\n      <td>1752057</td>\n    </tr>\n    <tr>\n      <th>2023-09-22 15:15:00-04:00</th>\n      <td>175.740005</td>\n      <td>175.990005</td>\n      <td>175.639999</td>\n      <td>175.690002</td>\n      <td>1318549</td>\n    </tr>\n    <tr>\n      <th>2023-09-22 15:30:00-04:00</th>\n      <td>175.684998</td>\n      <td>175.785004</td>\n      <td>174.949997</td>\n      <td>174.979996</td>\n      <td>1472884</td>\n    </tr>\n    <tr>\n      <th>2023-09-22 15:45:00-04:00</th>\n      <td>174.979996</td>\n      <td>175.160004</td>\n      <td>174.619995</td>\n      <td>174.740005</td>\n      <td>4852384</td>\n    </tr>\n  </tbody>\n</table>\n<p>1548 rows × 5 columns</p>\n</div>"
     },
     "execution_count": 11,
     "metadata": {},
     "output_type": "execute_result"
    }
   ],
   "source": [
    "helper.get_prices('AAPL', freq='15min')\n"
   ],
   "metadata": {
    "collapsed": false,
    "pycharm": {
     "name": "#%%\n"
    },
    "ExecuteTime": {
     "end_time": "2023-09-24T09:59:15.173313Z",
     "start_time": "2023-09-24T09:59:14.950970Z"
    }
   }
  },
  {
   "cell_type": "code",
   "execution_count": 12,
   "outputs": [
    {
     "data": {
      "text/plain": "                                 open        high         low       close  \\\ndate                                                                        \n2023-06-29 09:30:00-04:00  189.080002  190.070007  189.050003  189.470001   \n2023-06-29 10:30:00-04:00  189.460007  189.899994  188.940002  189.889999   \n2023-06-29 11:30:00-04:00  189.889999  189.910004  189.210007  189.675003   \n2023-06-29 12:30:00-04:00  189.669998  189.720001  189.110001  189.490005   \n2023-06-29 13:30:00-04:00  189.490005  189.729996  189.179993  189.650604   \n...                               ...         ...         ...         ...   \n2023-09-22 11:30:00-04:00  176.380005  176.750000  175.940002  176.610001   \n2023-09-22 12:30:00-04:00  176.619995  177.078995  175.580002  175.699997   \n2023-09-22 13:30:00-04:00  175.679993  175.679993  174.960007  175.130005   \n2023-09-22 14:30:00-04:00  175.119995  175.990005  174.809998  175.690002   \n2023-09-22 15:30:00-04:00  175.684998  175.785004  174.619995  174.789993   \n\n                             volume  \ndate                                 \n2023-06-29 09:30:00-04:00  14305988  \n2023-06-29 10:30:00-04:00   5669341  \n2023-06-29 11:30:00-04:00   3916975  \n2023-06-29 12:30:00-04:00   2849181  \n2023-06-29 13:30:00-04:00   3426306  \n...                             ...  \n2023-09-22 11:30:00-04:00   5882339  \n2023-09-22 12:30:00-04:00   6590040  \n2023-09-22 13:30:00-04:00   5107772  \n2023-09-22 14:30:00-04:00   5389547  \n2023-09-22 15:30:00-04:00   6325268  \n\n[416 rows x 5 columns]",
      "text/html": "<div>\n<style scoped>\n    .dataframe tbody tr th:only-of-type {\n        vertical-align: middle;\n    }\n\n    .dataframe tbody tr th {\n        vertical-align: top;\n    }\n\n    .dataframe thead th {\n        text-align: right;\n    }\n</style>\n<table border=\"1\" class=\"dataframe\">\n  <thead>\n    <tr style=\"text-align: right;\">\n      <th></th>\n      <th>open</th>\n      <th>high</th>\n      <th>low</th>\n      <th>close</th>\n      <th>volume</th>\n    </tr>\n    <tr>\n      <th>date</th>\n      <th></th>\n      <th></th>\n      <th></th>\n      <th></th>\n      <th></th>\n    </tr>\n  </thead>\n  <tbody>\n    <tr>\n      <th>2023-06-29 09:30:00-04:00</th>\n      <td>189.080002</td>\n      <td>190.070007</td>\n      <td>189.050003</td>\n      <td>189.470001</td>\n      <td>14305988</td>\n    </tr>\n    <tr>\n      <th>2023-06-29 10:30:00-04:00</th>\n      <td>189.460007</td>\n      <td>189.899994</td>\n      <td>188.940002</td>\n      <td>189.889999</td>\n      <td>5669341</td>\n    </tr>\n    <tr>\n      <th>2023-06-29 11:30:00-04:00</th>\n      <td>189.889999</td>\n      <td>189.910004</td>\n      <td>189.210007</td>\n      <td>189.675003</td>\n      <td>3916975</td>\n    </tr>\n    <tr>\n      <th>2023-06-29 12:30:00-04:00</th>\n      <td>189.669998</td>\n      <td>189.720001</td>\n      <td>189.110001</td>\n      <td>189.490005</td>\n      <td>2849181</td>\n    </tr>\n    <tr>\n      <th>2023-06-29 13:30:00-04:00</th>\n      <td>189.490005</td>\n      <td>189.729996</td>\n      <td>189.179993</td>\n      <td>189.650604</td>\n      <td>3426306</td>\n    </tr>\n    <tr>\n      <th>...</th>\n      <td>...</td>\n      <td>...</td>\n      <td>...</td>\n      <td>...</td>\n      <td>...</td>\n    </tr>\n    <tr>\n      <th>2023-09-22 11:30:00-04:00</th>\n      <td>176.380005</td>\n      <td>176.750000</td>\n      <td>175.940002</td>\n      <td>176.610001</td>\n      <td>5882339</td>\n    </tr>\n    <tr>\n      <th>2023-09-22 12:30:00-04:00</th>\n      <td>176.619995</td>\n      <td>177.078995</td>\n      <td>175.580002</td>\n      <td>175.699997</td>\n      <td>6590040</td>\n    </tr>\n    <tr>\n      <th>2023-09-22 13:30:00-04:00</th>\n      <td>175.679993</td>\n      <td>175.679993</td>\n      <td>174.960007</td>\n      <td>175.130005</td>\n      <td>5107772</td>\n    </tr>\n    <tr>\n      <th>2023-09-22 14:30:00-04:00</th>\n      <td>175.119995</td>\n      <td>175.990005</td>\n      <td>174.809998</td>\n      <td>175.690002</td>\n      <td>5389547</td>\n    </tr>\n    <tr>\n      <th>2023-09-22 15:30:00-04:00</th>\n      <td>175.684998</td>\n      <td>175.785004</td>\n      <td>174.619995</td>\n      <td>174.789993</td>\n      <td>6325268</td>\n    </tr>\n  </tbody>\n</table>\n<p>416 rows × 5 columns</p>\n</div>"
     },
     "execution_count": 12,
     "metadata": {},
     "output_type": "execute_result"
    }
   ],
   "source": [
    "helper.get_prices('AAPL', freq='1hour')"
   ],
   "metadata": {
    "collapsed": false,
    "pycharm": {
     "name": "#%%\n"
    },
    "ExecuteTime": {
     "end_time": "2023-09-24T09:59:15.880083Z",
     "start_time": "2023-09-24T09:59:15.712650Z"
    }
   }
  },
  {
   "cell_type": "code",
   "execution_count": null,
   "outputs": [],
   "source": [],
   "metadata": {
    "collapsed": false,
    "pycharm": {
     "name": "#%%\n"
    }
   }
  }
 ],
 "metadata": {
  "kernelspec": {
   "display_name": "Python 3 (ipykernel)",
   "language": "python",
   "name": "python3"
  },
  "language_info": {
   "codemirror_mode": {
    "name": "ipython",
    "version": 3
   },
   "file_extension": ".py",
   "mimetype": "text/x-python",
   "name": "python",
   "nbconvert_exporter": "python",
   "pygments_lexer": "ipython3",
   "version": "3.8.13"
  }
 },
 "nbformat": 4,
 "nbformat_minor": 1
}
