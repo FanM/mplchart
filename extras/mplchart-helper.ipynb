{
 "cells": [
  {
   "cell_type": "markdown",
   "source": [
    "# Fetching prices with the helper module (deprecated)"
   ],
   "metadata": {
    "collapsed": false,
    "pycharm": {
     "name": "#%% md\n"
    }
   }
  },
  {
   "cell_type": "code",
   "execution_count": 1,
   "outputs": [
    {
     "name": "stderr",
     "output_type": "stream",
     "text": [
      "/var/folders/s8/jtb72jcx6739t9rmc8pl26980000gn/T/ipykernel_85930/979739564.py:3: DeprecationWarning: The helper module is deprecated\n",
      "  from mplchart import helper\n"
     ]
    }
   ],
   "source": [
    "import warnings\n",
    "\n",
    "from mplchart import helper\n",
    "\n",
    "warnings.filterwarnings(\"ignore\", module=\"yfinance\")\n"
   ],
   "metadata": {
    "collapsed": false,
    "pycharm": {
     "name": "#%%\n"
    },
    "ExecuteTime": {
     "end_time": "2023-09-03T09:35:32.501114Z",
     "start_time": "2023-09-03T09:35:32.208350Z"
    }
   }
  },
  {
   "cell_type": "code",
   "execution_count": 2,
   "metadata": {
    "pycharm": {
     "name": "#%%\n"
    },
    "ExecuteTime": {
     "end_time": "2023-09-03T09:35:33.431504Z",
     "start_time": "2023-09-03T09:35:33.409194Z"
    }
   },
   "outputs": [
    {
     "data": {
      "text/plain": "['list_cache', 'clear_cache', 'map_frequency', 'maximum_period', 'get_prices']"
     },
     "execution_count": 2,
     "metadata": {},
     "output_type": "execute_result"
    }
   ],
   "source": [
    "[k for k, v in vars(helper).items() if callable(v)]"
   ]
  },
  {
   "cell_type": "code",
   "execution_count": 3,
   "metadata": {
    "pycharm": {
     "name": "#%%\n"
    },
    "ExecuteTime": {
     "end_time": "2023-09-03T09:35:33.987988Z",
     "start_time": "2023-09-03T09:35:33.971272Z"
    }
   },
   "outputs": [
    {
     "name": "stdout",
     "output_type": "stream",
     "text": [
      "mplchart.helper.AAPL.1d.max.csv\n",
      "mplchart.helper.AAPL.1mo.max.csv\n",
      "mplchart.helper.AAPL.1wk.max.csv\n"
     ]
    }
   ],
   "source": [
    "for file in helper.list_cache():\n",
    "    print(file.name)\n"
   ]
  },
  {
   "cell_type": "code",
   "execution_count": 4,
   "metadata": {
    "pycharm": {
     "name": "#%%\n"
    },
    "ExecuteTime": {
     "end_time": "2023-09-03T09:35:34.708765Z",
     "start_time": "2023-09-03T09:35:34.688790Z"
    }
   },
   "outputs": [
    {
     "name": "stdout",
     "output_type": "stream",
     "text": [
      "Deleting mplchart.helper.AAPL.1d.max.csv ...\n",
      "Deleting mplchart.helper.AAPL.1mo.max.csv ...\n",
      "Deleting mplchart.helper.AAPL.1wk.max.csv ...\n"
     ]
    }
   ],
   "source": [
    "helper.clear_cache(verbose=True)\n"
   ]
  },
  {
   "cell_type": "code",
   "execution_count": 5,
   "outputs": [
    {
     "data": {
      "text/plain": "                                 open        high         low       close  \\\ndate                                                                        \n1980-12-12 00:00:00-05:00    0.099450    0.099882    0.099450    0.099450   \n1980-12-15 00:00:00-05:00    0.094694    0.094694    0.094261    0.094261   \n1980-12-16 00:00:00-05:00    0.087775    0.087775    0.087343    0.087343   \n1980-12-17 00:00:00-05:00    0.089504    0.089937    0.089504    0.089504   \n1980-12-18 00:00:00-05:00    0.092099    0.092532    0.092099    0.092099   \n...                               ...         ...         ...         ...   \n2023-08-28 00:00:00-04:00  180.089996  180.589996  178.550003  180.190002   \n2023-08-29 00:00:00-04:00  179.699997  184.899994  179.500000  184.119995   \n2023-08-30 00:00:00-04:00  184.940002  187.850006  184.740005  187.649994   \n2023-08-31 00:00:00-04:00  187.839996  189.119995  187.479996  187.869995   \n2023-09-01 00:00:00-04:00  189.490005  189.919998  188.279999  189.460007   \n\n                              volume  \ndate                                  \n1980-12-12 00:00:00-05:00  469033600  \n1980-12-15 00:00:00-05:00  175884800  \n1980-12-16 00:00:00-05:00  105728000  \n1980-12-17 00:00:00-05:00   86441600  \n1980-12-18 00:00:00-05:00   73449600  \n...                              ...  \n2023-08-28 00:00:00-04:00   43820700  \n2023-08-29 00:00:00-04:00   53003900  \n2023-08-30 00:00:00-04:00   60813900  \n2023-08-31 00:00:00-04:00   60794500  \n2023-09-01 00:00:00-04:00   45732600  \n\n[10771 rows x 5 columns]",
      "text/html": "<div>\n<style scoped>\n    .dataframe tbody tr th:only-of-type {\n        vertical-align: middle;\n    }\n\n    .dataframe tbody tr th {\n        vertical-align: top;\n    }\n\n    .dataframe thead th {\n        text-align: right;\n    }\n</style>\n<table border=\"1\" class=\"dataframe\">\n  <thead>\n    <tr style=\"text-align: right;\">\n      <th></th>\n      <th>open</th>\n      <th>high</th>\n      <th>low</th>\n      <th>close</th>\n      <th>volume</th>\n    </tr>\n    <tr>\n      <th>date</th>\n      <th></th>\n      <th></th>\n      <th></th>\n      <th></th>\n      <th></th>\n    </tr>\n  </thead>\n  <tbody>\n    <tr>\n      <th>1980-12-12 00:00:00-05:00</th>\n      <td>0.099450</td>\n      <td>0.099882</td>\n      <td>0.099450</td>\n      <td>0.099450</td>\n      <td>469033600</td>\n    </tr>\n    <tr>\n      <th>1980-12-15 00:00:00-05:00</th>\n      <td>0.094694</td>\n      <td>0.094694</td>\n      <td>0.094261</td>\n      <td>0.094261</td>\n      <td>175884800</td>\n    </tr>\n    <tr>\n      <th>1980-12-16 00:00:00-05:00</th>\n      <td>0.087775</td>\n      <td>0.087775</td>\n      <td>0.087343</td>\n      <td>0.087343</td>\n      <td>105728000</td>\n    </tr>\n    <tr>\n      <th>1980-12-17 00:00:00-05:00</th>\n      <td>0.089504</td>\n      <td>0.089937</td>\n      <td>0.089504</td>\n      <td>0.089504</td>\n      <td>86441600</td>\n    </tr>\n    <tr>\n      <th>1980-12-18 00:00:00-05:00</th>\n      <td>0.092099</td>\n      <td>0.092532</td>\n      <td>0.092099</td>\n      <td>0.092099</td>\n      <td>73449600</td>\n    </tr>\n    <tr>\n      <th>...</th>\n      <td>...</td>\n      <td>...</td>\n      <td>...</td>\n      <td>...</td>\n      <td>...</td>\n    </tr>\n    <tr>\n      <th>2023-08-28 00:00:00-04:00</th>\n      <td>180.089996</td>\n      <td>180.589996</td>\n      <td>178.550003</td>\n      <td>180.190002</td>\n      <td>43820700</td>\n    </tr>\n    <tr>\n      <th>2023-08-29 00:00:00-04:00</th>\n      <td>179.699997</td>\n      <td>184.899994</td>\n      <td>179.500000</td>\n      <td>184.119995</td>\n      <td>53003900</td>\n    </tr>\n    <tr>\n      <th>2023-08-30 00:00:00-04:00</th>\n      <td>184.940002</td>\n      <td>187.850006</td>\n      <td>184.740005</td>\n      <td>187.649994</td>\n      <td>60813900</td>\n    </tr>\n    <tr>\n      <th>2023-08-31 00:00:00-04:00</th>\n      <td>187.839996</td>\n      <td>189.119995</td>\n      <td>187.479996</td>\n      <td>187.869995</td>\n      <td>60794500</td>\n    </tr>\n    <tr>\n      <th>2023-09-01 00:00:00-04:00</th>\n      <td>189.490005</td>\n      <td>189.919998</td>\n      <td>188.279999</td>\n      <td>189.460007</td>\n      <td>45732600</td>\n    </tr>\n  </tbody>\n</table>\n<p>10771 rows × 5 columns</p>\n</div>"
     },
     "execution_count": 5,
     "metadata": {},
     "output_type": "execute_result"
    }
   ],
   "source": [
    "helper.get_prices('AAPL', freq='daily')"
   ],
   "metadata": {
    "collapsed": false,
    "pycharm": {
     "name": "#%%\n"
    },
    "ExecuteTime": {
     "end_time": "2023-09-03T09:35:35.914003Z",
     "start_time": "2023-09-03T09:35:35.336447Z"
    }
   }
  },
  {
   "cell_type": "code",
   "execution_count": 6,
   "outputs": [
    {
     "data": {
      "text/plain": "                                 open        high         low       close  \\\ndate                                                                        \n1980-12-08 00:00:00-05:00    0.099449    0.099882    0.099449    0.099449   \n1980-12-15 00:00:00-05:00    0.094694    0.098152    0.087343    0.097720   \n1980-12-22 00:00:00-05:00    0.102476    0.123231    0.102476    0.122799   \n1980-12-29 00:00:00-05:00    0.124528    0.124960    0.118043    0.119340   \n1981-01-05 00:00:00-05:00    0.117178    0.117178    0.104639    0.110259   \n...                               ...         ...         ...         ...   \n2023-07-31 00:00:00-04:00  195.795601  196.464696  181.674670  181.744583   \n2023-08-07 00:00:00-04:00  181.884391  182.883042  176.311914  177.550232   \n2023-08-14 00:00:00-04:00  177.970001  179.690002  171.960007  174.490005   \n2023-08-21 00:00:00-04:00  175.070007  181.550003  173.740005  178.610001   \n2023-08-28 00:00:00-04:00  180.089996  189.919998  178.550003  189.460007   \n\n                              volume  \ndate                                  \n1980-12-08 00:00:00-05:00  469033600  \n1980-12-15 00:00:00-05:00  490134400  \n1980-12-22 00:00:00-05:00  187891200  \n1980-12-29 00:00:00-05:00  219452800  \n1981-01-05 00:00:00-05:00  197904000  \n...                              ...  \n2023-07-31 00:00:00-04:00  301423400  \n2023-08-07 00:00:00-04:00  332452600  \n2023-08-14 00:00:00-04:00  261440200  \n2023-08-21 00:00:00-04:00  247514300  \n2023-08-28 00:00:00-04:00  306400709  \n\n[2230 rows x 5 columns]",
      "text/html": "<div>\n<style scoped>\n    .dataframe tbody tr th:only-of-type {\n        vertical-align: middle;\n    }\n\n    .dataframe tbody tr th {\n        vertical-align: top;\n    }\n\n    .dataframe thead th {\n        text-align: right;\n    }\n</style>\n<table border=\"1\" class=\"dataframe\">\n  <thead>\n    <tr style=\"text-align: right;\">\n      <th></th>\n      <th>open</th>\n      <th>high</th>\n      <th>low</th>\n      <th>close</th>\n      <th>volume</th>\n    </tr>\n    <tr>\n      <th>date</th>\n      <th></th>\n      <th></th>\n      <th></th>\n      <th></th>\n      <th></th>\n    </tr>\n  </thead>\n  <tbody>\n    <tr>\n      <th>1980-12-08 00:00:00-05:00</th>\n      <td>0.099449</td>\n      <td>0.099882</td>\n      <td>0.099449</td>\n      <td>0.099449</td>\n      <td>469033600</td>\n    </tr>\n    <tr>\n      <th>1980-12-15 00:00:00-05:00</th>\n      <td>0.094694</td>\n      <td>0.098152</td>\n      <td>0.087343</td>\n      <td>0.097720</td>\n      <td>490134400</td>\n    </tr>\n    <tr>\n      <th>1980-12-22 00:00:00-05:00</th>\n      <td>0.102476</td>\n      <td>0.123231</td>\n      <td>0.102476</td>\n      <td>0.122799</td>\n      <td>187891200</td>\n    </tr>\n    <tr>\n      <th>1980-12-29 00:00:00-05:00</th>\n      <td>0.124528</td>\n      <td>0.124960</td>\n      <td>0.118043</td>\n      <td>0.119340</td>\n      <td>219452800</td>\n    </tr>\n    <tr>\n      <th>1981-01-05 00:00:00-05:00</th>\n      <td>0.117178</td>\n      <td>0.117178</td>\n      <td>0.104639</td>\n      <td>0.110259</td>\n      <td>197904000</td>\n    </tr>\n    <tr>\n      <th>...</th>\n      <td>...</td>\n      <td>...</td>\n      <td>...</td>\n      <td>...</td>\n      <td>...</td>\n    </tr>\n    <tr>\n      <th>2023-07-31 00:00:00-04:00</th>\n      <td>195.795601</td>\n      <td>196.464696</td>\n      <td>181.674670</td>\n      <td>181.744583</td>\n      <td>301423400</td>\n    </tr>\n    <tr>\n      <th>2023-08-07 00:00:00-04:00</th>\n      <td>181.884391</td>\n      <td>182.883042</td>\n      <td>176.311914</td>\n      <td>177.550232</td>\n      <td>332452600</td>\n    </tr>\n    <tr>\n      <th>2023-08-14 00:00:00-04:00</th>\n      <td>177.970001</td>\n      <td>179.690002</td>\n      <td>171.960007</td>\n      <td>174.490005</td>\n      <td>261440200</td>\n    </tr>\n    <tr>\n      <th>2023-08-21 00:00:00-04:00</th>\n      <td>175.070007</td>\n      <td>181.550003</td>\n      <td>173.740005</td>\n      <td>178.610001</td>\n      <td>247514300</td>\n    </tr>\n    <tr>\n      <th>2023-08-28 00:00:00-04:00</th>\n      <td>180.089996</td>\n      <td>189.919998</td>\n      <td>178.550003</td>\n      <td>189.460007</td>\n      <td>306400709</td>\n    </tr>\n  </tbody>\n</table>\n<p>2230 rows × 5 columns</p>\n</div>"
     },
     "execution_count": 6,
     "metadata": {},
     "output_type": "execute_result"
    }
   ],
   "source": [
    "helper.get_prices('AAPL', freq='weekly')"
   ],
   "metadata": {
    "collapsed": false,
    "pycharm": {
     "name": "#%%\n"
    },
    "ExecuteTime": {
     "end_time": "2023-09-03T09:35:36.691799Z",
     "start_time": "2023-09-03T09:35:36.333712Z"
    }
   }
  },
  {
   "cell_type": "code",
   "execution_count": 7,
   "outputs": [
    {
     "data": {
      "text/plain": "                                 open        high         low       close  \\\ndate                                                                        \n1985-01-01 00:00:00-05:00    0.100747    0.107665    0.096423    0.100314   \n1985-02-01 00:00:00-05:00    0.100314    0.106368    0.085613    0.085613   \n1985-03-01 00:00:00-05:00    0.085613    0.089937    0.071777    0.076533   \n1985-04-01 00:00:00-05:00    0.076533    0.079560    0.067886    0.073506   \n1985-05-01 00:00:00-04:00    0.073506    0.076965    0.058373    0.060102   \n...                               ...         ...         ...         ...   \n2023-05-01 00:00:00-04:00  168.818205  178.860742  163.861762  176.766464   \n2023-06-01 00:00:00-04:00  177.460357  194.217727  176.691391  193.708420   \n2023-07-01 00:00:00-04:00  193.518676  197.962672  186.348366  196.185074   \n2023-08-01 00:00:00-04:00  195.975361  196.464690  171.728106  187.616638   \n2023-09-01 00:00:00-04:00  189.490005  189.919998  188.279999  189.460007   \n\n                               volume  \ndate                                   \n1985-01-01 00:00:00-05:00  6366416000  \n1985-02-01 00:00:00-05:00  4733388800  \n1985-03-01 00:00:00-05:00  4615587200  \n1985-04-01 00:00:00-05:00  2868028800  \n1985-05-01 00:00:00-04:00  4639129600  \n...                               ...  \n2023-05-01 00:00:00-04:00  1275155500  \n2023-06-01 00:00:00-04:00  1297101100  \n2023-07-01 00:00:00-04:00   996066400  \n2023-08-01 00:00:00-04:00  1322439400  \n2023-09-01 00:00:00-04:00    45732600  \n\n[465 rows x 5 columns]",
      "text/html": "<div>\n<style scoped>\n    .dataframe tbody tr th:only-of-type {\n        vertical-align: middle;\n    }\n\n    .dataframe tbody tr th {\n        vertical-align: top;\n    }\n\n    .dataframe thead th {\n        text-align: right;\n    }\n</style>\n<table border=\"1\" class=\"dataframe\">\n  <thead>\n    <tr style=\"text-align: right;\">\n      <th></th>\n      <th>open</th>\n      <th>high</th>\n      <th>low</th>\n      <th>close</th>\n      <th>volume</th>\n    </tr>\n    <tr>\n      <th>date</th>\n      <th></th>\n      <th></th>\n      <th></th>\n      <th></th>\n      <th></th>\n    </tr>\n  </thead>\n  <tbody>\n    <tr>\n      <th>1985-01-01 00:00:00-05:00</th>\n      <td>0.100747</td>\n      <td>0.107665</td>\n      <td>0.096423</td>\n      <td>0.100314</td>\n      <td>6366416000</td>\n    </tr>\n    <tr>\n      <th>1985-02-01 00:00:00-05:00</th>\n      <td>0.100314</td>\n      <td>0.106368</td>\n      <td>0.085613</td>\n      <td>0.085613</td>\n      <td>4733388800</td>\n    </tr>\n    <tr>\n      <th>1985-03-01 00:00:00-05:00</th>\n      <td>0.085613</td>\n      <td>0.089937</td>\n      <td>0.071777</td>\n      <td>0.076533</td>\n      <td>4615587200</td>\n    </tr>\n    <tr>\n      <th>1985-04-01 00:00:00-05:00</th>\n      <td>0.076533</td>\n      <td>0.079560</td>\n      <td>0.067886</td>\n      <td>0.073506</td>\n      <td>2868028800</td>\n    </tr>\n    <tr>\n      <th>1985-05-01 00:00:00-04:00</th>\n      <td>0.073506</td>\n      <td>0.076965</td>\n      <td>0.058373</td>\n      <td>0.060102</td>\n      <td>4639129600</td>\n    </tr>\n    <tr>\n      <th>...</th>\n      <td>...</td>\n      <td>...</td>\n      <td>...</td>\n      <td>...</td>\n      <td>...</td>\n    </tr>\n    <tr>\n      <th>2023-05-01 00:00:00-04:00</th>\n      <td>168.818205</td>\n      <td>178.860742</td>\n      <td>163.861762</td>\n      <td>176.766464</td>\n      <td>1275155500</td>\n    </tr>\n    <tr>\n      <th>2023-06-01 00:00:00-04:00</th>\n      <td>177.460357</td>\n      <td>194.217727</td>\n      <td>176.691391</td>\n      <td>193.708420</td>\n      <td>1297101100</td>\n    </tr>\n    <tr>\n      <th>2023-07-01 00:00:00-04:00</th>\n      <td>193.518676</td>\n      <td>197.962672</td>\n      <td>186.348366</td>\n      <td>196.185074</td>\n      <td>996066400</td>\n    </tr>\n    <tr>\n      <th>2023-08-01 00:00:00-04:00</th>\n      <td>195.975361</td>\n      <td>196.464690</td>\n      <td>171.728106</td>\n      <td>187.616638</td>\n      <td>1322439400</td>\n    </tr>\n    <tr>\n      <th>2023-09-01 00:00:00-04:00</th>\n      <td>189.490005</td>\n      <td>189.919998</td>\n      <td>188.279999</td>\n      <td>189.460007</td>\n      <td>45732600</td>\n    </tr>\n  </tbody>\n</table>\n<p>465 rows × 5 columns</p>\n</div>"
     },
     "execution_count": 7,
     "metadata": {},
     "output_type": "execute_result"
    }
   ],
   "source": [
    "helper.get_prices('AAPL', freq='monthly')"
   ],
   "metadata": {
    "collapsed": false,
    "pycharm": {
     "name": "#%%\n"
    },
    "ExecuteTime": {
     "end_time": "2023-09-03T09:35:37.309589Z",
     "start_time": "2023-09-03T09:35:37.049088Z"
    }
   }
  },
  {
   "cell_type": "code",
   "execution_count": 8,
   "metadata": {
    "pycharm": {
     "name": "#%%\n"
    },
    "ExecuteTime": {
     "end_time": "2023-09-03T09:35:38.125131Z",
     "start_time": "2023-09-03T09:35:37.763806Z"
    }
   },
   "outputs": [
    {
     "data": {
      "text/plain": "                                 open        high         low       close  \\\ndate                                                                        \n2023-08-24 09:30:00-04:00  180.520004  180.770004  180.410004  180.520004   \n2023-08-24 09:31:00-04:00  180.529999  181.100006  180.449997  181.070007   \n2023-08-24 09:32:00-04:00  181.070007  181.104004  180.339996  180.349899   \n2023-08-24 09:33:00-04:00  180.350006  180.369995  179.940002  180.070007   \n2023-08-24 09:34:00-04:00  180.080002  180.210007  179.690002  179.729996   \n...                               ...         ...         ...         ...   \n2023-09-01 15:55:00-04:00  189.380005  189.490005  189.369995  189.485001   \n2023-09-01 15:56:00-04:00  189.485001  189.509995  189.449997  189.485001   \n2023-09-01 15:57:00-04:00  189.485001  189.539993  189.440002  189.464996   \n2023-09-01 15:58:00-04:00  189.464996  189.479996  189.440002  189.460007   \n2023-09-01 15:59:00-04:00  189.460007  189.490005  189.279999  189.470001   \n\n                            volume  \ndate                                \n2023-08-24 09:30:00-04:00  2279526  \n2023-08-24 09:31:00-04:00   308629  \n2023-08-24 09:32:00-04:00   280874  \n2023-08-24 09:33:00-04:00   438928  \n2023-08-24 09:34:00-04:00   290806  \n...                            ...  \n2023-09-01 15:55:00-04:00   284407  \n2023-09-01 15:56:00-04:00   250616  \n2023-09-01 15:57:00-04:00   341906  \n2023-09-01 15:58:00-04:00   264890  \n2023-09-01 15:59:00-04:00   808678  \n\n[2722 rows x 5 columns]",
      "text/html": "<div>\n<style scoped>\n    .dataframe tbody tr th:only-of-type {\n        vertical-align: middle;\n    }\n\n    .dataframe tbody tr th {\n        vertical-align: top;\n    }\n\n    .dataframe thead th {\n        text-align: right;\n    }\n</style>\n<table border=\"1\" class=\"dataframe\">\n  <thead>\n    <tr style=\"text-align: right;\">\n      <th></th>\n      <th>open</th>\n      <th>high</th>\n      <th>low</th>\n      <th>close</th>\n      <th>volume</th>\n    </tr>\n    <tr>\n      <th>date</th>\n      <th></th>\n      <th></th>\n      <th></th>\n      <th></th>\n      <th></th>\n    </tr>\n  </thead>\n  <tbody>\n    <tr>\n      <th>2023-08-24 09:30:00-04:00</th>\n      <td>180.520004</td>\n      <td>180.770004</td>\n      <td>180.410004</td>\n      <td>180.520004</td>\n      <td>2279526</td>\n    </tr>\n    <tr>\n      <th>2023-08-24 09:31:00-04:00</th>\n      <td>180.529999</td>\n      <td>181.100006</td>\n      <td>180.449997</td>\n      <td>181.070007</td>\n      <td>308629</td>\n    </tr>\n    <tr>\n      <th>2023-08-24 09:32:00-04:00</th>\n      <td>181.070007</td>\n      <td>181.104004</td>\n      <td>180.339996</td>\n      <td>180.349899</td>\n      <td>280874</td>\n    </tr>\n    <tr>\n      <th>2023-08-24 09:33:00-04:00</th>\n      <td>180.350006</td>\n      <td>180.369995</td>\n      <td>179.940002</td>\n      <td>180.070007</td>\n      <td>438928</td>\n    </tr>\n    <tr>\n      <th>2023-08-24 09:34:00-04:00</th>\n      <td>180.080002</td>\n      <td>180.210007</td>\n      <td>179.690002</td>\n      <td>179.729996</td>\n      <td>290806</td>\n    </tr>\n    <tr>\n      <th>...</th>\n      <td>...</td>\n      <td>...</td>\n      <td>...</td>\n      <td>...</td>\n      <td>...</td>\n    </tr>\n    <tr>\n      <th>2023-09-01 15:55:00-04:00</th>\n      <td>189.380005</td>\n      <td>189.490005</td>\n      <td>189.369995</td>\n      <td>189.485001</td>\n      <td>284407</td>\n    </tr>\n    <tr>\n      <th>2023-09-01 15:56:00-04:00</th>\n      <td>189.485001</td>\n      <td>189.509995</td>\n      <td>189.449997</td>\n      <td>189.485001</td>\n      <td>250616</td>\n    </tr>\n    <tr>\n      <th>2023-09-01 15:57:00-04:00</th>\n      <td>189.485001</td>\n      <td>189.539993</td>\n      <td>189.440002</td>\n      <td>189.464996</td>\n      <td>341906</td>\n    </tr>\n    <tr>\n      <th>2023-09-01 15:58:00-04:00</th>\n      <td>189.464996</td>\n      <td>189.479996</td>\n      <td>189.440002</td>\n      <td>189.460007</td>\n      <td>264890</td>\n    </tr>\n    <tr>\n      <th>2023-09-01 15:59:00-04:00</th>\n      <td>189.460007</td>\n      <td>189.490005</td>\n      <td>189.279999</td>\n      <td>189.470001</td>\n      <td>808678</td>\n    </tr>\n  </tbody>\n</table>\n<p>2722 rows × 5 columns</p>\n</div>"
     },
     "execution_count": 8,
     "metadata": {},
     "output_type": "execute_result"
    }
   ],
   "source": [
    "helper.get_prices('AAPL', freq='1min')"
   ]
  },
  {
   "cell_type": "code",
   "execution_count": 9,
   "outputs": [
    {
     "data": {
      "text/plain": "                                 open        high         low       close  \\\ndate                                                                        \n2023-06-08 09:30:00-04:00  177.895004  178.750000  177.860001  178.241699   \n2023-06-08 09:35:00-04:00  178.255005  178.710007  178.110001  178.279999   \n2023-06-08 09:40:00-04:00  178.289993  178.639999  178.119995  178.380005   \n2023-06-08 09:45:00-04:00  178.369995  178.369995  177.880005  178.085007   \n2023-06-08 09:50:00-04:00  178.089996  178.335007  177.789993  177.869995   \n...                               ...         ...         ...         ...   \n2023-09-01 15:35:00-04:00  189.100006  189.149994  188.943893  188.970001   \n2023-09-01 15:40:00-04:00  188.979996  189.149994  188.979996  189.059998   \n2023-09-01 15:45:00-04:00  189.070007  189.080002  188.940002  189.059998   \n2023-09-01 15:50:00-04:00  189.039993  189.410004  188.940002  189.369995   \n2023-09-01 15:55:00-04:00  189.380005  189.539993  189.279999  189.470001   \n\n                            volume  \ndate                                \n2023-06-08 09:30:00-04:00  2512451  \n2023-06-08 09:35:00-04:00   821647  \n2023-06-08 09:40:00-04:00   778903  \n2023-06-08 09:45:00-04:00   697402  \n2023-06-08 09:50:00-04:00   773561  \n...                            ...  \n2023-09-01 15:35:00-04:00   390886  \n2023-09-01 15:40:00-04:00   485735  \n2023-09-01 15:45:00-04:00   465070  \n2023-09-01 15:50:00-04:00  1139702  \n2023-09-01 15:55:00-04:00  1950497  \n\n[4642 rows x 5 columns]",
      "text/html": "<div>\n<style scoped>\n    .dataframe tbody tr th:only-of-type {\n        vertical-align: middle;\n    }\n\n    .dataframe tbody tr th {\n        vertical-align: top;\n    }\n\n    .dataframe thead th {\n        text-align: right;\n    }\n</style>\n<table border=\"1\" class=\"dataframe\">\n  <thead>\n    <tr style=\"text-align: right;\">\n      <th></th>\n      <th>open</th>\n      <th>high</th>\n      <th>low</th>\n      <th>close</th>\n      <th>volume</th>\n    </tr>\n    <tr>\n      <th>date</th>\n      <th></th>\n      <th></th>\n      <th></th>\n      <th></th>\n      <th></th>\n    </tr>\n  </thead>\n  <tbody>\n    <tr>\n      <th>2023-06-08 09:30:00-04:00</th>\n      <td>177.895004</td>\n      <td>178.750000</td>\n      <td>177.860001</td>\n      <td>178.241699</td>\n      <td>2512451</td>\n    </tr>\n    <tr>\n      <th>2023-06-08 09:35:00-04:00</th>\n      <td>178.255005</td>\n      <td>178.710007</td>\n      <td>178.110001</td>\n      <td>178.279999</td>\n      <td>821647</td>\n    </tr>\n    <tr>\n      <th>2023-06-08 09:40:00-04:00</th>\n      <td>178.289993</td>\n      <td>178.639999</td>\n      <td>178.119995</td>\n      <td>178.380005</td>\n      <td>778903</td>\n    </tr>\n    <tr>\n      <th>2023-06-08 09:45:00-04:00</th>\n      <td>178.369995</td>\n      <td>178.369995</td>\n      <td>177.880005</td>\n      <td>178.085007</td>\n      <td>697402</td>\n    </tr>\n    <tr>\n      <th>2023-06-08 09:50:00-04:00</th>\n      <td>178.089996</td>\n      <td>178.335007</td>\n      <td>177.789993</td>\n      <td>177.869995</td>\n      <td>773561</td>\n    </tr>\n    <tr>\n      <th>...</th>\n      <td>...</td>\n      <td>...</td>\n      <td>...</td>\n      <td>...</td>\n      <td>...</td>\n    </tr>\n    <tr>\n      <th>2023-09-01 15:35:00-04:00</th>\n      <td>189.100006</td>\n      <td>189.149994</td>\n      <td>188.943893</td>\n      <td>188.970001</td>\n      <td>390886</td>\n    </tr>\n    <tr>\n      <th>2023-09-01 15:40:00-04:00</th>\n      <td>188.979996</td>\n      <td>189.149994</td>\n      <td>188.979996</td>\n      <td>189.059998</td>\n      <td>485735</td>\n    </tr>\n    <tr>\n      <th>2023-09-01 15:45:00-04:00</th>\n      <td>189.070007</td>\n      <td>189.080002</td>\n      <td>188.940002</td>\n      <td>189.059998</td>\n      <td>465070</td>\n    </tr>\n    <tr>\n      <th>2023-09-01 15:50:00-04:00</th>\n      <td>189.039993</td>\n      <td>189.410004</td>\n      <td>188.940002</td>\n      <td>189.369995</td>\n      <td>1139702</td>\n    </tr>\n    <tr>\n      <th>2023-09-01 15:55:00-04:00</th>\n      <td>189.380005</td>\n      <td>189.539993</td>\n      <td>189.279999</td>\n      <td>189.470001</td>\n      <td>1950497</td>\n    </tr>\n  </tbody>\n</table>\n<p>4642 rows × 5 columns</p>\n</div>"
     },
     "execution_count": 9,
     "metadata": {},
     "output_type": "execute_result"
    }
   ],
   "source": [
    "helper.get_prices('AAPL', freq='5min')\n"
   ],
   "metadata": {
    "collapsed": false,
    "pycharm": {
     "name": "#%%\n"
    },
    "ExecuteTime": {
     "end_time": "2023-09-03T09:35:38.870091Z",
     "start_time": "2023-09-03T09:35:38.518855Z"
    }
   }
  },
  {
   "cell_type": "code",
   "execution_count": 10,
   "outputs": [
    {
     "data": {
      "text/plain": "                                 open        high         low       close  \\\ndate                                                                        \n2023-06-08 09:30:00-04:00  177.895004  178.750000  177.860001  178.380005   \n2023-06-08 09:45:00-04:00  178.369995  178.369995  177.759995  177.854996   \n2023-06-08 10:00:00-04:00  177.770096  178.169998  177.460007  178.099899   \n2023-06-08 10:15:00-04:00  178.100006  178.630005  177.945007  178.470001   \n2023-06-08 10:30:00-04:00  178.490005  178.880005  178.389999  178.650101   \n...                               ...         ...         ...         ...   \n2023-09-01 14:45:00-04:00  188.759995  188.910004  188.720001  188.889893   \n2023-09-01 15:00:00-04:00  188.880005  188.979996  188.750000  188.858002   \n2023-09-01 15:15:00-04:00  188.854996  189.080002  188.750107  189.050003   \n2023-09-01 15:30:00-04:00  189.050003  189.149994  188.943893  189.059998   \n2023-09-01 15:45:00-04:00  189.070007  189.539993  188.940002  189.470001   \n\n                            volume  \ndate                                \n2023-06-08 09:30:00-04:00  4113001  \n2023-06-08 09:45:00-04:00  2374141  \n2023-06-08 10:00:00-04:00  2455042  \n2023-06-08 10:15:00-04:00  1810743  \n2023-06-08 10:30:00-04:00  1629126  \n...                            ...  \n2023-09-01 14:45:00-04:00   770618  \n2023-09-01 15:00:00-04:00   958878  \n2023-09-01 15:15:00-04:00   894098  \n2023-09-01 15:30:00-04:00  1237817  \n2023-09-01 15:45:00-04:00  3555269  \n\n[1548 rows x 5 columns]",
      "text/html": "<div>\n<style scoped>\n    .dataframe tbody tr th:only-of-type {\n        vertical-align: middle;\n    }\n\n    .dataframe tbody tr th {\n        vertical-align: top;\n    }\n\n    .dataframe thead th {\n        text-align: right;\n    }\n</style>\n<table border=\"1\" class=\"dataframe\">\n  <thead>\n    <tr style=\"text-align: right;\">\n      <th></th>\n      <th>open</th>\n      <th>high</th>\n      <th>low</th>\n      <th>close</th>\n      <th>volume</th>\n    </tr>\n    <tr>\n      <th>date</th>\n      <th></th>\n      <th></th>\n      <th></th>\n      <th></th>\n      <th></th>\n    </tr>\n  </thead>\n  <tbody>\n    <tr>\n      <th>2023-06-08 09:30:00-04:00</th>\n      <td>177.895004</td>\n      <td>178.750000</td>\n      <td>177.860001</td>\n      <td>178.380005</td>\n      <td>4113001</td>\n    </tr>\n    <tr>\n      <th>2023-06-08 09:45:00-04:00</th>\n      <td>178.369995</td>\n      <td>178.369995</td>\n      <td>177.759995</td>\n      <td>177.854996</td>\n      <td>2374141</td>\n    </tr>\n    <tr>\n      <th>2023-06-08 10:00:00-04:00</th>\n      <td>177.770096</td>\n      <td>178.169998</td>\n      <td>177.460007</td>\n      <td>178.099899</td>\n      <td>2455042</td>\n    </tr>\n    <tr>\n      <th>2023-06-08 10:15:00-04:00</th>\n      <td>178.100006</td>\n      <td>178.630005</td>\n      <td>177.945007</td>\n      <td>178.470001</td>\n      <td>1810743</td>\n    </tr>\n    <tr>\n      <th>2023-06-08 10:30:00-04:00</th>\n      <td>178.490005</td>\n      <td>178.880005</td>\n      <td>178.389999</td>\n      <td>178.650101</td>\n      <td>1629126</td>\n    </tr>\n    <tr>\n      <th>...</th>\n      <td>...</td>\n      <td>...</td>\n      <td>...</td>\n      <td>...</td>\n      <td>...</td>\n    </tr>\n    <tr>\n      <th>2023-09-01 14:45:00-04:00</th>\n      <td>188.759995</td>\n      <td>188.910004</td>\n      <td>188.720001</td>\n      <td>188.889893</td>\n      <td>770618</td>\n    </tr>\n    <tr>\n      <th>2023-09-01 15:00:00-04:00</th>\n      <td>188.880005</td>\n      <td>188.979996</td>\n      <td>188.750000</td>\n      <td>188.858002</td>\n      <td>958878</td>\n    </tr>\n    <tr>\n      <th>2023-09-01 15:15:00-04:00</th>\n      <td>188.854996</td>\n      <td>189.080002</td>\n      <td>188.750107</td>\n      <td>189.050003</td>\n      <td>894098</td>\n    </tr>\n    <tr>\n      <th>2023-09-01 15:30:00-04:00</th>\n      <td>189.050003</td>\n      <td>189.149994</td>\n      <td>188.943893</td>\n      <td>189.059998</td>\n      <td>1237817</td>\n    </tr>\n    <tr>\n      <th>2023-09-01 15:45:00-04:00</th>\n      <td>189.070007</td>\n      <td>189.539993</td>\n      <td>188.940002</td>\n      <td>189.470001</td>\n      <td>3555269</td>\n    </tr>\n  </tbody>\n</table>\n<p>1548 rows × 5 columns</p>\n</div>"
     },
     "execution_count": 10,
     "metadata": {},
     "output_type": "execute_result"
    }
   ],
   "source": [
    "helper.get_prices('AAPL', freq='15min')\n"
   ],
   "metadata": {
    "collapsed": false,
    "pycharm": {
     "name": "#%%\n"
    },
    "ExecuteTime": {
     "end_time": "2023-09-03T09:35:39.576992Z",
     "start_time": "2023-09-03T09:35:39.280762Z"
    }
   }
  },
  {
   "cell_type": "code",
   "execution_count": 11,
   "outputs": [
    {
     "data": {
      "text/plain": "                                 open        high         low       close  \\\ndate                                                                        \n2023-06-08 09:30:00-04:00  177.895004  178.750000  177.460007  178.470001   \n2023-06-08 10:30:00-04:00  178.490005  179.429993  178.389999  179.239105   \n2023-06-08 11:30:00-04:00  179.239395  180.000000  179.139999  179.969894   \n2023-06-08 12:30:00-04:00  179.960007  179.970001  179.399994  179.470001   \n2023-06-08 13:30:00-04:00  179.464996  179.979996  179.009995  179.945007   \n...                               ...         ...         ...         ...   \n2023-09-01 11:30:00-04:00  188.679993  189.210007  188.360107  189.115005   \n2023-09-01 12:30:00-04:00  189.110001  189.320007  188.839996  189.000000   \n2023-09-01 13:30:00-04:00  188.990005  189.225006  188.630005  188.720093   \n2023-09-01 14:30:00-04:00  188.720001  189.080002  188.520004  189.050003   \n2023-09-01 15:30:00-04:00  189.050003  189.539993  188.940002  189.460007   \n\n                             volume  \ndate                                 \n2023-06-08 09:30:00-04:00  10752927  \n2023-06-08 10:30:00-04:00   5780209  \n2023-06-08 11:30:00-04:00   5797046  \n2023-06-08 12:30:00-04:00   3341042  \n2023-06-08 13:30:00-04:00   3800213  \n...                             ...  \n2023-09-01 11:30:00-04:00   4230174  \n2023-09-01 12:30:00-04:00   3233746  \n2023-09-01 13:30:00-04:00   3052530  \n2023-09-01 14:30:00-04:00   3627574  \n2023-09-01 15:30:00-04:00   4793086  \n\n[416 rows x 5 columns]",
      "text/html": "<div>\n<style scoped>\n    .dataframe tbody tr th:only-of-type {\n        vertical-align: middle;\n    }\n\n    .dataframe tbody tr th {\n        vertical-align: top;\n    }\n\n    .dataframe thead th {\n        text-align: right;\n    }\n</style>\n<table border=\"1\" class=\"dataframe\">\n  <thead>\n    <tr style=\"text-align: right;\">\n      <th></th>\n      <th>open</th>\n      <th>high</th>\n      <th>low</th>\n      <th>close</th>\n      <th>volume</th>\n    </tr>\n    <tr>\n      <th>date</th>\n      <th></th>\n      <th></th>\n      <th></th>\n      <th></th>\n      <th></th>\n    </tr>\n  </thead>\n  <tbody>\n    <tr>\n      <th>2023-06-08 09:30:00-04:00</th>\n      <td>177.895004</td>\n      <td>178.750000</td>\n      <td>177.460007</td>\n      <td>178.470001</td>\n      <td>10752927</td>\n    </tr>\n    <tr>\n      <th>2023-06-08 10:30:00-04:00</th>\n      <td>178.490005</td>\n      <td>179.429993</td>\n      <td>178.389999</td>\n      <td>179.239105</td>\n      <td>5780209</td>\n    </tr>\n    <tr>\n      <th>2023-06-08 11:30:00-04:00</th>\n      <td>179.239395</td>\n      <td>180.000000</td>\n      <td>179.139999</td>\n      <td>179.969894</td>\n      <td>5797046</td>\n    </tr>\n    <tr>\n      <th>2023-06-08 12:30:00-04:00</th>\n      <td>179.960007</td>\n      <td>179.970001</td>\n      <td>179.399994</td>\n      <td>179.470001</td>\n      <td>3341042</td>\n    </tr>\n    <tr>\n      <th>2023-06-08 13:30:00-04:00</th>\n      <td>179.464996</td>\n      <td>179.979996</td>\n      <td>179.009995</td>\n      <td>179.945007</td>\n      <td>3800213</td>\n    </tr>\n    <tr>\n      <th>...</th>\n      <td>...</td>\n      <td>...</td>\n      <td>...</td>\n      <td>...</td>\n      <td>...</td>\n    </tr>\n    <tr>\n      <th>2023-09-01 11:30:00-04:00</th>\n      <td>188.679993</td>\n      <td>189.210007</td>\n      <td>188.360107</td>\n      <td>189.115005</td>\n      <td>4230174</td>\n    </tr>\n    <tr>\n      <th>2023-09-01 12:30:00-04:00</th>\n      <td>189.110001</td>\n      <td>189.320007</td>\n      <td>188.839996</td>\n      <td>189.000000</td>\n      <td>3233746</td>\n    </tr>\n    <tr>\n      <th>2023-09-01 13:30:00-04:00</th>\n      <td>188.990005</td>\n      <td>189.225006</td>\n      <td>188.630005</td>\n      <td>188.720093</td>\n      <td>3052530</td>\n    </tr>\n    <tr>\n      <th>2023-09-01 14:30:00-04:00</th>\n      <td>188.720001</td>\n      <td>189.080002</td>\n      <td>188.520004</td>\n      <td>189.050003</td>\n      <td>3627574</td>\n    </tr>\n    <tr>\n      <th>2023-09-01 15:30:00-04:00</th>\n      <td>189.050003</td>\n      <td>189.539993</td>\n      <td>188.940002</td>\n      <td>189.460007</td>\n      <td>4793086</td>\n    </tr>\n  </tbody>\n</table>\n<p>416 rows × 5 columns</p>\n</div>"
     },
     "execution_count": 11,
     "metadata": {},
     "output_type": "execute_result"
    }
   ],
   "source": [
    "helper.get_prices('AAPL', freq='1hour')"
   ],
   "metadata": {
    "collapsed": false,
    "pycharm": {
     "name": "#%%\n"
    },
    "ExecuteTime": {
     "end_time": "2023-09-03T09:35:40.198026Z",
     "start_time": "2023-09-03T09:35:40.016084Z"
    }
   }
  },
  {
   "cell_type": "code",
   "execution_count": null,
   "outputs": [],
   "source": [],
   "metadata": {
    "collapsed": false,
    "pycharm": {
     "name": "#%%\n"
    }
   }
  }
 ],
 "metadata": {
  "kernelspec": {
   "display_name": "Python 3 (ipykernel)",
   "language": "python",
   "name": "python3"
  },
  "language_info": {
   "codemirror_mode": {
    "name": "ipython",
    "version": 3
   },
   "file_extension": ".py",
   "mimetype": "text/x-python",
   "name": "python",
   "nbconvert_exporter": "python",
   "pygments_lexer": "ipython3",
   "version": "3.8.13"
  }
 },
 "nbformat": 4,
 "nbformat_minor": 1
}
