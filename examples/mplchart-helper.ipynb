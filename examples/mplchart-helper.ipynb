{
 "cells": [
  {
   "cell_type": "markdown",
   "source": [
    "# Fetching prices with the helper module"
   ],
   "metadata": {
    "collapsed": false,
    "pycharm": {
     "name": "#%% md\n"
    }
   }
  },
  {
   "cell_type": "code",
   "execution_count": null,
   "outputs": [],
   "source": [
    "\n",
    "from mplchart import helper\n"
   ],
   "metadata": {
    "collapsed": false,
    "pycharm": {
     "name": "#%%\n"
    }
   }
  },
  {
   "cell_type": "code",
   "execution_count": 2,
   "metadata": {
    "pycharm": {
     "name": "#%%\n"
    }
   },
   "outputs": [
    {
     "data": {
      "text/plain": "['list_cache', 'clear_cache', 'map_frequency', 'maximum_period', 'get_prices']"
     },
     "execution_count": 2,
     "metadata": {},
     "output_type": "execute_result"
    }
   ],
   "source": [
    "[k for k, v in vars(helper).items() if callable(v)]"
   ]
  },
  {
   "cell_type": "code",
   "execution_count": 3,
   "metadata": {
    "pycharm": {
     "name": "#%%\n"
    }
   },
   "outputs": [
    {
     "name": "stdout",
     "output_type": "stream",
     "text": [
      "mplchart.helper.AAPL.1d.max.csv\n"
     ]
    }
   ],
   "source": [
    "for file in helper.list_cache():\n",
    "    print(file.name)\n"
   ]
  },
  {
   "cell_type": "code",
   "execution_count": 4,
   "metadata": {
    "pycharm": {
     "name": "#%%\n"
    }
   },
   "outputs": [
    {
     "name": "stdout",
     "output_type": "stream",
     "text": [
      "Deleting mplchart.helper.AAPL.1d.max.csv ...\n"
     ]
    }
   ],
   "source": [
    "helper.clear_cache(verbose=True)\n"
   ]
  },
  {
   "cell_type": "code",
   "execution_count": 5,
   "outputs": [
    {
     "data": {
      "text/plain": "                  open        high         low       close     volume\ndate                                                                 \n1980-12-12    0.100039    0.100474    0.100039    0.100039  469033600\n1980-12-15    0.095255    0.095255    0.094820    0.094820  175884800\n1980-12-16    0.088296    0.088296    0.087861    0.087861  105728000\n1980-12-17    0.090035    0.090470    0.090035    0.090035   86441600\n1980-12-18    0.092646    0.093081    0.092646    0.092646   73449600\n...                ...         ...         ...         ...        ...\n2022-08-01  160.786659  163.363082  160.666830  161.285965   67829400\n2022-08-02  159.877927  162.184720  159.408578  159.788040   59907000\n2022-08-03  160.616896  166.358920  160.527024  165.899567   82507500\n2022-08-04  165.779721  166.958093  164.201911  165.580002   55474100\n2022-08-05  163.210007  165.850006  163.000000  165.350006   56646600\n\n[10501 rows x 5 columns]",
      "text/html": "<div>\n<style scoped>\n    .dataframe tbody tr th:only-of-type {\n        vertical-align: middle;\n    }\n\n    .dataframe tbody tr th {\n        vertical-align: top;\n    }\n\n    .dataframe thead th {\n        text-align: right;\n    }\n</style>\n<table border=\"1\" class=\"dataframe\">\n  <thead>\n    <tr style=\"text-align: right;\">\n      <th></th>\n      <th>open</th>\n      <th>high</th>\n      <th>low</th>\n      <th>close</th>\n      <th>volume</th>\n    </tr>\n    <tr>\n      <th>date</th>\n      <th></th>\n      <th></th>\n      <th></th>\n      <th></th>\n      <th></th>\n    </tr>\n  </thead>\n  <tbody>\n    <tr>\n      <th>1980-12-12</th>\n      <td>0.100039</td>\n      <td>0.100474</td>\n      <td>0.100039</td>\n      <td>0.100039</td>\n      <td>469033600</td>\n    </tr>\n    <tr>\n      <th>1980-12-15</th>\n      <td>0.095255</td>\n      <td>0.095255</td>\n      <td>0.094820</td>\n      <td>0.094820</td>\n      <td>175884800</td>\n    </tr>\n    <tr>\n      <th>1980-12-16</th>\n      <td>0.088296</td>\n      <td>0.088296</td>\n      <td>0.087861</td>\n      <td>0.087861</td>\n      <td>105728000</td>\n    </tr>\n    <tr>\n      <th>1980-12-17</th>\n      <td>0.090035</td>\n      <td>0.090470</td>\n      <td>0.090035</td>\n      <td>0.090035</td>\n      <td>86441600</td>\n    </tr>\n    <tr>\n      <th>1980-12-18</th>\n      <td>0.092646</td>\n      <td>0.093081</td>\n      <td>0.092646</td>\n      <td>0.092646</td>\n      <td>73449600</td>\n    </tr>\n    <tr>\n      <th>...</th>\n      <td>...</td>\n      <td>...</td>\n      <td>...</td>\n      <td>...</td>\n      <td>...</td>\n    </tr>\n    <tr>\n      <th>2022-08-01</th>\n      <td>160.786659</td>\n      <td>163.363082</td>\n      <td>160.666830</td>\n      <td>161.285965</td>\n      <td>67829400</td>\n    </tr>\n    <tr>\n      <th>2022-08-02</th>\n      <td>159.877927</td>\n      <td>162.184720</td>\n      <td>159.408578</td>\n      <td>159.788040</td>\n      <td>59907000</td>\n    </tr>\n    <tr>\n      <th>2022-08-03</th>\n      <td>160.616896</td>\n      <td>166.358920</td>\n      <td>160.527024</td>\n      <td>165.899567</td>\n      <td>82507500</td>\n    </tr>\n    <tr>\n      <th>2022-08-04</th>\n      <td>165.779721</td>\n      <td>166.958093</td>\n      <td>164.201911</td>\n      <td>165.580002</td>\n      <td>55474100</td>\n    </tr>\n    <tr>\n      <th>2022-08-05</th>\n      <td>163.210007</td>\n      <td>165.850006</td>\n      <td>163.000000</td>\n      <td>165.350006</td>\n      <td>56646600</td>\n    </tr>\n  </tbody>\n</table>\n<p>10501 rows × 5 columns</p>\n</div>"
     },
     "execution_count": 5,
     "metadata": {},
     "output_type": "execute_result"
    }
   ],
   "source": [
    "helper.get_prices('AAPL', freq='daily')"
   ],
   "metadata": {
    "collapsed": false,
    "pycharm": {
     "name": "#%%\n"
    }
   }
  },
  {
   "cell_type": "code",
   "execution_count": 6,
   "outputs": [
    {
     "data": {
      "text/plain": "                  open        high         low       close       volume\ndate                                                                   \n1980-12-08    0.100039    0.100474    0.100039    0.100039  469033600.0\n1980-12-15    0.095255    0.098735    0.087861    0.098300  490134400.0\n1980-12-22    0.103084    0.123962    0.103084    0.123527  187891200.0\n1980-12-29    0.125267    0.125702    0.118743    0.120048  219452800.0\n1981-01-05    0.117873    0.117873    0.105259    0.110913  197904000.0\n...                ...         ...         ...         ...          ...\n2022-07-11  145.467942  150.650746  141.922863  149.961700  366316600.0\n2022-07-18  150.530907  156.063216  146.496503  153.876251  360988700.0\n2022-07-25  153.796367  163.403033  150.590828  162.284576  370451200.0\n2022-08-01  160.786660  166.958095  159.408584  165.120651  322364600.0\n2022-08-05         NaN         NaN         NaN         NaN          NaN\n\n[2233 rows x 5 columns]",
      "text/html": "<div>\n<style scoped>\n    .dataframe tbody tr th:only-of-type {\n        vertical-align: middle;\n    }\n\n    .dataframe tbody tr th {\n        vertical-align: top;\n    }\n\n    .dataframe thead th {\n        text-align: right;\n    }\n</style>\n<table border=\"1\" class=\"dataframe\">\n  <thead>\n    <tr style=\"text-align: right;\">\n      <th></th>\n      <th>open</th>\n      <th>high</th>\n      <th>low</th>\n      <th>close</th>\n      <th>volume</th>\n    </tr>\n    <tr>\n      <th>date</th>\n      <th></th>\n      <th></th>\n      <th></th>\n      <th></th>\n      <th></th>\n    </tr>\n  </thead>\n  <tbody>\n    <tr>\n      <th>1980-12-08</th>\n      <td>0.100039</td>\n      <td>0.100474</td>\n      <td>0.100039</td>\n      <td>0.100039</td>\n      <td>469033600.0</td>\n    </tr>\n    <tr>\n      <th>1980-12-15</th>\n      <td>0.095255</td>\n      <td>0.098735</td>\n      <td>0.087861</td>\n      <td>0.098300</td>\n      <td>490134400.0</td>\n    </tr>\n    <tr>\n      <th>1980-12-22</th>\n      <td>0.103084</td>\n      <td>0.123962</td>\n      <td>0.103084</td>\n      <td>0.123527</td>\n      <td>187891200.0</td>\n    </tr>\n    <tr>\n      <th>1980-12-29</th>\n      <td>0.125267</td>\n      <td>0.125702</td>\n      <td>0.118743</td>\n      <td>0.120048</td>\n      <td>219452800.0</td>\n    </tr>\n    <tr>\n      <th>1981-01-05</th>\n      <td>0.117873</td>\n      <td>0.117873</td>\n      <td>0.105259</td>\n      <td>0.110913</td>\n      <td>197904000.0</td>\n    </tr>\n    <tr>\n      <th>...</th>\n      <td>...</td>\n      <td>...</td>\n      <td>...</td>\n      <td>...</td>\n      <td>...</td>\n    </tr>\n    <tr>\n      <th>2022-07-11</th>\n      <td>145.467942</td>\n      <td>150.650746</td>\n      <td>141.922863</td>\n      <td>149.961700</td>\n      <td>366316600.0</td>\n    </tr>\n    <tr>\n      <th>2022-07-18</th>\n      <td>150.530907</td>\n      <td>156.063216</td>\n      <td>146.496503</td>\n      <td>153.876251</td>\n      <td>360988700.0</td>\n    </tr>\n    <tr>\n      <th>2022-07-25</th>\n      <td>153.796367</td>\n      <td>163.403033</td>\n      <td>150.590828</td>\n      <td>162.284576</td>\n      <td>370451200.0</td>\n    </tr>\n    <tr>\n      <th>2022-08-01</th>\n      <td>160.786660</td>\n      <td>166.958095</td>\n      <td>159.408584</td>\n      <td>165.120651</td>\n      <td>322364600.0</td>\n    </tr>\n    <tr>\n      <th>2022-08-05</th>\n      <td>NaN</td>\n      <td>NaN</td>\n      <td>NaN</td>\n      <td>NaN</td>\n      <td>NaN</td>\n    </tr>\n  </tbody>\n</table>\n<p>2233 rows × 5 columns</p>\n</div>"
     },
     "execution_count": 6,
     "metadata": {},
     "output_type": "execute_result"
    }
   ],
   "source": [
    "helper.get_prices('AAPL', freq='weekly')"
   ],
   "metadata": {
    "collapsed": false,
    "pycharm": {
     "name": "#%%\n"
    }
   }
  },
  {
   "cell_type": "code",
   "execution_count": 7,
   "outputs": [
    {
     "data": {
      "text/plain": "                  open        high         low       close        volume\ndate                                                                    \n1985-01-01    0.101344    0.108304    0.096995    0.100909  6.366416e+09\n1985-02-01    0.100909    0.106999    0.086121    0.086121  4.733389e+09\n1985-03-01    0.086121    0.090470    0.072203    0.076987  4.615587e+09\n1985-04-01    0.076987    0.080032    0.068288    0.073942  2.868029e+09\n1985-05-01    0.073942    0.077422    0.058719    0.060459  4.639130e+09\n...                ...         ...         ...         ...           ...\n2022-05-06         NaN         NaN         NaN         NaN           NaN\n2022-06-01  149.692060  151.529519  128.860995  136.530350  1.749100e+09\n2022-07-01  135.851292  163.403033  135.471829  162.284576  1.447028e+09\n2022-08-01  160.786660  166.958095  159.408584  165.120651  3.223646e+08\n2022-08-05         NaN         NaN         NaN         NaN           NaN\n\n[532 rows x 5 columns]",
      "text/html": "<div>\n<style scoped>\n    .dataframe tbody tr th:only-of-type {\n        vertical-align: middle;\n    }\n\n    .dataframe tbody tr th {\n        vertical-align: top;\n    }\n\n    .dataframe thead th {\n        text-align: right;\n    }\n</style>\n<table border=\"1\" class=\"dataframe\">\n  <thead>\n    <tr style=\"text-align: right;\">\n      <th></th>\n      <th>open</th>\n      <th>high</th>\n      <th>low</th>\n      <th>close</th>\n      <th>volume</th>\n    </tr>\n    <tr>\n      <th>date</th>\n      <th></th>\n      <th></th>\n      <th></th>\n      <th></th>\n      <th></th>\n    </tr>\n  </thead>\n  <tbody>\n    <tr>\n      <th>1985-01-01</th>\n      <td>0.101344</td>\n      <td>0.108304</td>\n      <td>0.096995</td>\n      <td>0.100909</td>\n      <td>6.366416e+09</td>\n    </tr>\n    <tr>\n      <th>1985-02-01</th>\n      <td>0.100909</td>\n      <td>0.106999</td>\n      <td>0.086121</td>\n      <td>0.086121</td>\n      <td>4.733389e+09</td>\n    </tr>\n    <tr>\n      <th>1985-03-01</th>\n      <td>0.086121</td>\n      <td>0.090470</td>\n      <td>0.072203</td>\n      <td>0.076987</td>\n      <td>4.615587e+09</td>\n    </tr>\n    <tr>\n      <th>1985-04-01</th>\n      <td>0.076987</td>\n      <td>0.080032</td>\n      <td>0.068288</td>\n      <td>0.073942</td>\n      <td>2.868029e+09</td>\n    </tr>\n    <tr>\n      <th>1985-05-01</th>\n      <td>0.073942</td>\n      <td>0.077422</td>\n      <td>0.058719</td>\n      <td>0.060459</td>\n      <td>4.639130e+09</td>\n    </tr>\n    <tr>\n      <th>...</th>\n      <td>...</td>\n      <td>...</td>\n      <td>...</td>\n      <td>...</td>\n      <td>...</td>\n    </tr>\n    <tr>\n      <th>2022-05-06</th>\n      <td>NaN</td>\n      <td>NaN</td>\n      <td>NaN</td>\n      <td>NaN</td>\n      <td>NaN</td>\n    </tr>\n    <tr>\n      <th>2022-06-01</th>\n      <td>149.692060</td>\n      <td>151.529519</td>\n      <td>128.860995</td>\n      <td>136.530350</td>\n      <td>1.749100e+09</td>\n    </tr>\n    <tr>\n      <th>2022-07-01</th>\n      <td>135.851292</td>\n      <td>163.403033</td>\n      <td>135.471829</td>\n      <td>162.284576</td>\n      <td>1.447028e+09</td>\n    </tr>\n    <tr>\n      <th>2022-08-01</th>\n      <td>160.786660</td>\n      <td>166.958095</td>\n      <td>159.408584</td>\n      <td>165.120651</td>\n      <td>3.223646e+08</td>\n    </tr>\n    <tr>\n      <th>2022-08-05</th>\n      <td>NaN</td>\n      <td>NaN</td>\n      <td>NaN</td>\n      <td>NaN</td>\n      <td>NaN</td>\n    </tr>\n  </tbody>\n</table>\n<p>532 rows × 5 columns</p>\n</div>"
     },
     "execution_count": 7,
     "metadata": {},
     "output_type": "execute_result"
    }
   ],
   "source": [
    "helper.get_prices('AAPL', freq='monthly')"
   ],
   "metadata": {
    "collapsed": false,
    "pycharm": {
     "name": "#%%\n"
    }
   }
  },
  {
   "cell_type": "code",
   "execution_count": 8,
   "metadata": {
    "pycharm": {
     "name": "#%%\n"
    }
   },
   "outputs": [
    {
     "data": {
      "text/plain": "                                 open        high         low       close  \\\ndate                                                                        \n2022-07-29 09:30:00-04:00  161.240005  161.725006  160.910004  160.985001   \n2022-07-29 09:31:00-04:00  160.970001  161.309998  160.850006  160.860001   \n2022-07-29 09:32:00-04:00  160.869995  161.005005  160.550003  160.619293   \n2022-07-29 09:33:00-04:00  160.304993  160.304993  160.210007  160.215393   \n2022-07-29 09:34:00-04:00  160.250000  160.475998  160.190002  160.279999   \n...                               ...         ...         ...         ...   \n2022-08-08 14:26:00-04:00  164.580002  164.634995  164.539993  164.570007   \n2022-08-08 14:27:00-04:00  164.580002  164.679993  164.559998  164.614899   \n2022-08-08 14:28:00-04:00  164.625000  164.789993  164.625000  164.720001   \n2022-08-08 14:29:00-04:00  164.704102  164.750000  164.580002  164.710007   \n2022-08-08 14:30:25-04:00  164.695007  164.695007  164.695007  164.695007   \n\n                            volume  \ndate                                \n2022-07-29 09:30:00-04:00  6024252  \n2022-07-29 09:31:00-04:00   798660  \n2022-07-29 09:32:00-04:00   624246  \n2022-07-29 09:33:00-04:00   619970  \n2022-07-29 09:34:00-04:00   569376  \n...                            ...  \n2022-08-08 14:26:00-04:00    62822  \n2022-08-08 14:27:00-04:00    61125  \n2022-08-08 14:28:00-04:00    71311  \n2022-08-08 14:29:00-04:00    64664  \n2022-08-08 14:30:25-04:00        0  \n\n[2638 rows x 5 columns]",
      "text/html": "<div>\n<style scoped>\n    .dataframe tbody tr th:only-of-type {\n        vertical-align: middle;\n    }\n\n    .dataframe tbody tr th {\n        vertical-align: top;\n    }\n\n    .dataframe thead th {\n        text-align: right;\n    }\n</style>\n<table border=\"1\" class=\"dataframe\">\n  <thead>\n    <tr style=\"text-align: right;\">\n      <th></th>\n      <th>open</th>\n      <th>high</th>\n      <th>low</th>\n      <th>close</th>\n      <th>volume</th>\n    </tr>\n    <tr>\n      <th>date</th>\n      <th></th>\n      <th></th>\n      <th></th>\n      <th></th>\n      <th></th>\n    </tr>\n  </thead>\n  <tbody>\n    <tr>\n      <th>2022-07-29 09:30:00-04:00</th>\n      <td>161.240005</td>\n      <td>161.725006</td>\n      <td>160.910004</td>\n      <td>160.985001</td>\n      <td>6024252</td>\n    </tr>\n    <tr>\n      <th>2022-07-29 09:31:00-04:00</th>\n      <td>160.970001</td>\n      <td>161.309998</td>\n      <td>160.850006</td>\n      <td>160.860001</td>\n      <td>798660</td>\n    </tr>\n    <tr>\n      <th>2022-07-29 09:32:00-04:00</th>\n      <td>160.869995</td>\n      <td>161.005005</td>\n      <td>160.550003</td>\n      <td>160.619293</td>\n      <td>624246</td>\n    </tr>\n    <tr>\n      <th>2022-07-29 09:33:00-04:00</th>\n      <td>160.304993</td>\n      <td>160.304993</td>\n      <td>160.210007</td>\n      <td>160.215393</td>\n      <td>619970</td>\n    </tr>\n    <tr>\n      <th>2022-07-29 09:34:00-04:00</th>\n      <td>160.250000</td>\n      <td>160.475998</td>\n      <td>160.190002</td>\n      <td>160.279999</td>\n      <td>569376</td>\n    </tr>\n    <tr>\n      <th>...</th>\n      <td>...</td>\n      <td>...</td>\n      <td>...</td>\n      <td>...</td>\n      <td>...</td>\n    </tr>\n    <tr>\n      <th>2022-08-08 14:26:00-04:00</th>\n      <td>164.580002</td>\n      <td>164.634995</td>\n      <td>164.539993</td>\n      <td>164.570007</td>\n      <td>62822</td>\n    </tr>\n    <tr>\n      <th>2022-08-08 14:27:00-04:00</th>\n      <td>164.580002</td>\n      <td>164.679993</td>\n      <td>164.559998</td>\n      <td>164.614899</td>\n      <td>61125</td>\n    </tr>\n    <tr>\n      <th>2022-08-08 14:28:00-04:00</th>\n      <td>164.625000</td>\n      <td>164.789993</td>\n      <td>164.625000</td>\n      <td>164.720001</td>\n      <td>71311</td>\n    </tr>\n    <tr>\n      <th>2022-08-08 14:29:00-04:00</th>\n      <td>164.704102</td>\n      <td>164.750000</td>\n      <td>164.580002</td>\n      <td>164.710007</td>\n      <td>64664</td>\n    </tr>\n    <tr>\n      <th>2022-08-08 14:30:25-04:00</th>\n      <td>164.695007</td>\n      <td>164.695007</td>\n      <td>164.695007</td>\n      <td>164.695007</td>\n      <td>0</td>\n    </tr>\n  </tbody>\n</table>\n<p>2638 rows × 5 columns</p>\n</div>"
     },
     "execution_count": 8,
     "metadata": {},
     "output_type": "execute_result"
    }
   ],
   "source": [
    "helper.get_prices('AAPL', freq='1min')"
   ]
  },
  {
   "cell_type": "code",
   "execution_count": 9,
   "outputs": [
    {
     "data": {
      "text/plain": "                                 open        high         low       close  \\\ndate                                                                        \n2022-05-12 09:30:00-04:00  142.770004  144.110001  141.705002  141.705002   \n2022-05-12 09:35:00-04:00  142.089996  142.179993  140.369995  140.619995   \n2022-05-12 09:40:00-04:00  140.375000  142.039993  140.339996  141.960007   \n2022-05-12 09:45:00-04:00  141.750000  143.645004  141.580002  142.136505   \n2022-05-12 09:50:00-04:00  142.125000  142.482803  141.419998  141.729996   \n...                               ...         ...         ...         ...   \n2022-08-08 14:10:00-04:00  164.914993  164.944794  164.660004  164.690002   \n2022-08-08 14:15:00-04:00  164.690002  164.720001  164.440002  164.654999   \n2022-08-08 14:20:00-04:00  164.639008  164.710007  164.535004  164.589996   \n2022-08-08 14:25:00-04:00  164.595001  164.789993  164.539993  164.710007   \n2022-08-08 14:30:25-04:00  164.695007  164.695007  164.695007  164.695007   \n\n                             volume  \ndate                                 \n2022-05-12 09:30:00-04:00  13197793  \n2022-05-12 09:35:00-04:00   5475662  \n2022-05-12 09:40:00-04:00   5615399  \n2022-05-12 09:45:00-04:00   4577394  \n2022-05-12 09:50:00-04:00   3374523  \n...                             ...  \n2022-08-08 14:10:00-04:00    303336  \n2022-08-08 14:15:00-04:00    314030  \n2022-08-08 14:20:00-04:00    279974  \n2022-08-08 14:25:00-04:00    373256  \n2022-08-08 14:30:25-04:00         0  \n\n[4663 rows x 5 columns]",
      "text/html": "<div>\n<style scoped>\n    .dataframe tbody tr th:only-of-type {\n        vertical-align: middle;\n    }\n\n    .dataframe tbody tr th {\n        vertical-align: top;\n    }\n\n    .dataframe thead th {\n        text-align: right;\n    }\n</style>\n<table border=\"1\" class=\"dataframe\">\n  <thead>\n    <tr style=\"text-align: right;\">\n      <th></th>\n      <th>open</th>\n      <th>high</th>\n      <th>low</th>\n      <th>close</th>\n      <th>volume</th>\n    </tr>\n    <tr>\n      <th>date</th>\n      <th></th>\n      <th></th>\n      <th></th>\n      <th></th>\n      <th></th>\n    </tr>\n  </thead>\n  <tbody>\n    <tr>\n      <th>2022-05-12 09:30:00-04:00</th>\n      <td>142.770004</td>\n      <td>144.110001</td>\n      <td>141.705002</td>\n      <td>141.705002</td>\n      <td>13197793</td>\n    </tr>\n    <tr>\n      <th>2022-05-12 09:35:00-04:00</th>\n      <td>142.089996</td>\n      <td>142.179993</td>\n      <td>140.369995</td>\n      <td>140.619995</td>\n      <td>5475662</td>\n    </tr>\n    <tr>\n      <th>2022-05-12 09:40:00-04:00</th>\n      <td>140.375000</td>\n      <td>142.039993</td>\n      <td>140.339996</td>\n      <td>141.960007</td>\n      <td>5615399</td>\n    </tr>\n    <tr>\n      <th>2022-05-12 09:45:00-04:00</th>\n      <td>141.750000</td>\n      <td>143.645004</td>\n      <td>141.580002</td>\n      <td>142.136505</td>\n      <td>4577394</td>\n    </tr>\n    <tr>\n      <th>2022-05-12 09:50:00-04:00</th>\n      <td>142.125000</td>\n      <td>142.482803</td>\n      <td>141.419998</td>\n      <td>141.729996</td>\n      <td>3374523</td>\n    </tr>\n    <tr>\n      <th>...</th>\n      <td>...</td>\n      <td>...</td>\n      <td>...</td>\n      <td>...</td>\n      <td>...</td>\n    </tr>\n    <tr>\n      <th>2022-08-08 14:10:00-04:00</th>\n      <td>164.914993</td>\n      <td>164.944794</td>\n      <td>164.660004</td>\n      <td>164.690002</td>\n      <td>303336</td>\n    </tr>\n    <tr>\n      <th>2022-08-08 14:15:00-04:00</th>\n      <td>164.690002</td>\n      <td>164.720001</td>\n      <td>164.440002</td>\n      <td>164.654999</td>\n      <td>314030</td>\n    </tr>\n    <tr>\n      <th>2022-08-08 14:20:00-04:00</th>\n      <td>164.639008</td>\n      <td>164.710007</td>\n      <td>164.535004</td>\n      <td>164.589996</td>\n      <td>279974</td>\n    </tr>\n    <tr>\n      <th>2022-08-08 14:25:00-04:00</th>\n      <td>164.595001</td>\n      <td>164.789993</td>\n      <td>164.539993</td>\n      <td>164.710007</td>\n      <td>373256</td>\n    </tr>\n    <tr>\n      <th>2022-08-08 14:30:25-04:00</th>\n      <td>164.695007</td>\n      <td>164.695007</td>\n      <td>164.695007</td>\n      <td>164.695007</td>\n      <td>0</td>\n    </tr>\n  </tbody>\n</table>\n<p>4663 rows × 5 columns</p>\n</div>"
     },
     "execution_count": 9,
     "metadata": {},
     "output_type": "execute_result"
    }
   ],
   "source": [
    "helper.get_prices('AAPL', freq='5min')\n"
   ],
   "metadata": {
    "collapsed": false,
    "pycharm": {
     "name": "#%%\n"
    }
   }
  },
  {
   "cell_type": "code",
   "execution_count": 10,
   "outputs": [
    {
     "data": {
      "text/plain": "                                 open        high         low       close  \\\ndate                                                                        \n2022-05-12 09:30:00-04:00  142.770004  144.110001  140.339996  141.960007   \n2022-05-12 09:45:00-04:00  141.750000  143.645004  140.619995  141.020004   \n2022-05-12 10:00:00-04:00  141.009995  145.259995  140.091507  143.570007   \n2022-05-12 10:15:00-04:00  143.559998  146.128098  143.139999  144.690002   \n2022-05-12 10:30:00-04:00  144.690002  145.179993  143.690002  143.919998   \n...                               ...         ...         ...         ...   \n2022-08-08 13:30:00-04:00  164.869995  165.149994  164.690002  165.132294   \n2022-08-08 13:45:00-04:00  165.130203  165.339996  164.899994  165.282501   \n2022-08-08 14:00:00-04:00  165.289993  165.305893  164.460007  164.690002   \n2022-08-08 14:15:00-04:00  164.690002  164.789993  164.440002  164.710007   \n2022-08-08 14:30:25-04:00  164.695007  164.695007  164.695007  164.695007   \n\n                             volume  \ndate                                 \n2022-05-12 09:30:00-04:00  24288854  \n2022-05-12 09:45:00-04:00  11099686  \n2022-05-12 10:00:00-04:00  13649730  \n2022-05-12 10:15:00-04:00   8045089  \n2022-05-12 10:30:00-04:00   5475532  \n...                             ...  \n2022-08-08 13:30:00-04:00   1118164  \n2022-08-08 13:45:00-04:00   1061537  \n2022-08-08 14:00:00-04:00   1326493  \n2022-08-08 14:15:00-04:00    967260  \n2022-08-08 14:30:25-04:00         0  \n\n[1555 rows x 5 columns]",
      "text/html": "<div>\n<style scoped>\n    .dataframe tbody tr th:only-of-type {\n        vertical-align: middle;\n    }\n\n    .dataframe tbody tr th {\n        vertical-align: top;\n    }\n\n    .dataframe thead th {\n        text-align: right;\n    }\n</style>\n<table border=\"1\" class=\"dataframe\">\n  <thead>\n    <tr style=\"text-align: right;\">\n      <th></th>\n      <th>open</th>\n      <th>high</th>\n      <th>low</th>\n      <th>close</th>\n      <th>volume</th>\n    </tr>\n    <tr>\n      <th>date</th>\n      <th></th>\n      <th></th>\n      <th></th>\n      <th></th>\n      <th></th>\n    </tr>\n  </thead>\n  <tbody>\n    <tr>\n      <th>2022-05-12 09:30:00-04:00</th>\n      <td>142.770004</td>\n      <td>144.110001</td>\n      <td>140.339996</td>\n      <td>141.960007</td>\n      <td>24288854</td>\n    </tr>\n    <tr>\n      <th>2022-05-12 09:45:00-04:00</th>\n      <td>141.750000</td>\n      <td>143.645004</td>\n      <td>140.619995</td>\n      <td>141.020004</td>\n      <td>11099686</td>\n    </tr>\n    <tr>\n      <th>2022-05-12 10:00:00-04:00</th>\n      <td>141.009995</td>\n      <td>145.259995</td>\n      <td>140.091507</td>\n      <td>143.570007</td>\n      <td>13649730</td>\n    </tr>\n    <tr>\n      <th>2022-05-12 10:15:00-04:00</th>\n      <td>143.559998</td>\n      <td>146.128098</td>\n      <td>143.139999</td>\n      <td>144.690002</td>\n      <td>8045089</td>\n    </tr>\n    <tr>\n      <th>2022-05-12 10:30:00-04:00</th>\n      <td>144.690002</td>\n      <td>145.179993</td>\n      <td>143.690002</td>\n      <td>143.919998</td>\n      <td>5475532</td>\n    </tr>\n    <tr>\n      <th>...</th>\n      <td>...</td>\n      <td>...</td>\n      <td>...</td>\n      <td>...</td>\n      <td>...</td>\n    </tr>\n    <tr>\n      <th>2022-08-08 13:30:00-04:00</th>\n      <td>164.869995</td>\n      <td>165.149994</td>\n      <td>164.690002</td>\n      <td>165.132294</td>\n      <td>1118164</td>\n    </tr>\n    <tr>\n      <th>2022-08-08 13:45:00-04:00</th>\n      <td>165.130203</td>\n      <td>165.339996</td>\n      <td>164.899994</td>\n      <td>165.282501</td>\n      <td>1061537</td>\n    </tr>\n    <tr>\n      <th>2022-08-08 14:00:00-04:00</th>\n      <td>165.289993</td>\n      <td>165.305893</td>\n      <td>164.460007</td>\n      <td>164.690002</td>\n      <td>1326493</td>\n    </tr>\n    <tr>\n      <th>2022-08-08 14:15:00-04:00</th>\n      <td>164.690002</td>\n      <td>164.789993</td>\n      <td>164.440002</td>\n      <td>164.710007</td>\n      <td>967260</td>\n    </tr>\n    <tr>\n      <th>2022-08-08 14:30:25-04:00</th>\n      <td>164.695007</td>\n      <td>164.695007</td>\n      <td>164.695007</td>\n      <td>164.695007</td>\n      <td>0</td>\n    </tr>\n  </tbody>\n</table>\n<p>1555 rows × 5 columns</p>\n</div>"
     },
     "execution_count": 10,
     "metadata": {},
     "output_type": "execute_result"
    }
   ],
   "source": [
    "helper.get_prices('AAPL', freq='15min')\n"
   ],
   "metadata": {
    "collapsed": false,
    "pycharm": {
     "name": "#%%\n"
    }
   }
  },
  {
   "cell_type": "code",
   "execution_count": 11,
   "outputs": [
    {
     "data": {
      "text/plain": "                                 open        high         low       close  \\\ndate                                                                        \n2022-05-12 09:30:00-04:00  142.770004  146.128098  140.091507  144.690002   \n2022-05-12 10:30:00-04:00  144.690002  146.199997  143.649994  144.949997   \n2022-05-12 11:30:00-04:00  144.960007  145.099792  140.570007  141.759995   \n2022-05-12 12:30:00-04:00  141.750107  142.600006  141.399994  141.829895   \n2022-05-12 13:30:00-04:00  141.820007  142.000000  139.000000  139.940002   \n...                               ...         ...         ...         ...   \n2022-08-08 10:30:00-04:00  166.990005  167.220001  165.960007  166.100006   \n2022-08-08 11:30:00-04:00  166.095001  166.429993  164.550003  164.718399   \n2022-08-08 12:30:00-04:00  164.720001  165.550003  164.560898  164.860001   \n2022-08-08 13:30:00-04:00  164.869995  165.339996  164.440002  164.710007   \n2022-08-08 14:30:28-04:00  164.705002  164.705002  164.705002  164.705002   \n\n                             volume  \ndate                                 \n2022-05-12 09:30:00-04:00  57083359  \n2022-05-12 10:30:00-04:00  20401466  \n2022-05-12 11:30:00-04:00  20294045  \n2022-05-12 12:30:00-04:00  12374992  \n2022-05-12 13:30:00-04:00  20573661  \n...                             ...  \n2022-08-08 10:30:00-04:00   6593669  \n2022-08-08 11:30:00-04:00   7568694  \n2022-08-08 12:30:00-04:00   5179745  \n2022-08-08 13:30:00-04:00   4473454  \n2022-08-08 14:30:28-04:00         0  \n\n[419 rows x 5 columns]",
      "text/html": "<div>\n<style scoped>\n    .dataframe tbody tr th:only-of-type {\n        vertical-align: middle;\n    }\n\n    .dataframe tbody tr th {\n        vertical-align: top;\n    }\n\n    .dataframe thead th {\n        text-align: right;\n    }\n</style>\n<table border=\"1\" class=\"dataframe\">\n  <thead>\n    <tr style=\"text-align: right;\">\n      <th></th>\n      <th>open</th>\n      <th>high</th>\n      <th>low</th>\n      <th>close</th>\n      <th>volume</th>\n    </tr>\n    <tr>\n      <th>date</th>\n      <th></th>\n      <th></th>\n      <th></th>\n      <th></th>\n      <th></th>\n    </tr>\n  </thead>\n  <tbody>\n    <tr>\n      <th>2022-05-12 09:30:00-04:00</th>\n      <td>142.770004</td>\n      <td>146.128098</td>\n      <td>140.091507</td>\n      <td>144.690002</td>\n      <td>57083359</td>\n    </tr>\n    <tr>\n      <th>2022-05-12 10:30:00-04:00</th>\n      <td>144.690002</td>\n      <td>146.199997</td>\n      <td>143.649994</td>\n      <td>144.949997</td>\n      <td>20401466</td>\n    </tr>\n    <tr>\n      <th>2022-05-12 11:30:00-04:00</th>\n      <td>144.960007</td>\n      <td>145.099792</td>\n      <td>140.570007</td>\n      <td>141.759995</td>\n      <td>20294045</td>\n    </tr>\n    <tr>\n      <th>2022-05-12 12:30:00-04:00</th>\n      <td>141.750107</td>\n      <td>142.600006</td>\n      <td>141.399994</td>\n      <td>141.829895</td>\n      <td>12374992</td>\n    </tr>\n    <tr>\n      <th>2022-05-12 13:30:00-04:00</th>\n      <td>141.820007</td>\n      <td>142.000000</td>\n      <td>139.000000</td>\n      <td>139.940002</td>\n      <td>20573661</td>\n    </tr>\n    <tr>\n      <th>...</th>\n      <td>...</td>\n      <td>...</td>\n      <td>...</td>\n      <td>...</td>\n      <td>...</td>\n    </tr>\n    <tr>\n      <th>2022-08-08 10:30:00-04:00</th>\n      <td>166.990005</td>\n      <td>167.220001</td>\n      <td>165.960007</td>\n      <td>166.100006</td>\n      <td>6593669</td>\n    </tr>\n    <tr>\n      <th>2022-08-08 11:30:00-04:00</th>\n      <td>166.095001</td>\n      <td>166.429993</td>\n      <td>164.550003</td>\n      <td>164.718399</td>\n      <td>7568694</td>\n    </tr>\n    <tr>\n      <th>2022-08-08 12:30:00-04:00</th>\n      <td>164.720001</td>\n      <td>165.550003</td>\n      <td>164.560898</td>\n      <td>164.860001</td>\n      <td>5179745</td>\n    </tr>\n    <tr>\n      <th>2022-08-08 13:30:00-04:00</th>\n      <td>164.869995</td>\n      <td>165.339996</td>\n      <td>164.440002</td>\n      <td>164.710007</td>\n      <td>4473454</td>\n    </tr>\n    <tr>\n      <th>2022-08-08 14:30:28-04:00</th>\n      <td>164.705002</td>\n      <td>164.705002</td>\n      <td>164.705002</td>\n      <td>164.705002</td>\n      <td>0</td>\n    </tr>\n  </tbody>\n</table>\n<p>419 rows × 5 columns</p>\n</div>"
     },
     "execution_count": 11,
     "metadata": {},
     "output_type": "execute_result"
    }
   ],
   "source": [
    "helper.get_prices('AAPL', freq='1hour')"
   ],
   "metadata": {
    "collapsed": false,
    "pycharm": {
     "name": "#%%\n"
    }
   }
  },
  {
   "cell_type": "code",
   "execution_count": null,
   "outputs": [],
   "source": [],
   "metadata": {
    "collapsed": false,
    "pycharm": {
     "name": "#%%\n"
    }
   }
  }
 ],
 "metadata": {
  "kernelspec": {
   "display_name": "Python 3 (ipykernel)",
   "language": "python",
   "name": "python3"
  },
  "language_info": {
   "codemirror_mode": {
    "name": "ipython",
    "version": 3
   },
   "file_extension": ".py",
   "mimetype": "text/x-python",
   "name": "python",
   "nbconvert_exporter": "python",
   "pygments_lexer": "ipython3",
   "version": "3.8.13"
  }
 },
 "nbformat": 4,
 "nbformat_minor": 1
}