{
 "cells": [
  {
   "cell_type": "code",
   "execution_count": 45,
   "id": "initial_id",
   "metadata": {
    "collapsed": true,
    "ExecuteTime": {
     "end_time": "2023-12-16T13:46:18.236980Z",
     "start_time": "2023-12-16T13:46:18.218587Z"
    }
   },
   "outputs": [],
   "source": [
    "from mplchart.samples import sample_prices"
   ]
  },
  {
   "cell_type": "code",
   "execution_count": 46,
   "outputs": [
    {
     "data": {
      "text/plain": "                                 open        high         low       close  \\\ndate                                                                        \n2023-09-01 00:00:00-04:00  189.490005  189.919998  188.279999  189.460007   \n2023-09-05 00:00:00-04:00  188.279999  189.979996  187.610001  189.699997   \n2023-09-06 00:00:00-04:00  188.399994  188.850006  181.470001  182.910004   \n2023-09-07 00:00:00-04:00  175.179993  178.210007  173.539993  177.559998   \n2023-09-08 00:00:00-04:00  178.350006  180.240005  177.789993  178.179993   \n2023-09-11 00:00:00-04:00  180.070007  180.300003  177.339996  179.360001   \n2023-09-12 00:00:00-04:00  179.490005  180.130005  174.820007  176.300003   \n2023-09-13 00:00:00-04:00  176.509995  177.300003  173.979996  174.210007   \n2023-09-14 00:00:00-04:00  174.000000  176.100006  173.580002  175.740005   \n2023-09-15 00:00:00-04:00  176.479996  176.500000  173.820007  175.009995   \n2023-09-18 00:00:00-04:00  176.479996  179.380005  176.169998  177.970001   \n2023-09-19 00:00:00-04:00  177.520004  179.630005  177.130005  179.070007   \n2023-09-20 00:00:00-04:00  179.259995  179.699997  175.399994  175.490005   \n2023-09-21 00:00:00-04:00  174.550003  176.300003  173.860001  173.929993   \n2023-09-22 00:00:00-04:00  174.669998  177.078995  174.054993  174.789993   \n\n                              volume  \ndate                                  \n2023-09-01 00:00:00-04:00   45732600  \n2023-09-05 00:00:00-04:00   45280000  \n2023-09-06 00:00:00-04:00   81755800  \n2023-09-07 00:00:00-04:00  112488800  \n2023-09-08 00:00:00-04:00   65551300  \n2023-09-11 00:00:00-04:00   58953100  \n2023-09-12 00:00:00-04:00   90370200  \n2023-09-13 00:00:00-04:00   84267900  \n2023-09-14 00:00:00-04:00   60895800  \n2023-09-15 00:00:00-04:00  109205100  \n2023-09-18 00:00:00-04:00   67257600  \n2023-09-19 00:00:00-04:00   51826900  \n2023-09-20 00:00:00-04:00   58436200  \n2023-09-21 00:00:00-04:00   63047900  \n2023-09-22 00:00:00-04:00   55110610  ",
      "text/html": "<div>\n<style scoped>\n    .dataframe tbody tr th:only-of-type {\n        vertical-align: middle;\n    }\n\n    .dataframe tbody tr th {\n        vertical-align: top;\n    }\n\n    .dataframe thead th {\n        text-align: right;\n    }\n</style>\n<table border=\"1\" class=\"dataframe\">\n  <thead>\n    <tr style=\"text-align: right;\">\n      <th></th>\n      <th>open</th>\n      <th>high</th>\n      <th>low</th>\n      <th>close</th>\n      <th>volume</th>\n    </tr>\n    <tr>\n      <th>date</th>\n      <th></th>\n      <th></th>\n      <th></th>\n      <th></th>\n      <th></th>\n    </tr>\n  </thead>\n  <tbody>\n    <tr>\n      <th>2023-09-01 00:00:00-04:00</th>\n      <td>189.490005</td>\n      <td>189.919998</td>\n      <td>188.279999</td>\n      <td>189.460007</td>\n      <td>45732600</td>\n    </tr>\n    <tr>\n      <th>2023-09-05 00:00:00-04:00</th>\n      <td>188.279999</td>\n      <td>189.979996</td>\n      <td>187.610001</td>\n      <td>189.699997</td>\n      <td>45280000</td>\n    </tr>\n    <tr>\n      <th>2023-09-06 00:00:00-04:00</th>\n      <td>188.399994</td>\n      <td>188.850006</td>\n      <td>181.470001</td>\n      <td>182.910004</td>\n      <td>81755800</td>\n    </tr>\n    <tr>\n      <th>2023-09-07 00:00:00-04:00</th>\n      <td>175.179993</td>\n      <td>178.210007</td>\n      <td>173.539993</td>\n      <td>177.559998</td>\n      <td>112488800</td>\n    </tr>\n    <tr>\n      <th>2023-09-08 00:00:00-04:00</th>\n      <td>178.350006</td>\n      <td>180.240005</td>\n      <td>177.789993</td>\n      <td>178.179993</td>\n      <td>65551300</td>\n    </tr>\n    <tr>\n      <th>2023-09-11 00:00:00-04:00</th>\n      <td>180.070007</td>\n      <td>180.300003</td>\n      <td>177.339996</td>\n      <td>179.360001</td>\n      <td>58953100</td>\n    </tr>\n    <tr>\n      <th>2023-09-12 00:00:00-04:00</th>\n      <td>179.490005</td>\n      <td>180.130005</td>\n      <td>174.820007</td>\n      <td>176.300003</td>\n      <td>90370200</td>\n    </tr>\n    <tr>\n      <th>2023-09-13 00:00:00-04:00</th>\n      <td>176.509995</td>\n      <td>177.300003</td>\n      <td>173.979996</td>\n      <td>174.210007</td>\n      <td>84267900</td>\n    </tr>\n    <tr>\n      <th>2023-09-14 00:00:00-04:00</th>\n      <td>174.000000</td>\n      <td>176.100006</td>\n      <td>173.580002</td>\n      <td>175.740005</td>\n      <td>60895800</td>\n    </tr>\n    <tr>\n      <th>2023-09-15 00:00:00-04:00</th>\n      <td>176.479996</td>\n      <td>176.500000</td>\n      <td>173.820007</td>\n      <td>175.009995</td>\n      <td>109205100</td>\n    </tr>\n    <tr>\n      <th>2023-09-18 00:00:00-04:00</th>\n      <td>176.479996</td>\n      <td>179.380005</td>\n      <td>176.169998</td>\n      <td>177.970001</td>\n      <td>67257600</td>\n    </tr>\n    <tr>\n      <th>2023-09-19 00:00:00-04:00</th>\n      <td>177.520004</td>\n      <td>179.630005</td>\n      <td>177.130005</td>\n      <td>179.070007</td>\n      <td>51826900</td>\n    </tr>\n    <tr>\n      <th>2023-09-20 00:00:00-04:00</th>\n      <td>179.259995</td>\n      <td>179.699997</td>\n      <td>175.399994</td>\n      <td>175.490005</td>\n      <td>58436200</td>\n    </tr>\n    <tr>\n      <th>2023-09-21 00:00:00-04:00</th>\n      <td>174.550003</td>\n      <td>176.300003</td>\n      <td>173.860001</td>\n      <td>173.929993</td>\n      <td>63047900</td>\n    </tr>\n    <tr>\n      <th>2023-09-22 00:00:00-04:00</th>\n      <td>174.669998</td>\n      <td>177.078995</td>\n      <td>174.054993</td>\n      <td>174.789993</td>\n      <td>55110610</td>\n    </tr>\n  </tbody>\n</table>\n</div>"
     },
     "execution_count": 46,
     "metadata": {},
     "output_type": "execute_result"
    }
   ],
   "source": [
    "prices = sample_prices().tail(15)\n",
    "prices"
   ],
   "metadata": {
    "collapsed": false,
    "ExecuteTime": {
     "end_time": "2023-12-16T13:46:18.451815Z",
     "start_time": "2023-12-16T13:46:18.423002Z"
    }
   },
   "id": "445b311d94c47e8a"
  },
  {
   "cell_type": "code",
   "execution_count": 47,
   "outputs": [
    {
     "data": {
      "text/plain": "                                 open        high         low       close  \\\ndate                                                                        \n2023-09-01 00:00:00-04:00  189.490005  189.919998  188.279999  189.460007   \n2023-09-05 00:00:00-04:00  188.279999  189.979996  187.610001  189.699997   \n2023-09-06 00:00:00-04:00  188.399994  188.850006  181.470001  182.910004   \n2023-09-07 00:00:00-04:00  175.179993  178.210007  173.539993  177.559998   \n2023-09-08 00:00:00-04:00  178.350006  180.240005  177.789993  178.179993   \n2023-09-11 00:00:00-04:00  180.070007  180.300003  177.339996  179.360001   \n2023-09-12 00:00:00-04:00  179.490005  180.130005  174.820007  176.300003   \n2023-09-13 00:00:00-04:00  176.509995  177.300003  173.979996  174.210007   \n2023-09-14 00:00:00-04:00  174.000000  176.100006  173.580002  175.740005   \n2023-09-15 00:00:00-04:00  176.479996  176.500000  173.820007  175.009995   \n\n                              volume  \ndate                                  \n2023-09-01 00:00:00-04:00   45732600  \n2023-09-05 00:00:00-04:00   45280000  \n2023-09-06 00:00:00-04:00   81755800  \n2023-09-07 00:00:00-04:00  112488800  \n2023-09-08 00:00:00-04:00   65551300  \n2023-09-11 00:00:00-04:00   58953100  \n2023-09-12 00:00:00-04:00   90370200  \n2023-09-13 00:00:00-04:00   84267900  \n2023-09-14 00:00:00-04:00   60895800  \n2023-09-15 00:00:00-04:00  109205100  ",
      "text/html": "<div>\n<style scoped>\n    .dataframe tbody tr th:only-of-type {\n        vertical-align: middle;\n    }\n\n    .dataframe tbody tr th {\n        vertical-align: top;\n    }\n\n    .dataframe thead th {\n        text-align: right;\n    }\n</style>\n<table border=\"1\" class=\"dataframe\">\n  <thead>\n    <tr style=\"text-align: right;\">\n      <th></th>\n      <th>open</th>\n      <th>high</th>\n      <th>low</th>\n      <th>close</th>\n      <th>volume</th>\n    </tr>\n    <tr>\n      <th>date</th>\n      <th></th>\n      <th></th>\n      <th></th>\n      <th></th>\n      <th></th>\n    </tr>\n  </thead>\n  <tbody>\n    <tr>\n      <th>2023-09-01 00:00:00-04:00</th>\n      <td>189.490005</td>\n      <td>189.919998</td>\n      <td>188.279999</td>\n      <td>189.460007</td>\n      <td>45732600</td>\n    </tr>\n    <tr>\n      <th>2023-09-05 00:00:00-04:00</th>\n      <td>188.279999</td>\n      <td>189.979996</td>\n      <td>187.610001</td>\n      <td>189.699997</td>\n      <td>45280000</td>\n    </tr>\n    <tr>\n      <th>2023-09-06 00:00:00-04:00</th>\n      <td>188.399994</td>\n      <td>188.850006</td>\n      <td>181.470001</td>\n      <td>182.910004</td>\n      <td>81755800</td>\n    </tr>\n    <tr>\n      <th>2023-09-07 00:00:00-04:00</th>\n      <td>175.179993</td>\n      <td>178.210007</td>\n      <td>173.539993</td>\n      <td>177.559998</td>\n      <td>112488800</td>\n    </tr>\n    <tr>\n      <th>2023-09-08 00:00:00-04:00</th>\n      <td>178.350006</td>\n      <td>180.240005</td>\n      <td>177.789993</td>\n      <td>178.179993</td>\n      <td>65551300</td>\n    </tr>\n    <tr>\n      <th>2023-09-11 00:00:00-04:00</th>\n      <td>180.070007</td>\n      <td>180.300003</td>\n      <td>177.339996</td>\n      <td>179.360001</td>\n      <td>58953100</td>\n    </tr>\n    <tr>\n      <th>2023-09-12 00:00:00-04:00</th>\n      <td>179.490005</td>\n      <td>180.130005</td>\n      <td>174.820007</td>\n      <td>176.300003</td>\n      <td>90370200</td>\n    </tr>\n    <tr>\n      <th>2023-09-13 00:00:00-04:00</th>\n      <td>176.509995</td>\n      <td>177.300003</td>\n      <td>173.979996</td>\n      <td>174.210007</td>\n      <td>84267900</td>\n    </tr>\n    <tr>\n      <th>2023-09-14 00:00:00-04:00</th>\n      <td>174.000000</td>\n      <td>176.100006</td>\n      <td>173.580002</td>\n      <td>175.740005</td>\n      <td>60895800</td>\n    </tr>\n    <tr>\n      <th>2023-09-15 00:00:00-04:00</th>\n      <td>176.479996</td>\n      <td>176.500000</td>\n      <td>173.820007</td>\n      <td>175.009995</td>\n      <td>109205100</td>\n    </tr>\n  </tbody>\n</table>\n</div>"
     },
     "execution_count": 47,
     "metadata": {},
     "output_type": "execute_result"
    }
   ],
   "source": [
    "head = prices.head(10)\n",
    "head"
   ],
   "metadata": {
    "collapsed": false,
    "ExecuteTime": {
     "end_time": "2023-12-16T13:46:18.709139Z",
     "start_time": "2023-12-16T13:46:18.696054Z"
    }
   },
   "id": "ae1c1f1de34df06a"
  },
  {
   "cell_type": "code",
   "execution_count": 48,
   "outputs": [
    {
     "data": {
      "text/plain": "                                 open        high         low       close  \\\ndate                                                                        \n2023-09-11 00:00:00-04:00  180.070007  180.300003  177.339996  179.360001   \n2023-09-12 00:00:00-04:00  179.490005  180.130005  174.820007  176.300003   \n2023-09-13 00:00:00-04:00  176.509995  177.300003  173.979996  174.210007   \n2023-09-14 00:00:00-04:00  174.000000  176.100006  173.580002  175.740005   \n2023-09-15 00:00:00-04:00  176.479996  176.500000  173.820007  175.009995   \n2023-09-18 00:00:00-04:00  176.479996  179.380005  176.169998  177.970001   \n2023-09-19 00:00:00-04:00  177.520004  179.630005  177.130005  179.070007   \n2023-09-20 00:00:00-04:00  179.259995  179.699997  175.399994  175.490005   \n2023-09-21 00:00:00-04:00  174.550003  176.300003  173.860001  173.929993   \n2023-09-22 00:00:00-04:00  174.669998  177.078995  174.054993  174.789993   \n\n                              volume  \ndate                                  \n2023-09-11 00:00:00-04:00   58953100  \n2023-09-12 00:00:00-04:00   90370200  \n2023-09-13 00:00:00-04:00   84267900  \n2023-09-14 00:00:00-04:00   60895800  \n2023-09-15 00:00:00-04:00  109205100  \n2023-09-18 00:00:00-04:00   67257600  \n2023-09-19 00:00:00-04:00   51826900  \n2023-09-20 00:00:00-04:00   58436200  \n2023-09-21 00:00:00-04:00   63047900  \n2023-09-22 00:00:00-04:00   55110610  ",
      "text/html": "<div>\n<style scoped>\n    .dataframe tbody tr th:only-of-type {\n        vertical-align: middle;\n    }\n\n    .dataframe tbody tr th {\n        vertical-align: top;\n    }\n\n    .dataframe thead th {\n        text-align: right;\n    }\n</style>\n<table border=\"1\" class=\"dataframe\">\n  <thead>\n    <tr style=\"text-align: right;\">\n      <th></th>\n      <th>open</th>\n      <th>high</th>\n      <th>low</th>\n      <th>close</th>\n      <th>volume</th>\n    </tr>\n    <tr>\n      <th>date</th>\n      <th></th>\n      <th></th>\n      <th></th>\n      <th></th>\n      <th></th>\n    </tr>\n  </thead>\n  <tbody>\n    <tr>\n      <th>2023-09-11 00:00:00-04:00</th>\n      <td>180.070007</td>\n      <td>180.300003</td>\n      <td>177.339996</td>\n      <td>179.360001</td>\n      <td>58953100</td>\n    </tr>\n    <tr>\n      <th>2023-09-12 00:00:00-04:00</th>\n      <td>179.490005</td>\n      <td>180.130005</td>\n      <td>174.820007</td>\n      <td>176.300003</td>\n      <td>90370200</td>\n    </tr>\n    <tr>\n      <th>2023-09-13 00:00:00-04:00</th>\n      <td>176.509995</td>\n      <td>177.300003</td>\n      <td>173.979996</td>\n      <td>174.210007</td>\n      <td>84267900</td>\n    </tr>\n    <tr>\n      <th>2023-09-14 00:00:00-04:00</th>\n      <td>174.000000</td>\n      <td>176.100006</td>\n      <td>173.580002</td>\n      <td>175.740005</td>\n      <td>60895800</td>\n    </tr>\n    <tr>\n      <th>2023-09-15 00:00:00-04:00</th>\n      <td>176.479996</td>\n      <td>176.500000</td>\n      <td>173.820007</td>\n      <td>175.009995</td>\n      <td>109205100</td>\n    </tr>\n    <tr>\n      <th>2023-09-18 00:00:00-04:00</th>\n      <td>176.479996</td>\n      <td>179.380005</td>\n      <td>176.169998</td>\n      <td>177.970001</td>\n      <td>67257600</td>\n    </tr>\n    <tr>\n      <th>2023-09-19 00:00:00-04:00</th>\n      <td>177.520004</td>\n      <td>179.630005</td>\n      <td>177.130005</td>\n      <td>179.070007</td>\n      <td>51826900</td>\n    </tr>\n    <tr>\n      <th>2023-09-20 00:00:00-04:00</th>\n      <td>179.259995</td>\n      <td>179.699997</td>\n      <td>175.399994</td>\n      <td>175.490005</td>\n      <td>58436200</td>\n    </tr>\n    <tr>\n      <th>2023-09-21 00:00:00-04:00</th>\n      <td>174.550003</td>\n      <td>176.300003</td>\n      <td>173.860001</td>\n      <td>173.929993</td>\n      <td>63047900</td>\n    </tr>\n    <tr>\n      <th>2023-09-22 00:00:00-04:00</th>\n      <td>174.669998</td>\n      <td>177.078995</td>\n      <td>174.054993</td>\n      <td>174.789993</td>\n      <td>55110610</td>\n    </tr>\n  </tbody>\n</table>\n</div>"
     },
     "execution_count": 48,
     "metadata": {},
     "output_type": "execute_result"
    }
   ],
   "source": [
    "tail = prices.tail(10)\n",
    "tail"
   ],
   "metadata": {
    "collapsed": false,
    "ExecuteTime": {
     "end_time": "2023-12-16T13:46:18.923355Z",
     "start_time": "2023-12-16T13:46:18.912233Z"
    }
   },
   "id": "cb9cef7193d5b832"
  },
  {
   "cell_type": "code",
   "execution_count": 49,
   "outputs": [
    {
     "data": {
      "text/plain": "Index([2023-09-11 00:00:00-04:00, 2023-09-12 00:00:00-04:00,\n       2023-09-13 00:00:00-04:00, 2023-09-14 00:00:00-04:00,\n       2023-09-15 00:00:00-04:00],\n      dtype='object', name='date')"
     },
     "execution_count": 49,
     "metadata": {},
     "output_type": "execute_result"
    }
   ],
   "source": [
    "index = head.index.intersection(tail.index)\n",
    "index"
   ],
   "metadata": {
    "collapsed": false,
    "ExecuteTime": {
     "end_time": "2023-12-16T13:46:19.172535Z",
     "start_time": "2023-12-16T13:46:19.159745Z"
    }
   },
   "id": "266b657496b711ea"
  },
  {
   "cell_type": "code",
   "execution_count": 50,
   "outputs": [
    {
     "data": {
      "text/plain": "5"
     },
     "execution_count": 50,
     "metadata": {},
     "output_type": "execute_result"
    }
   ],
   "source": [
    "len(index)"
   ],
   "metadata": {
    "collapsed": false,
    "ExecuteTime": {
     "end_time": "2023-12-16T13:46:19.445439Z",
     "start_time": "2023-12-16T13:46:19.433574Z"
    }
   },
   "id": "8e3f287b4a97cfb3"
  },
  {
   "cell_type": "code",
   "execution_count": 51,
   "outputs": [
    {
     "data": {
      "text/plain": "                                 open        high         low       close  \\\ndate                                                                        \n2023-09-11 00:00:00-04:00  180.070007  180.300003  177.339996  179.360001   \n2023-09-12 00:00:00-04:00  179.490005  180.130005  174.820007  176.300003   \n2023-09-13 00:00:00-04:00  176.509995  177.300003  173.979996  174.210007   \n2023-09-14 00:00:00-04:00  174.000000  176.100006  173.580002  175.740005   \n2023-09-15 00:00:00-04:00  176.479996  176.500000  173.820007  175.009995   \n\n                              volume  \ndate                                  \n2023-09-11 00:00:00-04:00   58953100  \n2023-09-12 00:00:00-04:00   90370200  \n2023-09-13 00:00:00-04:00   84267900  \n2023-09-14 00:00:00-04:00   60895800  \n2023-09-15 00:00:00-04:00  109205100  ",
      "text/html": "<div>\n<style scoped>\n    .dataframe tbody tr th:only-of-type {\n        vertical-align: middle;\n    }\n\n    .dataframe tbody tr th {\n        vertical-align: top;\n    }\n\n    .dataframe thead th {\n        text-align: right;\n    }\n</style>\n<table border=\"1\" class=\"dataframe\">\n  <thead>\n    <tr style=\"text-align: right;\">\n      <th></th>\n      <th>open</th>\n      <th>high</th>\n      <th>low</th>\n      <th>close</th>\n      <th>volume</th>\n    </tr>\n    <tr>\n      <th>date</th>\n      <th></th>\n      <th></th>\n      <th></th>\n      <th></th>\n      <th></th>\n    </tr>\n  </thead>\n  <tbody>\n    <tr>\n      <th>2023-09-11 00:00:00-04:00</th>\n      <td>180.070007</td>\n      <td>180.300003</td>\n      <td>177.339996</td>\n      <td>179.360001</td>\n      <td>58953100</td>\n    </tr>\n    <tr>\n      <th>2023-09-12 00:00:00-04:00</th>\n      <td>179.490005</td>\n      <td>180.130005</td>\n      <td>174.820007</td>\n      <td>176.300003</td>\n      <td>90370200</td>\n    </tr>\n    <tr>\n      <th>2023-09-13 00:00:00-04:00</th>\n      <td>176.509995</td>\n      <td>177.300003</td>\n      <td>173.979996</td>\n      <td>174.210007</td>\n      <td>84267900</td>\n    </tr>\n    <tr>\n      <th>2023-09-14 00:00:00-04:00</th>\n      <td>174.000000</td>\n      <td>176.100006</td>\n      <td>173.580002</td>\n      <td>175.740005</td>\n      <td>60895800</td>\n    </tr>\n    <tr>\n      <th>2023-09-15 00:00:00-04:00</th>\n      <td>176.479996</td>\n      <td>176.500000</td>\n      <td>173.820007</td>\n      <td>175.009995</td>\n      <td>109205100</td>\n    </tr>\n  </tbody>\n</table>\n</div>"
     },
     "execution_count": 51,
     "metadata": {},
     "output_type": "execute_result"
    }
   ],
   "source": [
    "head.loc[index]"
   ],
   "metadata": {
    "collapsed": false,
    "ExecuteTime": {
     "end_time": "2023-12-16T13:46:19.778019Z",
     "start_time": "2023-12-16T13:46:19.755348Z"
    }
   },
   "id": "517fbeab6ba365a7"
  },
  {
   "cell_type": "code",
   "execution_count": 54,
   "outputs": [
    {
     "data": {
      "text/plain": "open      1.800700e+02\nhigh      1.803000e+02\nlow       1.773400e+02\nclose     1.793600e+02\nvolume    5.895310e+07\nName: 2023-09-11 00:00:00-04:00, dtype: float64"
     },
     "execution_count": 54,
     "metadata": {},
     "output_type": "execute_result"
    }
   ],
   "source": [
    "row = tail.loc[index[0]]\n",
    "row"
   ],
   "metadata": {
    "collapsed": false,
    "ExecuteTime": {
     "end_time": "2023-12-16T13:52:19.384514Z",
     "start_time": "2023-12-16T13:52:19.369918Z"
    }
   },
   "id": "7946dd6c3813d192"
  },
  {
   "cell_type": "code",
   "execution_count": 55,
   "outputs": [
    {
     "data": {
      "text/plain": "179.36000061035156"
     },
     "execution_count": 55,
     "metadata": {},
     "output_type": "execute_result"
    }
   ],
   "source": [
    "row.close"
   ],
   "metadata": {
    "collapsed": false,
    "ExecuteTime": {
     "end_time": "2023-12-16T13:52:24.926448Z",
     "start_time": "2023-12-16T13:52:24.914416Z"
    }
   },
   "id": "f5734d747329e1ae"
  },
  {
   "cell_type": "code",
   "execution_count": null,
   "outputs": [],
   "source": [],
   "metadata": {
    "collapsed": false
   },
   "id": "4fd15d74ba993137"
  }
 ],
 "metadata": {
  "kernelspec": {
   "display_name": "Python 3",
   "language": "python",
   "name": "python3"
  },
  "language_info": {
   "codemirror_mode": {
    "name": "ipython",
    "version": 2
   },
   "file_extension": ".py",
   "mimetype": "text/x-python",
   "name": "python",
   "nbconvert_exporter": "python",
   "pygments_lexer": "ipython2",
   "version": "2.7.6"
  }
 },
 "nbformat": 4,
 "nbformat_minor": 5
}
