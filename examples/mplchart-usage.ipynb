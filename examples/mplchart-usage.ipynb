{
 "cells": [
  {
   "cell_type": "markdown",
   "source": [
    "# mplchart typical usage example"
   ],
   "metadata": {
    "collapsed": false,
    "pycharm": {
     "name": "#%% md\n"
    }
   }
  },
  {
   "cell_type": "code",
   "execution_count": null,
   "outputs": [],
   "source": [
    "from mplchart.chart import Chart\n",
    "from mplchart.helper import get_prices\n",
    "from mplchart.primitives import OHLC, Candlesticks, Volume\n",
    "from mplchart.indicators import SMA, RSI, MACD\n",
    "\n",
    "\n",
    "from matplotlib_inline.backend_inline import set_matplotlib_formats\n",
    "\n",
    "set_matplotlib_formats('svg')\n"
   ],
   "metadata": {
    "collapsed": false,
    "pycharm": {
     "name": "#%%\n"
    }
   }
  },
  {
   "cell_type": "code",
   "execution_count": null,
   "outputs": [],
   "source": [
    "ticker = 'AAPL'\n",
    "freq = 'daily'\n",
    "prices = get_prices(ticker, freq=freq)\n",
    "prices"
   ],
   "metadata": {
    "collapsed": false,
    "pycharm": {
     "name": "#%%\n"
    }
   }
  },
  {
   "cell_type": "code",
   "execution_count": null,
   "outputs": [],
   "source": [
    "style = 'tableau'\n",
    "max_bars = 250\n",
    "\n",
    "indicators = [\n",
    "    Candlesticks(), SMA(50), SMA(200), Volume(),\n",
    "    RSI(),\n",
    "    MACD(),\n",
    "]\n",
    "\n",
    "chart = Chart(title=ticker, max_bars=max_bars, style=style)\n",
    "chart.plot(prices, indicators)"
   ],
   "metadata": {
    "collapsed": false,
    "pycharm": {
     "name": "#%%\n"
    }
   }
  },
  {
   "cell_type": "code",
   "execution_count": null,
   "outputs": [],
   "source": [],
   "metadata": {
    "collapsed": false,
    "pycharm": {
     "name": "#%%\n"
    }
   }
  }
 ],
 "metadata": {
  "kernelspec": {
   "display_name": "Python 3 (ipykernel)",
   "language": "python",
   "name": "python3"
  },
  "language_info": {
   "codemirror_mode": {
    "name": "ipython",
    "version": 3
   },
   "file_extension": ".py",
   "mimetype": "text/x-python",
   "name": "python",
   "nbconvert_exporter": "python",
   "pygments_lexer": "ipython3",
   "version": "3.8.13"
  }
 },
 "nbformat": 4,
 "nbformat_minor": 1
}