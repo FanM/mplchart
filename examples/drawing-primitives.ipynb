{
 "cells": [
  {
   "cell_type": "markdown",
   "metadata": {
    "collapsed": false,
    "pycharm": {
     "name": "#%% md\n"
    }
   },
   "source": [
    "# A quick tour of mplchart drawing primitives"
   ]
  },
  {
   "cell_type": "code",
   "execution_count": 1,
   "metadata": {
    "collapsed": false,
    "pycharm": {
     "name": "#%%\n"
    },
    "ExecuteTime": {
     "end_time": "2024-03-15T20:44:23.338710Z",
     "start_time": "2024-03-15T20:44:22.870380Z"
    }
   },
   "source": [
    "import yfinance as yf\n",
    "\n",
    "from mplchart.chart import Chart\n",
    "\n",
    "from mplchart.primitives import (\n",
    "    Candlesticks,\n",
    "    OHLC,\n",
    "    Price,\n",
    "    Volume,\n",
    "    NewAxes,\n",
    "    SameAxes,\n",
    "    Peaks,\n",
    ")\n",
    "from mplchart.indicators import SMA, EMA, ROC, MACD, PPO, SLOPE"
   ],
   "outputs": []
  },
  {
   "cell_type": "markdown",
   "metadata": {
    "collapsed": false,
    "pycharm": {
     "name": "#%% md\n"
    }
   },
   "source": [
    "## Fetching the prices"
   ]
  },
  {
   "cell_type": "code",
   "execution_count": 2,
   "metadata": {
    "collapsed": false,
    "pycharm": {
     "name": "#%%\n"
    },
    "ExecuteTime": {
     "end_time": "2024-03-15T20:44:25.191880Z",
     "start_time": "2024-03-15T20:44:24.970862Z"
    }
   },
   "source": [
    "ticker = \"AAPL\"\n",
    "prices = yf.Ticker(ticker).history(period=\"5y\")"
   ],
   "outputs": []
  },
  {
   "cell_type": "markdown",
   "metadata": {
    "collapsed": false,
    "pycharm": {
     "name": "#%% md\n"
    }
   },
   "source": [
    "## Candlestick plot with the Candlesticks primitive"
   ]
  },
  {
   "cell_type": "code",
   "execution_count": 3,
   "metadata": {
    "collapsed": false,
    "pycharm": {
     "name": "#%%\n"
    },
    "ExecuteTime": {
     "end_time": "2024-03-15T20:44:28.014350Z",
     "start_time": "2024-03-15T20:44:27.728898Z"
    }
   },
   "source": [
    "max_bars = 250\n",
    "indicators = [Candlesticks()]\n",
    "\n",
    "chart = Chart(title=ticker, max_bars=max_bars, figsize=(12, 9))\n",
    "chart.plot(prices, indicators)"
   ],
   "outputs": []
  },
  {
   "cell_type": "markdown",
   "metadata": {
    "collapsed": false,
    "pycharm": {
     "name": "#%% md\n"
    }
   },
   "source": [
    "\n",
    "## Open High Low Close bars with OHLC primitive"
   ]
  },
  {
   "cell_type": "code",
   "execution_count": 4,
   "metadata": {
    "collapsed": false,
    "pycharm": {
     "name": "#%%\n"
    },
    "ExecuteTime": {
     "end_time": "2024-03-15T20:44:30.554154Z",
     "start_time": "2024-03-15T20:44:30.277130Z"
    }
   },
   "source": [
    "max_bars = 250\n",
    "indicators = [OHLC()]\n",
    "\n",
    "chart = Chart(title=ticker, max_bars=max_bars, figsize=(12, 9))\n",
    "chart.plot(prices, indicators)"
   ],
   "outputs": []
  },
  {
   "cell_type": "markdown",
   "metadata": {
    "collapsed": false,
    "pycharm": {
     "name": "#%% md\n"
    }
   },
   "source": [
    "## Simple price plot with Price primitive"
   ]
  },
  {
   "cell_type": "code",
   "execution_count": 5,
   "metadata": {
    "collapsed": false,
    "pycharm": {
     "name": "#%%\n"
    },
    "ExecuteTime": {
     "end_time": "2024-03-15T20:44:32.653012Z",
     "start_time": "2024-03-15T20:44:32.351295Z"
    }
   },
   "source": [
    "max_bars = 250\n",
    "indicators = [Price()]\n",
    "\n",
    "chart = Chart(title=ticker, max_bars=max_bars, figsize=(12, 9))\n",
    "chart.plot(prices, indicators)"
   ],
   "outputs": []
  },
  {
   "cell_type": "markdown",
   "metadata": {
    "collapsed": false,
    "pycharm": {
     "name": "#%% md\n"
    }
   },
   "source": [
    "## Volume plot with the Volume primitive"
   ]
  },
  {
   "cell_type": "code",
   "execution_count": 6,
   "metadata": {
    "collapsed": false,
    "pycharm": {
     "name": "#%%\n"
    },
    "ExecuteTime": {
     "end_time": "2024-03-15T20:44:35.540865Z",
     "start_time": "2024-03-15T20:44:35.168886Z"
    }
   },
   "source": [
    "max_bars = 250\n",
    "indicators = [Volume()]\n",
    "\n",
    "chart = Chart(title=ticker, max_bars=max_bars, figsize=(12, 9))\n",
    "chart.plot(prices, indicators)"
   ],
   "outputs": []
  },
  {
   "cell_type": "markdown",
   "metadata": {
    "collapsed": false,
    "pycharm": {
     "name": "#%% md\n"
    }
   },
   "source": [
    "## Candlesticks and Volume combined"
   ]
  },
  {
   "cell_type": "code",
   "execution_count": 7,
   "metadata": {
    "collapsed": false,
    "pycharm": {
     "name": "#%%\n"
    },
    "ExecuteTime": {
     "end_time": "2024-03-15T20:44:37.742108Z",
     "start_time": "2024-03-15T20:44:37.329444Z"
    }
   },
   "source": [
    "max_bars = 250\n",
    "indicators = [Candlesticks(), Volume()]\n",
    "\n",
    "chart = Chart(title=ticker, max_bars=max_bars, figsize=(12, 9))\n",
    "chart.plot(prices, indicators)"
   ],
   "outputs": []
  },
  {
   "cell_type": "markdown",
   "metadata": {
    "collapsed": false,
    "pycharm": {
     "name": "#%% md\n"
    }
   },
   "source": [
    "## Forcing the use of a new axes with the NewAxes primitive\n",
    "\n",
    "Some indicators like `SMA` render on the same pane as the previous indicator by default. You can use `NewAxes()` to force a new axes.\n"
   ]
  },
  {
   "cell_type": "code",
   "execution_count": 8,
   "metadata": {
    "collapsed": false,
    "pycharm": {
     "name": "#%%\n"
    },
    "ExecuteTime": {
     "end_time": "2024-03-15T20:44:39.794394Z",
     "start_time": "2024-03-15T20:44:39.401146Z"
    }
   },
   "source": [
    "max_bars = 250\n",
    "indicators = [Candlesticks(), NewAxes(), SMA(50)]\n",
    "\n",
    "chart = Chart(title=ticker, max_bars=max_bars, figsize=(12, 9))\n",
    "chart.plot(prices, indicators)"
   ],
   "outputs": []
  },
  {
   "cell_type": "markdown",
   "metadata": {
    "collapsed": false,
    "pycharm": {
     "name": "#%% md\n"
    }
   },
   "source": [
    "\n",
    "## Forcing the use of the same axes with SameAxes primitive\n",
    "\n",
    "Most indicators render in a new pane by default. You can use `SameAxes()` to reuse the previous axes.\n"
   ]
  },
  {
   "cell_type": "code",
   "execution_count": 9,
   "metadata": {
    "collapsed": false,
    "pycharm": {
     "name": "#%%\n"
    },
    "ExecuteTime": {
     "end_time": "2024-03-15T20:44:46.127749Z",
     "start_time": "2024-03-15T20:44:45.717150Z"
    }
   },
   "source": [
    "max_bars = 250\n",
    "\n",
    "indicators = [Candlesticks(), SLOPE(20), SameAxes(), SLOPE(50)]\n",
    "\n",
    "chart = Chart(title=ticker, max_bars=max_bars, figsize=(12, 9))\n",
    "chart.plot(prices, indicators)"
   ],
   "outputs": []
  },
  {
   "cell_type": "markdown",
   "metadata": {
    "collapsed": false,
    "pycharm": {
     "name": "#%% md\n"
    }
   },
   "source": [
    "## Visualize local peaks and valleys with the Peaks primitive\n",
    "The Peaks primitive will by default apply to the previously rendered indicator"
   ]
  },
  {
   "cell_type": "code",
   "execution_count": 10,
   "metadata": {
    "collapsed": false,
    "pycharm": {
     "name": "#%%\n"
    },
    "ExecuteTime": {
     "end_time": "2024-03-15T20:44:47.999109Z",
     "start_time": "2024-03-15T20:44:47.581935Z"
    }
   },
   "source": [
    "max_bars = 260\n",
    "indicators = [\n",
    "    Candlesticks(),\n",
    "    SLOPE(20),\n",
    "    Peaks(5),\n",
    "]\n",
    "\n",
    "chart = Chart(title=ticker, max_bars=max_bars, figsize=(12, 9))\n",
    "chart.plot(prices, indicators)"
   ],
   "outputs": []
  },
  {
   "cell_type": "code",
   "source": [],
   "metadata": {
    "collapsed": false,
    "ExecuteTime": {
     "end_time": "2024-02-26T13:33:14.272921Z",
     "start_time": "2024-02-26T13:33:14.261853Z"
    }
   },
   "execution_count": 30,
   "outputs": []
  },
  {
   "cell_type": "code",
   "source": [],
   "metadata": {
    "collapsed": false
   },
   "execution_count": null,
   "outputs": []
  }
 ],
 "metadata": {
  "kernelspec": {
   "display_name": "Python 3",
   "language": "python",
   "name": "python3"
  },
  "language_info": {
   "codemirror_mode": {
    "name": "ipython",
    "version": 3
   },
   "file_extension": ".py",
   "mimetype": "text/x-python",
   "name": "python",
   "nbconvert_exporter": "python",
   "pygments_lexer": "ipython3",
   "version": "3.8.8"
  }
 },
 "nbformat": 4,
 "nbformat_minor": 1
}
