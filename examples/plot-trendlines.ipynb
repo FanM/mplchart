{
 "cells": [
  {
   "cell_type": "code",
   "execution_count": null,
   "metadata": {},
   "outputs": [],
   "source": [
    "import yfinance as yf\n",
    "from mplchart.chart import Chart\n",
    "from mplchart.primitives import Candlesticks, Volume, ChartPattern, ScanProperties\n",
    "\n",
    "ticker = \"AAPL\"\n",
    "prices = yf.Ticker(ticker).history(period=\"2y\")"
   ]
  },
  {
   "cell_type": "code",
   "execution_count": null,
   "metadata": {},
   "outputs": [],
   "source": [
    "# Configure pattern scanning\n",
    "scan_props = ScanProperties(\n",
    "        number_of_pivots=5,\n",
    "        error_ratio=1e-6,\n",
    "    )\n",
    "\n",
    "\n",
    "indicators = [\n",
    "    Candlesticks(colorup=\"green\", colordn=\"red\"),\n",
    "    Volume(),\n",
    "    #ChartPattern(backcandels=2, forwardcandels=2, pivot_limit=100, show_pivots=True, scan_props=scan_props),\n",
    "    ChartPattern(backcandels=5, forwardcandels=5, pivot_limit=50, show_pivots=True, scan_props=scan_props),\n",
    "    # SMA(50),\n",
    "    # SMA(200),\n",
    "    # RSI(),\n",
    "    # MACD(),\n",
    "]\n",
    "\n",
    "chart = Chart(title=ticker, figsize=(20, 8))\n",
    "chart.plot(prices, indicators)\n"
   ]
  },
  {
   "cell_type": "markdown",
   "metadata": {},
   "source": [
    "## Debug Zigzag"
   ]
  },
  {
   "cell_type": "code",
   "execution_count": null,
   "metadata": {},
   "outputs": [],
   "source": [
    "from mplchart.zigzag import Zigzag\n",
    "\n",
    "zigzag = Zigzag(backcandels=2, forwardcandels=2, pivot_limit=55, offset=0)\n",
    "prices[\"high\"] = prices[\"High\"]\n",
    "prices[\"low\"] = prices[\"Low\"]\n",
    "prices[\"close\"] = prices[\"Close\"]\n",
    "zigzag.calculate(prices)\n",
    "\n",
    "for pivot in zigzag.zigzag_pivots:\n",
    "    print(f\"Pivot: time={pivot.point.time}, index={pivot.point.index}, price={pivot.point.price}\")\n",
    "print(f\"Number of pivots: {len(zigzag.zigzag_pivots)}\")"
   ]
  }
 ],
 "metadata": {
  "language_info": {
   "name": "python"
  }
 },
 "nbformat": 4,
 "nbformat_minor": 2
}
