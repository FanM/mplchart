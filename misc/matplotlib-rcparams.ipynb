{
 "cells": [
  {
   "cell_type": "code",
   "id": "153e7e084bc2a746",
   "metadata": {
    "collapsed": false,
    "ExecuteTime": {
     "end_time": "2024-09-08T03:24:50.939601Z",
     "start_time": "2024-09-08T03:24:50.925593Z"
    }
   },
   "source": [
    "import matplotlib as mpl\n",
    "import matplotlib.pyplot as plt\n",
    "\n",
    "from matplotlib_inline.backend_inline import set_matplotlib_formats"
   ],
   "outputs": [],
   "execution_count": 9
  },
  {
   "cell_type": "code",
   "source": [
    "# mpl.rcParams. update(mpl.rcParamsDefault)\n",
    "\n",
    "# set_matplotlib_formats(\"svg\")"
   ],
   "metadata": {
    "collapsed": true,
    "ExecuteTime": {
     "end_time": "2024-09-08T03:24:51.361712Z",
     "start_time": "2024-09-08T03:24:51.347495Z"
    }
   },
   "id": "initial_id",
   "outputs": [],
   "execution_count": 10
  },
  {
   "cell_type": "code",
   "source": [
    "for item in (\"lines.color\", ):\n",
    "    print(item, plt.rcParams.get(item))\n",
    "\n",
    "print(plt.rcParams['axes.prop_cycle'].by_key()['color'])\n",
    "\n",
    "[(k, v) for k, v in plt.rcParams.items() if v in (\"white\", \"black\")]"
   ],
   "metadata": {
    "collapsed": false,
    "ExecuteTime": {
     "end_time": "2024-09-08T03:24:52.076050Z",
     "start_time": "2024-09-08T03:24:52.057256Z"
    }
   },
   "id": "b8bc8c393e179347",
   "outputs": [
    {
     "name": "stdout",
     "output_type": "stream",
     "text": [
      "lines.color white\n",
      "['#8dd3c7', '#feffb3', '#bfbbd9', '#fa8174', '#81b1d2', '#fdb462', '#b3de69', '#bc82bd', '#ccebc4', '#ffed6f']\n"
     ]
    },
    {
     "data": {
      "text/plain": [
       "[('axes.edgecolor', 'white'),\n",
       " ('axes.facecolor', 'black'),\n",
       " ('axes.labelcolor', 'white'),\n",
       " ('boxplot.boxprops.color', 'white'),\n",
       " ('boxplot.capprops.color', 'white'),\n",
       " ('boxplot.flierprops.color', 'white'),\n",
       " ('boxplot.flierprops.markeredgecolor', 'white'),\n",
       " ('boxplot.whiskerprops.color', 'white'),\n",
       " ('figure.edgecolor', 'black'),\n",
       " ('figure.facecolor', 'black'),\n",
       " ('grid.color', 'white'),\n",
       " ('hatch.color', 'black'),\n",
       " ('lines.color', 'white'),\n",
       " ('patch.edgecolor', 'white'),\n",
       " ('savefig.edgecolor', 'black'),\n",
       " ('savefig.facecolor', 'black'),\n",
       " ('text.color', 'white'),\n",
       " ('xtick.color', 'white'),\n",
       " ('ytick.color', 'white')]"
      ]
     },
     "execution_count": 11,
     "metadata": {},
     "output_type": "execute_result"
    }
   ],
   "execution_count": 11
  },
  {
   "cell_type": "code",
   "source": [
    "mpl.style.use(\"dark_background\")\n",
    "\n",
    "for item in (\"lines.color\", ):\n",
    "    print(item, plt.rcParams.get(item))\n",
    "\n",
    "print(plt.rcParams['axes.prop_cycle'].by_key()['color'])\n",
    "\n",
    "[(k, v) for k, v in plt.rcParams.items() if v in (\"white\", \"black\")]"
   ],
   "metadata": {
    "collapsed": false,
    "ExecuteTime": {
     "end_time": "2024-09-08T03:24:52.836608Z",
     "start_time": "2024-09-08T03:24:52.818263Z"
    }
   },
   "id": "6dbc24ddaf2ed95c",
   "outputs": [
    {
     "name": "stdout",
     "output_type": "stream",
     "text": [
      "lines.color white\n",
      "['#8dd3c7', '#feffb3', '#bfbbd9', '#fa8174', '#81b1d2', '#fdb462', '#b3de69', '#bc82bd', '#ccebc4', '#ffed6f']\n"
     ]
    },
    {
     "data": {
      "text/plain": [
       "[('axes.edgecolor', 'white'),\n",
       " ('axes.facecolor', 'black'),\n",
       " ('axes.labelcolor', 'white'),\n",
       " ('boxplot.boxprops.color', 'white'),\n",
       " ('boxplot.capprops.color', 'white'),\n",
       " ('boxplot.flierprops.color', 'white'),\n",
       " ('boxplot.flierprops.markeredgecolor', 'white'),\n",
       " ('boxplot.whiskerprops.color', 'white'),\n",
       " ('figure.edgecolor', 'black'),\n",
       " ('figure.facecolor', 'black'),\n",
       " ('grid.color', 'white'),\n",
       " ('hatch.color', 'black'),\n",
       " ('lines.color', 'white'),\n",
       " ('patch.edgecolor', 'white'),\n",
       " ('savefig.edgecolor', 'black'),\n",
       " ('savefig.facecolor', 'black'),\n",
       " ('text.color', 'white'),\n",
       " ('xtick.color', 'white'),\n",
       " ('ytick.color', 'white')]"
      ]
     },
     "execution_count": 12,
     "metadata": {},
     "output_type": "execute_result"
    }
   ],
   "execution_count": 12
  },
  {
   "cell_type": "code",
   "source": [
    "color_palette = plt.rcParams['axes.prop_cycle'].by_key()['color']\n",
    "color_palette"
   ],
   "metadata": {
    "collapsed": false,
    "ExecuteTime": {
     "end_time": "2024-09-08T03:24:53.569416Z",
     "start_time": "2024-09-08T03:24:53.552891Z"
    }
   },
   "id": "bb313447830aeb6e",
   "outputs": [
    {
     "data": {
      "text/plain": [
       "['#8dd3c7',\n",
       " '#feffb3',\n",
       " '#bfbbd9',\n",
       " '#fa8174',\n",
       " '#81b1d2',\n",
       " '#fdb462',\n",
       " '#b3de69',\n",
       " '#bc82bd',\n",
       " '#ccebc4',\n",
       " '#ffed6f']"
      ]
     },
     "execution_count": 13,
     "metadata": {},
     "output_type": "execute_result"
    }
   ],
   "execution_count": 13
  },
  {
   "cell_type": "code",
   "source": [
    "lines_color = plt.rcParams['lines.color']\n",
    "lines_color"
   ],
   "metadata": {
    "collapsed": false,
    "ExecuteTime": {
     "end_time": "2024-09-08T03:24:54.181966Z",
     "start_time": "2024-09-08T03:24:54.168982Z"
    }
   },
   "id": "acbe35bef6e8bc67",
   "outputs": [
    {
     "data": {
      "text/plain": [
       "'white'"
      ]
     },
     "execution_count": 14,
     "metadata": {},
     "output_type": "execute_result"
    }
   ],
   "execution_count": 14
  },
  {
   "cell_type": "code",
   "source": [
    "plt.plot([1, 2, 3], [101.1, 102.5, 103.1], color=\"C0\")"
   ],
   "metadata": {
    "collapsed": false,
    "ExecuteTime": {
     "end_time": "2024-09-08T03:24:54.887146Z",
     "start_time": "2024-09-08T03:24:54.792858Z"
    }
   },
   "id": "5d9935917dffbbb8",
   "outputs": [
    {
     "data": {
      "text/plain": [
       "[<matplotlib.lines.Line2D at 0x1092aa760>]"
      ]
     },
     "execution_count": 15,
     "metadata": {},
     "output_type": "execute_result"
    },
    {
     "data": {
      "text/plain": [
       "<Figure size 640x480 with 1 Axes>"
      ],
      "image/png": "[encoded data removed]"
     },
     "metadata": {},
     "output_type": "display_data"
    }
   ],
   "execution_count": 15
  },
  {
   "cell_type": "code",
   "source": [
    "plt.style.use(\"dark_background\")\n",
    "plt.plot([1, 2, 3], [101.1, 102.5, 103.1])\n"
   ],
   "metadata": {
    "collapsed": false,
    "ExecuteTime": {
     "end_time": "2024-09-08T03:24:55.641126Z",
     "start_time": "2024-09-08T03:24:55.538415Z"
    }
   },
   "id": "6bcf2464071eff62",
   "outputs": [
    {
     "data": {
      "text/plain": [
       "[<matplotlib.lines.Line2D at 0x10932ccd0>]"
      ]
     },
     "execution_count": 16,
     "metadata": {},
     "output_type": "execute_result"
    },
    {
     "data": {
      "text/plain": [
       "<Figure size 640x480 with 1 Axes>"
      ],
      "image/png": "[encoded data removed]"
     },
     "metadata": {},
     "output_type": "display_data"
    }
   ],
   "execution_count": 16
  },
  {
   "cell_type": "code",
   "source": "",
   "metadata": {
    "collapsed": false,
    "ExecuteTime": {
     "end_time": "2024-09-08T03:23:39.266163Z",
     "start_time": "2024-09-08T03:23:39.251135Z"
    }
   },
   "id": "e6e856cceae43195",
   "outputs": [
    {
     "name": "stdout",
     "output_type": "stream",
     "text": [
      "1\n"
     ]
    }
   ],
   "execution_count": 9
  },
  {
   "metadata": {},
   "cell_type": "code",
   "outputs": [],
   "execution_count": null,
   "source": "",
   "id": "46dc73f7c7d328b3"
  }
 ],
 "metadata": {
  "kernelspec": {
   "display_name": "Python 3",
   "language": "python",
   "name": "python3"
  },
  "language_info": {
   "codemirror_mode": {
    "name": "ipython",
    "version": 2
   },
   "file_extension": ".py",
   "mimetype": "text/x-python",
   "name": "python",
   "nbconvert_exporter": "python",
   "pygments_lexer": "ipython2",
   "version": "2.7.6"
  }
 },
 "nbformat": 4,
 "nbformat_minor": 5
}
