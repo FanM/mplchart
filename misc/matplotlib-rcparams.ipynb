{
 "cells": [
  {
   "cell_type": "code",
   "execution_count": 1,
   "id": "153e7e084bc2a746",
   "metadata": {
    "ExecuteTime": {
     "end_time": "2024-09-08T03:24:50.939601Z",
     "start_time": "2024-09-08T03:24:50.925593Z"
    },
    "collapsed": false
   },
   "outputs": [],
   "source": [
    "import numpy as np\n",
    "\n",
    "import matplotlib as mpl\n",
    "import matplotlib.pyplot as plt\n",
    "\n",
    "from matplotlib_inline.backend_inline import set_matplotlib_formats"
   ]
  },
  {
   "cell_type": "code",
   "execution_count": 2,
   "id": "initial_id",
   "metadata": {
    "ExecuteTime": {
     "end_time": "2024-09-08T03:24:51.361712Z",
     "start_time": "2024-09-08T03:24:51.347495Z"
    },
    "collapsed": true
   },
   "outputs": [],
   "source": [
    "# mpl.rcParams. update(mpl.rcParamsDefault)\n",
    "\n",
    "# set_matplotlib_formats(\"svg\")"
   ]
  },
  {
   "cell_type": "code",
   "execution_count": 3,
   "id": "569494bf",
   "metadata": {},
   "outputs": [
    {
     "name": "stdout",
     "output_type": "stream",
     "text": [
      "lines.color C0\n",
      "['#1f77b4', '#ff7f0e', '#2ca02c', '#d62728', '#9467bd', '#8c564b', '#e377c2', '#7f7f7f', '#bcbd22', '#17becf']\n"
     ]
    },
    {
     "data": {
      "text/plain": [
       "[('axes.edgecolor', 'black'),\n",
       " ('axes.facecolor', 'white'),\n",
       " ('axes.labelcolor', 'black'),\n",
       " ('boxplot.boxprops.color', 'black'),\n",
       " ('boxplot.capprops.color', 'black'),\n",
       " ('boxplot.flierprops.color', 'black'),\n",
       " ('boxplot.flierprops.markeredgecolor', 'black'),\n",
       " ('boxplot.whiskerprops.color', 'black'),\n",
       " ('figure.edgecolor', 'white'),\n",
       " ('figure.facecolor', 'white'),\n",
       " ('hatch.color', 'black'),\n",
       " ('patch.edgecolor', 'black'),\n",
       " ('text.color', 'black'),\n",
       " ('xtick.color', 'black'),\n",
       " ('ytick.color', 'black')]"
      ]
     },
     "execution_count": 3,
     "metadata": {},
     "output_type": "execute_result"
    }
   ],
   "source": [
    "for item in (\"lines.color\", ):\n",
    "    print(item, plt.rcParams.get(item))\n",
    "\n",
    "print(plt.rcParams['axes.prop_cycle'].by_key()['color'])\n",
    "\n",
    "[(k, v) for k, v in plt.rcParams.items() if v in (\"white\", \"black\")]"
   ]
  },
  {
   "cell_type": "code",
   "execution_count": 4,
   "id": "6dbc24ddaf2ed95c",
   "metadata": {
    "ExecuteTime": {
     "end_time": "2024-09-08T03:24:52.836608Z",
     "start_time": "2024-09-08T03:24:52.818263Z"
    },
    "collapsed": false
   },
   "outputs": [
    {
     "name": "stdout",
     "output_type": "stream",
     "text": [
      "lines.color C0\n",
      "['#1f77b4', '#ff7f0e', '#2ca02c', '#d62728', '#9467bd', '#8c564b', '#e377c2', '#7f7f7f', '#bcbd22', '#17becf']\n"
     ]
    },
    {
     "data": {
      "text/plain": [
       "[('axes.edgecolor', 'white'),\n",
       " ('boxplot.boxprops.color', 'black'),\n",
       " ('boxplot.capprops.color', 'black'),\n",
       " ('boxplot.flierprops.color', 'black'),\n",
       " ('boxplot.flierprops.markeredgecolor', 'black'),\n",
       " ('boxplot.whiskerprops.color', 'black'),\n",
       " ('figure.edgecolor', 'white'),\n",
       " ('figure.facecolor', 'white'),\n",
       " ('grid.color', 'white'),\n",
       " ('hatch.color', 'black'),\n",
       " ('patch.edgecolor', 'black')]"
      ]
     },
     "execution_count": 4,
     "metadata": {},
     "output_type": "execute_result"
    }
   ],
   "source": [
    "STYLE = \"dark-backgrounb\"\n",
    "STYLE = \"seaborn-v0_8\"\n",
    "\n",
    "mpl.style.use(STYLE)\n",
    "\n",
    "for item in (\"lines.color\", ):\n",
    "    print(item, plt.rcParams.get(item))\n",
    "\n",
    "print(plt.rcParams['axes.prop_cycle'].by_key()['color'])\n",
    "\n",
    "[(k, v) for k, v in plt.rcParams.items() if v in (\"white\", \"black\")]"
   ]
  },
  {
   "cell_type": "code",
   "execution_count": 5,
   "id": "bb313447830aeb6e",
   "metadata": {
    "ExecuteTime": {
     "end_time": "2024-09-08T03:24:53.569416Z",
     "start_time": "2024-09-08T03:24:53.552891Z"
    },
    "collapsed": false
   },
   "outputs": [
    {
     "data": {
      "text/plain": [
       "['#1f77b4',\n",
       " '#ff7f0e',\n",
       " '#2ca02c',\n",
       " '#d62728',\n",
       " '#9467bd',\n",
       " '#8c564b',\n",
       " '#e377c2',\n",
       " '#7f7f7f',\n",
       " '#bcbd22',\n",
       " '#17becf']"
      ]
     },
     "execution_count": 5,
     "metadata": {},
     "output_type": "execute_result"
    }
   ],
   "source": [
    "color_palette = plt.rcParams['axes.prop_cycle'].by_key()['color']\n",
    "color_palette"
   ]
  },
  {
   "cell_type": "code",
   "execution_count": 6,
   "id": "acbe35bef6e8bc67",
   "metadata": {
    "ExecuteTime": {
     "end_time": "2024-09-08T03:24:54.181966Z",
     "start_time": "2024-09-08T03:24:54.168982Z"
    },
    "collapsed": false
   },
   "outputs": [
    {
     "data": {
      "text/plain": [
       "'C0'"
      ]
     },
     "execution_count": 6,
     "metadata": {},
     "output_type": "execute_result"
    }
   ],
   "source": [
    "lines_color = plt.rcParams['lines.color']\n",
    "lines_color"
   ]
  },
  {
   "cell_type": "code",
   "execution_count": 7,
   "id": "5d9935917dffbbb8",
   "metadata": {
    "ExecuteTime": {
     "end_time": "2024-09-08T03:24:54.887146Z",
     "start_time": "2024-09-08T03:24:54.792858Z"
    },
    "collapsed": false
   },
   "outputs": [
    {
     "data": {
      "text/plain": [
       "[<matplotlib.lines.Line2D at 0x10b2e0eb0>]"
      ]
     },
     "execution_count": 7,
     "metadata": {},
     "output_type": "execute_result"
    },
    {
     "data": {
      "image/png": "[encoded data removed]",
      "text/plain": [
       "<Figure size 640x480 with 1 Axes>"
      ]
     },
     "metadata": {},
     "output_type": "display_data"
    }
   ],
   "source": [
    "plt.plot([1, 2, 3], [101.1, 102.5, 103.1], color=\"C0\")"
   ]
  },
  {
   "cell_type": "code",
   "execution_count": 8,
   "id": "6bcf2464071eff62",
   "metadata": {
    "ExecuteTime": {
     "end_time": "2024-09-08T03:24:55.641126Z",
     "start_time": "2024-09-08T03:24:55.538415Z"
    },
    "collapsed": false
   },
   "outputs": [
    {
     "data": {
      "text/plain": [
       "[<matplotlib.lines.Line2D at 0x10b3d7970>]"
      ]
     },
     "execution_count": 8,
     "metadata": {},
     "output_type": "execute_result"
    },
    {
     "data": {
      "image/png": "[encoded data removed]",
      "text/plain": [
       "<Figure size 640x480 with 1 Axes>"
      ]
     },
     "metadata": {},
     "output_type": "display_data"
    }
   ],
   "source": [
    "\n",
    "plt.plot([1, 2, 3], [101.1, 102.5, 103.1])\n"
   ]
  },
  {
   "cell_type": "code",
   "execution_count": 9,
   "id": "e6e856cceae43195",
   "metadata": {
    "ExecuteTime": {
     "end_time": "2024-09-08T03:23:39.266163Z",
     "start_time": "2024-09-08T03:23:39.251135Z"
    },
    "collapsed": false
   },
   "outputs": [
    {
     "data": {
      "text/plain": [
       "'C0'"
      ]
     },
     "execution_count": 9,
     "metadata": {},
     "output_type": "execute_result"
    }
   ],
   "source": [
    "plt.rcParams[\"lines.color\"]"
   ]
  },
  {
   "cell_type": "code",
   "execution_count": null,
   "id": "46dc73f7c7d328b3",
   "metadata": {},
   "outputs": [],
   "source": []
  }
 ],
 "metadata": {
  "kernelspec": {
   "display_name": "Python 3",
   "language": "python",
   "name": "python3"
  },
  "language_info": {
   "codemirror_mode": {
    "name": "ipython",
    "version": 3
   },
   "file_extension": ".py",
   "mimetype": "text/x-python",
   "name": "python",
   "nbconvert_exporter": "python",
   "pygments_lexer": "ipython3",
   "version": "3.9.6"
  }
 },
 "nbformat": 4,
 "nbformat_minor": 5
}
