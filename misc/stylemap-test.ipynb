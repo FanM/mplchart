{
 "cells": [
  {
   "cell_type": "code",
   "execution_count": 10,
   "metadata": {},
   "outputs": [
    {
     "name": "stdout",
     "output_type": "stream",
     "text": [
      "Help on class StyleMap in module mplchart.stylemap:\n",
      "\n",
      "class StyleMap(builtins.object)\n",
      " |  StyleMap(mapping, counter: collections.Counter = None)\n",
      " |  \n",
      " |  Methods defined here:\n",
      " |  \n",
      " |  __init__(self, mapping, counter: collections.Counter = None)\n",
      " |      Initialize self.  See help(type(self)) for accurate signature.\n",
      " |  \n",
      " |  __repr__(self)\n",
      " |      Return repr(self).\n",
      " |  \n",
      " |  copy(self, *, reset: bool = True)\n",
      " |  \n",
      " |  get_setting(self, prefix: Union[str, list], name: str, default=None)\n",
      " |  \n",
      " |  get_settings(self, prefix: Union[str, list], **kwds)\n",
      " |  \n",
      " |  merge(self, mapping, *, reset: bool = False)\n",
      " |  \n",
      " |  ----------------------------------------------------------------------\n",
      " |  Static methods defined here:\n",
      " |  \n",
      " |  check_prefix(prefix) -> list\n",
      " |  \n",
      " |  ----------------------------------------------------------------------\n",
      " |  Data descriptors defined here:\n",
      " |  \n",
      " |  __dict__\n",
      " |      dictionary for instance variables (if defined)\n",
      " |  \n",
      " |  __weakref__\n",
      " |      list of weak references to the object (if defined)\n",
      "\n"
     ]
    }
   ],
   "source": [
    "from mplchart.stylemap import StyleMap\n",
    "\n",
    "help(StyleMap)"
   ]
  },
  {
   "cell_type": "code",
   "execution_count": 11,
   "metadata": {},
   "outputs": [
    {
     "name": "stdout",
     "output_type": "stream",
     "text": [
      "StyleMap(ChainMap({'candlesticks.up:color': 'black', 'candlesticks.down:color': 'red', 'line:color': 'black', 'sma:color': ['blue', 'green', 'red'], 'rsi:color': 'black'}), Counter())\n"
     ]
    }
   ],
   "source": [
    "\n",
    "stylesheet = {\n",
    "    \"candlesticks.up:color\": \"black\",\n",
    "    \"candlesticks.down:color\": \"red\",\n",
    "    \"line:color\" : \"black\",\n",
    "    \"sma:color\" : [\"blue\", \"green\", \"red\"],\n",
    "    \"rsi:color\" : \"black\"\n",
    "}\n",
    "\n",
    "stylemap = StyleMap(stylesheet)\n",
    "\n",
    "print(stylemap)"
   ]
  },
  {
   "cell_type": "code",
   "execution_count": 12,
   "metadata": {},
   "outputs": [
    {
     "name": "stdout",
     "output_type": "stream",
     "text": [
      "rsi 'black'\n",
      "foo:line 'black'\n",
      "sma 'blue'\n",
      "sma 'green'\n"
     ]
    }
   ],
   "source": [
    "for prefix in [\"rsi\", \"foo:line\", \"sma\", \"sma\"]:\n",
    "    value = stylemap.get_setting(prefix, \"color\")\n",
    "    print(prefix, repr(value))\n"
   ]
  },
  {
   "cell_type": "code",
   "execution_count": 14,
   "metadata": {},
   "outputs": [
    {
     "data": {
      "text/plain": [
       "StyleMap(ChainMap({'candlesticks.up:color': 'black', 'candlesticks.down:color': 'red', 'line:color': 'black', 'sma:color': ['blue', 'green', 'red'], 'rsi:color': 'black'}), Counter())"
      ]
     },
     "execution_count": 14,
     "metadata": {},
     "output_type": "execute_result"
    }
   ],
   "source": [
    "from collections import defaultdict\n",
    "\n",
    "class Chart:\n",
    "    def __init__(self, stylesheet):\n",
    "        stylesheet = dict(stylesheet)\n",
    "        self.stylemaps = defaultdict(lambda: StyleMap(stylesheet))\n",
    "\n",
    "    def get_stylemap(self, ax):\n",
    "        return self.stylemaps[ax]\n",
    "\n",
    "\n",
    "chart = Chart(stylesheet=stylesheet)\n",
    "chart.get_stylemap(None)"
   ]
  },
  {
   "cell_type": "code",
   "execution_count": null,
   "metadata": {},
   "outputs": [],
   "source": []
  },
  {
   "cell_type": "code",
   "execution_count": null,
   "metadata": {},
   "outputs": [],
   "source": []
  }
 ],
 "metadata": {
  "kernelspec": {
   "display_name": ".venv",
   "language": "python",
   "name": "python3"
  },
  "language_info": {
   "codemirror_mode": {
    "name": "ipython",
    "version": 3
   },
   "file_extension": ".py",
   "mimetype": "text/x-python",
   "name": "python",
   "nbconvert_exporter": "python",
   "pygments_lexer": "ipython3",
   "version": "3.9.6"
  }
 },
 "nbformat": 4,
 "nbformat_minor": 2
}
