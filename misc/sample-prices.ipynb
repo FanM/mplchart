{
 "cells": [
  {
   "cell_type": "markdown",
   "source": [
    "# Fetching sample prices"
   ],
   "metadata": {
    "collapsed": false
   },
   "id": "65fbcd47c895cdcc"
  },
  {
   "cell_type": "code",
   "execution_count": 1,
   "outputs": [],
   "source": [
    "from mplchart.samples import sample_prices"
   ],
   "metadata": {
    "collapsed": false,
    "ExecuteTime": {
     "end_time": "2024-03-13T18:12:40.912855Z",
     "start_time": "2024-03-13T18:12:40.718208Z"
    }
   },
   "id": "initial_id"
  },
  {
   "cell_type": "code",
   "execution_count": 2,
   "outputs": [
    {
     "data": {
      "text/plain": "                                 open        high         low       close  \\\ndate                                                                        \n2018-09-24 00:00:00-04:00   51.913951   52.977032   51.868458   52.864498   \n2018-09-25 00:00:00-04:00   52.615485   53.350547   52.603513   53.199703   \n2018-09-26 00:00:00-04:00   52.914793   53.573235   52.617894   52.775921   \n2018-09-27 00:00:00-04:00   53.589981   54.217296   53.522937   53.860538   \n2018-09-28 00:00:00-04:00   53.822226   54.073631   53.637865   54.049690   \n...                               ...         ...         ...         ...   \n2023-09-18 00:00:00-04:00  176.479996  179.380005  176.169998  177.970001   \n2023-09-19 00:00:00-04:00  177.520004  179.630005  177.130005  179.070007   \n2023-09-20 00:00:00-04:00  179.259995  179.699997  175.399994  175.490005   \n2023-09-21 00:00:00-04:00  174.550003  176.300003  173.860001  173.929993   \n2023-09-22 00:00:00-04:00  174.669998  177.078995  174.054993  174.789993   \n\n                              volume  \ndate                                  \n2018-09-24 00:00:00-04:00  110773600  \n2018-09-25 00:00:00-04:00   98217600  \n2018-09-26 00:00:00-04:00   95938800  \n2018-09-27 00:00:00-04:00  120724800  \n2018-09-28 00:00:00-04:00   91717600  \n...                              ...  \n2023-09-18 00:00:00-04:00   67257600  \n2023-09-19 00:00:00-04:00   51826900  \n2023-09-20 00:00:00-04:00   58436200  \n2023-09-21 00:00:00-04:00   63047900  \n2023-09-22 00:00:00-04:00   55110610  \n\n[1258 rows x 5 columns]",
      "text/html": "<div>\n<style scoped>\n    .dataframe tbody tr th:only-of-type {\n        vertical-align: middle;\n    }\n\n    .dataframe tbody tr th {\n        vertical-align: top;\n    }\n\n    .dataframe thead th {\n        text-align: right;\n    }\n</style>\n<table border=\"1\" class=\"dataframe\">\n  <thead>\n    <tr style=\"text-align: right;\">\n      <th></th>\n      <th>open</th>\n      <th>high</th>\n      <th>low</th>\n      <th>close</th>\n      <th>volume</th>\n    </tr>\n    <tr>\n      <th>date</th>\n      <th></th>\n      <th></th>\n      <th></th>\n      <th></th>\n      <th></th>\n    </tr>\n  </thead>\n  <tbody>\n    <tr>\n      <th>2018-09-24 00:00:00-04:00</th>\n      <td>51.913951</td>\n      <td>52.977032</td>\n      <td>51.868458</td>\n      <td>52.864498</td>\n      <td>110773600</td>\n    </tr>\n    <tr>\n      <th>2018-09-25 00:00:00-04:00</th>\n      <td>52.615485</td>\n      <td>53.350547</td>\n      <td>52.603513</td>\n      <td>53.199703</td>\n      <td>98217600</td>\n    </tr>\n    <tr>\n      <th>2018-09-26 00:00:00-04:00</th>\n      <td>52.914793</td>\n      <td>53.573235</td>\n      <td>52.617894</td>\n      <td>52.775921</td>\n      <td>95938800</td>\n    </tr>\n    <tr>\n      <th>2018-09-27 00:00:00-04:00</th>\n      <td>53.589981</td>\n      <td>54.217296</td>\n      <td>53.522937</td>\n      <td>53.860538</td>\n      <td>120724800</td>\n    </tr>\n    <tr>\n      <th>2018-09-28 00:00:00-04:00</th>\n      <td>53.822226</td>\n      <td>54.073631</td>\n      <td>53.637865</td>\n      <td>54.049690</td>\n      <td>91717600</td>\n    </tr>\n    <tr>\n      <th>...</th>\n      <td>...</td>\n      <td>...</td>\n      <td>...</td>\n      <td>...</td>\n      <td>...</td>\n    </tr>\n    <tr>\n      <th>2023-09-18 00:00:00-04:00</th>\n      <td>176.479996</td>\n      <td>179.380005</td>\n      <td>176.169998</td>\n      <td>177.970001</td>\n      <td>67257600</td>\n    </tr>\n    <tr>\n      <th>2023-09-19 00:00:00-04:00</th>\n      <td>177.520004</td>\n      <td>179.630005</td>\n      <td>177.130005</td>\n      <td>179.070007</td>\n      <td>51826900</td>\n    </tr>\n    <tr>\n      <th>2023-09-20 00:00:00-04:00</th>\n      <td>179.259995</td>\n      <td>179.699997</td>\n      <td>175.399994</td>\n      <td>175.490005</td>\n      <td>58436200</td>\n    </tr>\n    <tr>\n      <th>2023-09-21 00:00:00-04:00</th>\n      <td>174.550003</td>\n      <td>176.300003</td>\n      <td>173.860001</td>\n      <td>173.929993</td>\n      <td>63047900</td>\n    </tr>\n    <tr>\n      <th>2023-09-22 00:00:00-04:00</th>\n      <td>174.669998</td>\n      <td>177.078995</td>\n      <td>174.054993</td>\n      <td>174.789993</td>\n      <td>55110610</td>\n    </tr>\n  </tbody>\n</table>\n<p>1258 rows × 5 columns</p>\n</div>"
     },
     "execution_count": 2,
     "metadata": {},
     "output_type": "execute_result"
    }
   ],
   "source": [
    "prices = sample_prices()\n",
    "prices"
   ],
   "metadata": {
    "collapsed": false,
    "ExecuteTime": {
     "end_time": "2024-03-13T18:12:41.535436Z",
     "start_time": "2024-03-13T18:12:41.502609Z"
    }
   },
   "id": "54de04c214c11b05"
  },
  {
   "cell_type": "code",
   "execution_count": null,
   "outputs": [],
   "source": [],
   "metadata": {
    "collapsed": false
   },
   "id": "7733d435e47ffe82"
  }
 ],
 "metadata": {
  "kernelspec": {
   "display_name": "Python 3",
   "language": "python",
   "name": "python3"
  },
  "language_info": {
   "codemirror_mode": {
    "name": "ipython",
    "version": 2
   },
   "file_extension": ".py",
   "mimetype": "text/x-python",
   "name": "python",
   "nbconvert_exporter": "python",
   "pygments_lexer": "ipython2",
   "version": "2.7.6"
  }
 },
 "nbformat": 4,
 "nbformat_minor": 5
}
