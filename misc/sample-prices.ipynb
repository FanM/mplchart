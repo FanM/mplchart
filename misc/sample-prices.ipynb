{
 "cells": [
  {
   "cell_type": "markdown",
   "id": "0d03d000",
   "metadata": {},
   "source": [
    "# Sample Prices"
   ]
  },
  {
   "cell_type": "code",
   "execution_count": 1,
   "id": "initial_id",
   "metadata": {
    "ExecuteTime": {
     "end_time": "2024-06-05T21:37:15.512548Z",
     "start_time": "2024-06-05T21:37:15.487042Z"
    },
    "collapsed": true
   },
   "outputs": [],
   "source": [
    "from mplchart.samples import sample_prices\n"
   ]
  },
  {
   "cell_type": "code",
   "execution_count": 2,
   "id": "4487e7a059c8853a",
   "metadata": {
    "ExecuteTime": {
     "end_time": "2024-06-05T21:37:16.250234Z",
     "start_time": "2024-06-05T21:37:16.178336Z"
    },
    "collapsed": false
   },
   "outputs": [
    {
     "name": "stdout",
     "output_type": "stream",
     "text": [
      "daily 10960 datetime64[ns]\n",
      "hourly 3501 datetime64[ns, America/New_York]\n",
      "minute 2670 datetime64[ns, America/New_York]\n"
     ]
    }
   ],
   "source": [
    "for freq in \"daily\", \"hourly\", \"minute\":\n",
    "    prices = sample_prices(freq)\n",
    "    index = prices.index\n",
    "    print(freq, len(prices), index.dtype)\n",
    "    "
   ]
  },
  {
   "cell_type": "code",
   "execution_count": 5,
   "id": "445b311d94c47e8a",
   "metadata": {
    "ExecuteTime": {
     "end_time": "2024-06-05T21:37:18.635923Z",
     "start_time": "2024-06-05T21:37:18.577659Z"
    }
   },
   "outputs": [
    {
     "data": {
      "text/html": [
       "<div>\n",
       "<style scoped>\n",
       "    .dataframe tbody tr th:only-of-type {\n",
       "        vertical-align: middle;\n",
       "    }\n",
       "\n",
       "    .dataframe tbody tr th {\n",
       "        vertical-align: top;\n",
       "    }\n",
       "\n",
       "    .dataframe thead th {\n",
       "        text-align: right;\n",
       "    }\n",
       "</style>\n",
       "<table border=\"1\" class=\"dataframe\">\n",
       "  <thead>\n",
       "    <tr style=\"text-align: right;\">\n",
       "      <th></th>\n",
       "      <th>open</th>\n",
       "      <th>high</th>\n",
       "      <th>low</th>\n",
       "      <th>close</th>\n",
       "      <th>volume</th>\n",
       "    </tr>\n",
       "    <tr>\n",
       "      <th>date</th>\n",
       "      <th></th>\n",
       "      <th></th>\n",
       "      <th></th>\n",
       "      <th></th>\n",
       "      <th></th>\n",
       "    </tr>\n",
       "  </thead>\n",
       "  <tbody>\n",
       "    <tr>\n",
       "      <th>1980-12-12</th>\n",
       "      <td>0.099058</td>\n",
       "      <td>0.099488</td>\n",
       "      <td>0.099058</td>\n",
       "      <td>0.099058</td>\n",
       "      <td>469033600</td>\n",
       "    </tr>\n",
       "    <tr>\n",
       "      <th>1980-12-15</th>\n",
       "      <td>0.094321</td>\n",
       "      <td>0.094321</td>\n",
       "      <td>0.093890</td>\n",
       "      <td>0.093890</td>\n",
       "      <td>175884800</td>\n",
       "    </tr>\n",
       "    <tr>\n",
       "      <th>1980-12-16</th>\n",
       "      <td>0.087429</td>\n",
       "      <td>0.087429</td>\n",
       "      <td>0.086999</td>\n",
       "      <td>0.086999</td>\n",
       "      <td>105728000</td>\n",
       "    </tr>\n",
       "    <tr>\n",
       "      <th>1980-12-17</th>\n",
       "      <td>0.089152</td>\n",
       "      <td>0.089582</td>\n",
       "      <td>0.089152</td>\n",
       "      <td>0.089152</td>\n",
       "      <td>86441600</td>\n",
       "    </tr>\n",
       "    <tr>\n",
       "      <th>1980-12-18</th>\n",
       "      <td>0.091736</td>\n",
       "      <td>0.092167</td>\n",
       "      <td>0.091736</td>\n",
       "      <td>0.091736</td>\n",
       "      <td>73449600</td>\n",
       "    </tr>\n",
       "    <tr>\n",
       "      <th>...</th>\n",
       "      <td>...</td>\n",
       "      <td>...</td>\n",
       "      <td>...</td>\n",
       "      <td>...</td>\n",
       "      <td>...</td>\n",
       "    </tr>\n",
       "    <tr>\n",
       "      <th>2024-05-29</th>\n",
       "      <td>189.610001</td>\n",
       "      <td>192.250000</td>\n",
       "      <td>189.509995</td>\n",
       "      <td>190.289993</td>\n",
       "      <td>53068000</td>\n",
       "    </tr>\n",
       "    <tr>\n",
       "      <th>2024-05-30</th>\n",
       "      <td>190.759995</td>\n",
       "      <td>192.179993</td>\n",
       "      <td>190.630005</td>\n",
       "      <td>191.289993</td>\n",
       "      <td>49947900</td>\n",
       "    </tr>\n",
       "    <tr>\n",
       "      <th>2024-05-31</th>\n",
       "      <td>191.440002</td>\n",
       "      <td>192.570007</td>\n",
       "      <td>189.910004</td>\n",
       "      <td>192.250000</td>\n",
       "      <td>75158300</td>\n",
       "    </tr>\n",
       "    <tr>\n",
       "      <th>2024-06-03</th>\n",
       "      <td>192.899994</td>\n",
       "      <td>194.990005</td>\n",
       "      <td>192.520004</td>\n",
       "      <td>194.029999</td>\n",
       "      <td>50031100</td>\n",
       "    </tr>\n",
       "    <tr>\n",
       "      <th>2024-06-04</th>\n",
       "      <td>194.720001</td>\n",
       "      <td>195.320007</td>\n",
       "      <td>193.034195</td>\n",
       "      <td>194.529999</td>\n",
       "      <td>29703490</td>\n",
       "    </tr>\n",
       "  </tbody>\n",
       "</table>\n",
       "<p>10960 rows × 5 columns</p>\n",
       "</div>"
      ],
      "text/plain": [
       "                  open        high         low       close     volume\n",
       "date                                                                 \n",
       "1980-12-12    0.099058    0.099488    0.099058    0.099058  469033600\n",
       "1980-12-15    0.094321    0.094321    0.093890    0.093890  175884800\n",
       "1980-12-16    0.087429    0.087429    0.086999    0.086999  105728000\n",
       "1980-12-17    0.089152    0.089582    0.089152    0.089152   86441600\n",
       "1980-12-18    0.091736    0.092167    0.091736    0.091736   73449600\n",
       "...                ...         ...         ...         ...        ...\n",
       "2024-05-29  189.610001  192.250000  189.509995  190.289993   53068000\n",
       "2024-05-30  190.759995  192.179993  190.630005  191.289993   49947900\n",
       "2024-05-31  191.440002  192.570007  189.910004  192.250000   75158300\n",
       "2024-06-03  192.899994  194.990005  192.520004  194.029999   50031100\n",
       "2024-06-04  194.720001  195.320007  193.034195  194.529999   29703490\n",
       "\n",
       "[10960 rows x 5 columns]"
      ]
     },
     "execution_count": 5,
     "metadata": {},
     "output_type": "execute_result"
    }
   ],
   "source": [
    "prices = sample_prices(freq=\"daily\")\n",
    "prices"
   ]
  },
  {
   "cell_type": "code",
   "execution_count": 6,
   "id": "dcfd4475345fb491",
   "metadata": {},
   "outputs": [
    {
     "data": {
      "text/plain": [
       "DatetimeIndex(['1980-12-12', '1980-12-15', '1980-12-16', '1980-12-17',\n",
       "               '1980-12-18', '1980-12-19', '1980-12-22', '1980-12-23',\n",
       "               '1980-12-24', '1980-12-26',\n",
       "               ...\n",
       "               '2024-05-21', '2024-05-22', '2024-05-23', '2024-05-24',\n",
       "               '2024-05-28', '2024-05-29', '2024-05-30', '2024-05-31',\n",
       "               '2024-06-03', '2024-06-04'],\n",
       "              dtype='datetime64[ns]', name='date', length=10960, freq=None)"
      ]
     },
     "execution_count": 6,
     "metadata": {},
     "output_type": "execute_result"
    }
   ],
   "source": [
    "prices.index"
   ]
  },
  {
   "cell_type": "code",
   "execution_count": null,
   "id": "b1739152",
   "metadata": {},
   "outputs": [],
   "source": []
  }
 ],
 "metadata": {
  "kernelspec": {
   "display_name": ".venv",
   "language": "python",
   "name": "python3"
  },
  "language_info": {
   "codemirror_mode": {
    "name": "ipython",
    "version": 3
   },
   "file_extension": ".py",
   "mimetype": "text/x-python",
   "name": "python",
   "nbconvert_exporter": "python",
   "pygments_lexer": "ipython3",
   "version": "3.9.19"
  }
 },
 "nbformat": 4,
 "nbformat_minor": 5
}
