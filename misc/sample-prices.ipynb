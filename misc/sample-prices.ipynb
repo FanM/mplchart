{
 "cells": [
  {
   "cell_type": "code",
   "execution_count": 1,
   "id": "initial_id",
   "metadata": {
    "ExecuteTime": {
     "end_time": "2024-06-05T21:37:15.512548Z",
     "start_time": "2024-06-05T21:37:15.487042Z"
    },
    "collapsed": true
   },
   "outputs": [],
   "source": [
    "from mplchart.samples import sample_prices\n"
   ]
  },
  {
   "cell_type": "code",
   "execution_count": 2,
   "id": "4487e7a059c8853a",
   "metadata": {
    "ExecuteTime": {
     "end_time": "2024-06-05T21:37:16.250234Z",
     "start_time": "2024-06-05T21:37:16.178336Z"
    },
    "collapsed": false
   },
   "outputs": [
    {
     "name": "stdout",
     "output_type": "stream",
     "text": [
      "daily 10960 datetime64[ns]\n",
      "hourly 3501 datetime64[ns, America/New_York]\n",
      "minute 2670 datetime64[ns, America/New_York]\n"
     ]
    }
   ],
   "source": [
    "for freq in \"daily\", \"hourly\", \"minute\":\n",
    "    prices = sample_prices(freq)\n",
    "    index = prices.index\n",
    "    print(freq, len(prices), index.dtype)\n",
    "    "
   ]
  },
  {
   "cell_type": "code",
   "execution_count": 3,
   "id": "445b311d94c47e8a",
   "metadata": {
    "ExecuteTime": {
     "end_time": "2024-06-05T21:37:18.635923Z",
     "start_time": "2024-06-05T21:37:18.577659Z"
    }
   },
   "outputs": [
    {
     "name": "stdout",
     "output_type": "stream",
     "text": [
      "<class 'pandas.core.frame.DataFrame'>\n",
      "DatetimeIndex: 3501 entries, 2022-06-06 09:30:00-04:00 to 2024-06-04 14:30:00-04:00\n",
      "Data columns (total 5 columns):\n",
      " #   Column  Non-Null Count  Dtype  \n",
      "---  ------  --------------  -----  \n",
      " 0   open    3501 non-null   float64\n",
      " 1   high    3501 non-null   float64\n",
      " 2   low     3501 non-null   float64\n",
      " 3   close   3501 non-null   float64\n",
      " 4   volume  3501 non-null   int64  \n",
      "dtypes: float64(4), int64(1)\n",
      "memory usage: 164.1 KB\n"
     ]
    }
   ],
   "source": [
    "prices = sample_prices(freq=\"hourly\")\n",
    "prices.info()"
   ]
  },
  {
   "cell_type": "code",
   "execution_count": 4,
   "id": "dcfd4475345fb491",
   "metadata": {},
   "outputs": [
    {
     "data": {
      "text/plain": [
       "['open', 'high', 'low', 'close', 'volume']"
      ]
     },
     "execution_count": 4,
     "metadata": {},
     "output_type": "execute_result"
    }
   ],
   "source": [
    "list(prices.columns)"
   ]
  },
  {
   "cell_type": "code",
   "execution_count": null,
   "id": "b1739152",
   "metadata": {},
   "outputs": [],
   "source": []
  }
 ],
 "metadata": {
  "kernelspec": {
   "display_name": "Python 3",
   "language": "python",
   "name": "python3"
  },
  "language_info": {
   "codemirror_mode": {
    "name": "ipython",
    "version": 3
   },
   "file_extension": ".py",
   "mimetype": "text/x-python",
   "name": "python",
   "nbconvert_exporter": "python",
   "pygments_lexer": "ipython3",
   "version": "3.9.6"
  }
 },
 "nbformat": 4,
 "nbformat_minor": 5
}
