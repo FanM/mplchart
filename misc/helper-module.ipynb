{
 "cells": [
  {
   "cell_type": "markdown",
   "metadata": {
    "collapsed": false,
    "pycharm": {
     "name": "#%% md\n"
    }
   },
   "source": [
    "# Fetching prices with the helper module (deprecated)"
   ]
  },
  {
   "cell_type": "code",
   "execution_count": 1,
   "metadata": {
    "collapsed": false,
    "pycharm": {
     "name": "#%%\n"
    },
    "ExecuteTime": {
     "end_time": "2024-03-13T17:28:52.756560Z",
     "start_time": "2024-03-13T17:28:52.473408Z"
    }
   },
   "outputs": [
    {
     "name": "stderr",
     "output_type": "stream",
     "text": [
      "/var/folders/c3/54m9yxns31905dkkhzl115lw0000gn/T/ipykernel_62284/4192667834.py:3: DeprecationWarning: The helper module is deprecated. Use your own data source.\n",
      "  from mplchart import helper\n"
     ]
    }
   ],
   "source": [
    "from mplchart import helper"
   ]
  },
  {
   "cell_type": "code",
   "execution_count": 2,
   "metadata": {
    "pycharm": {
     "name": "#%%\n"
    },
    "ExecuteTime": {
     "end_time": "2024-03-13T17:28:53.445256Z",
     "start_time": "2024-03-13T17:28:53.428066Z"
    }
   },
   "outputs": [
    {
     "data": {
      "text/plain": "['list_cache', 'clear_cache', 'map_frequency', 'maximum_period', 'get_prices']"
     },
     "execution_count": 2,
     "metadata": {},
     "output_type": "execute_result"
    }
   ],
   "source": [
    "[k for k, v in vars(helper).items() if callable(v)]"
   ]
  },
  {
   "cell_type": "code",
   "execution_count": 3,
   "metadata": {
    "pycharm": {
     "name": "#%%\n"
    },
    "ExecuteTime": {
     "end_time": "2024-03-13T17:28:54.178461Z",
     "start_time": "2024-03-13T17:28:54.163812Z"
    }
   },
   "outputs": [],
   "source": [
    "for file in helper.list_cache():\n",
    "    print(file.name)"
   ]
  },
  {
   "cell_type": "code",
   "execution_count": 4,
   "metadata": {
    "pycharm": {
     "name": "#%%\n"
    },
    "ExecuteTime": {
     "end_time": "2024-03-13T17:28:55.657307Z",
     "start_time": "2024-03-13T17:28:55.640566Z"
    }
   },
   "outputs": [],
   "source": [
    "helper.clear_cache(verbose=True)"
   ]
  },
  {
   "cell_type": "code",
   "execution_count": 5,
   "metadata": {
    "collapsed": false,
    "pycharm": {
     "name": "#%%\n"
    },
    "ExecuteTime": {
     "end_time": "2024-03-13T17:28:57.268300Z",
     "start_time": "2024-03-13T17:28:56.804280Z"
    }
   },
   "outputs": [
    {
     "data": {
      "text/plain": "                  open        high         low       close     volume\ndate                                                                 \n1980-12-12    0.099192    0.099623    0.099192    0.099192  469033600\n1980-12-15    0.094448    0.094448    0.094017    0.094017  175884800\n1980-12-16    0.087548    0.087548    0.087117    0.087117  105728000\n1980-12-17    0.089273    0.089704    0.089273    0.089273   86441600\n1980-12-18    0.091861    0.092292    0.091861    0.091861   73449600\n...                ...         ...         ...         ...        ...\n2024-03-07  169.149994  170.729996  168.490005  169.000000   71765100\n2024-03-08  169.000000  173.699997  168.940002  170.729996   76114600\n2024-03-11  172.940002  174.380005  172.050003  172.750000   60139500\n2024-03-12  173.149994  174.029999  171.009995  173.229996   59734600\n2024-03-13  172.770004  173.184998  170.759995  171.399994   27959119\n\n[10903 rows x 5 columns]",
      "text/html": "<div>\n<style scoped>\n    .dataframe tbody tr th:only-of-type {\n        vertical-align: middle;\n    }\n\n    .dataframe tbody tr th {\n        vertical-align: top;\n    }\n\n    .dataframe thead th {\n        text-align: right;\n    }\n</style>\n<table border=\"1\" class=\"dataframe\">\n  <thead>\n    <tr style=\"text-align: right;\">\n      <th></th>\n      <th>open</th>\n      <th>high</th>\n      <th>low</th>\n      <th>close</th>\n      <th>volume</th>\n    </tr>\n    <tr>\n      <th>date</th>\n      <th></th>\n      <th></th>\n      <th></th>\n      <th></th>\n      <th></th>\n    </tr>\n  </thead>\n  <tbody>\n    <tr>\n      <th>1980-12-12</th>\n      <td>0.099192</td>\n      <td>0.099623</td>\n      <td>0.099192</td>\n      <td>0.099192</td>\n      <td>469033600</td>\n    </tr>\n    <tr>\n      <th>1980-12-15</th>\n      <td>0.094448</td>\n      <td>0.094448</td>\n      <td>0.094017</td>\n      <td>0.094017</td>\n      <td>175884800</td>\n    </tr>\n    <tr>\n      <th>1980-12-16</th>\n      <td>0.087548</td>\n      <td>0.087548</td>\n      <td>0.087117</td>\n      <td>0.087117</td>\n      <td>105728000</td>\n    </tr>\n    <tr>\n      <th>1980-12-17</th>\n      <td>0.089273</td>\n      <td>0.089704</td>\n      <td>0.089273</td>\n      <td>0.089273</td>\n      <td>86441600</td>\n    </tr>\n    <tr>\n      <th>1980-12-18</th>\n      <td>0.091861</td>\n      <td>0.092292</td>\n      <td>0.091861</td>\n      <td>0.091861</td>\n      <td>73449600</td>\n    </tr>\n    <tr>\n      <th>...</th>\n      <td>...</td>\n      <td>...</td>\n      <td>...</td>\n      <td>...</td>\n      <td>...</td>\n    </tr>\n    <tr>\n      <th>2024-03-07</th>\n      <td>169.149994</td>\n      <td>170.729996</td>\n      <td>168.490005</td>\n      <td>169.000000</td>\n      <td>71765100</td>\n    </tr>\n    <tr>\n      <th>2024-03-08</th>\n      <td>169.000000</td>\n      <td>173.699997</td>\n      <td>168.940002</td>\n      <td>170.729996</td>\n      <td>76114600</td>\n    </tr>\n    <tr>\n      <th>2024-03-11</th>\n      <td>172.940002</td>\n      <td>174.380005</td>\n      <td>172.050003</td>\n      <td>172.750000</td>\n      <td>60139500</td>\n    </tr>\n    <tr>\n      <th>2024-03-12</th>\n      <td>173.149994</td>\n      <td>174.029999</td>\n      <td>171.009995</td>\n      <td>173.229996</td>\n      <td>59734600</td>\n    </tr>\n    <tr>\n      <th>2024-03-13</th>\n      <td>172.770004</td>\n      <td>173.184998</td>\n      <td>170.759995</td>\n      <td>171.399994</td>\n      <td>27959119</td>\n    </tr>\n  </tbody>\n</table>\n<p>10903 rows × 5 columns</p>\n</div>"
     },
     "execution_count": 5,
     "metadata": {},
     "output_type": "execute_result"
    }
   ],
   "source": [
    "helper.get_prices(\"AAPL\", freq=\"daily\")"
   ]
  },
  {
   "cell_type": "code",
   "execution_count": 6,
   "metadata": {
    "collapsed": false,
    "pycharm": {
     "name": "#%%\n"
    },
    "ExecuteTime": {
     "end_time": "2024-03-13T17:28:58.414061Z",
     "start_time": "2024-03-13T17:28:58.220345Z"
    }
   },
   "outputs": [
    {
     "data": {
      "text/plain": "                  open        high         low       close     volume\ndate                                                                 \n1980-12-08    0.099192    0.099623    0.099192    0.099192  469033600\n1980-12-15    0.094448    0.097898    0.087117    0.097467  490134400\n1980-12-22    0.102211    0.122912    0.102211    0.122481  187891200\n1980-12-29    0.124206    0.124637    0.117737    0.119031  219452800\n1981-01-05    0.116875    0.116875    0.104368    0.109974  197904000\n...                ...         ...         ...         ...        ...\n2024-02-12  188.419998  188.669998  181.350006  182.309998  268077800\n2024-02-19  181.789993  185.039993  180.000000  182.520004  192607200\n2024-02-26  182.240005  183.919998  177.380005  179.660004  354310800\n2024-03-04  176.149994  176.899994  168.490005  170.729996  393109900\n2024-03-11  172.940002  174.380005  170.759995  171.393600  147833386\n\n[2258 rows x 5 columns]",
      "text/html": "<div>\n<style scoped>\n    .dataframe tbody tr th:only-of-type {\n        vertical-align: middle;\n    }\n\n    .dataframe tbody tr th {\n        vertical-align: top;\n    }\n\n    .dataframe thead th {\n        text-align: right;\n    }\n</style>\n<table border=\"1\" class=\"dataframe\">\n  <thead>\n    <tr style=\"text-align: right;\">\n      <th></th>\n      <th>open</th>\n      <th>high</th>\n      <th>low</th>\n      <th>close</th>\n      <th>volume</th>\n    </tr>\n    <tr>\n      <th>date</th>\n      <th></th>\n      <th></th>\n      <th></th>\n      <th></th>\n      <th></th>\n    </tr>\n  </thead>\n  <tbody>\n    <tr>\n      <th>1980-12-08</th>\n      <td>0.099192</td>\n      <td>0.099623</td>\n      <td>0.099192</td>\n      <td>0.099192</td>\n      <td>469033600</td>\n    </tr>\n    <tr>\n      <th>1980-12-15</th>\n      <td>0.094448</td>\n      <td>0.097898</td>\n      <td>0.087117</td>\n      <td>0.097467</td>\n      <td>490134400</td>\n    </tr>\n    <tr>\n      <th>1980-12-22</th>\n      <td>0.102211</td>\n      <td>0.122912</td>\n      <td>0.102211</td>\n      <td>0.122481</td>\n      <td>187891200</td>\n    </tr>\n    <tr>\n      <th>1980-12-29</th>\n      <td>0.124206</td>\n      <td>0.124637</td>\n      <td>0.117737</td>\n      <td>0.119031</td>\n      <td>219452800</td>\n    </tr>\n    <tr>\n      <th>1981-01-05</th>\n      <td>0.116875</td>\n      <td>0.116875</td>\n      <td>0.104368</td>\n      <td>0.109974</td>\n      <td>197904000</td>\n    </tr>\n    <tr>\n      <th>...</th>\n      <td>...</td>\n      <td>...</td>\n      <td>...</td>\n      <td>...</td>\n      <td>...</td>\n    </tr>\n    <tr>\n      <th>2024-02-12</th>\n      <td>188.419998</td>\n      <td>188.669998</td>\n      <td>181.350006</td>\n      <td>182.309998</td>\n      <td>268077800</td>\n    </tr>\n    <tr>\n      <th>2024-02-19</th>\n      <td>181.789993</td>\n      <td>185.039993</td>\n      <td>180.000000</td>\n      <td>182.520004</td>\n      <td>192607200</td>\n    </tr>\n    <tr>\n      <th>2024-02-26</th>\n      <td>182.240005</td>\n      <td>183.919998</td>\n      <td>177.380005</td>\n      <td>179.660004</td>\n      <td>354310800</td>\n    </tr>\n    <tr>\n      <th>2024-03-04</th>\n      <td>176.149994</td>\n      <td>176.899994</td>\n      <td>168.490005</td>\n      <td>170.729996</td>\n      <td>393109900</td>\n    </tr>\n    <tr>\n      <th>2024-03-11</th>\n      <td>172.940002</td>\n      <td>174.380005</td>\n      <td>170.759995</td>\n      <td>171.393600</td>\n      <td>147833386</td>\n    </tr>\n  </tbody>\n</table>\n<p>2258 rows × 5 columns</p>\n</div>"
     },
     "execution_count": 6,
     "metadata": {},
     "output_type": "execute_result"
    }
   ],
   "source": [
    "helper.get_prices(\"AAPL\", freq=\"weekly\")"
   ]
  },
  {
   "cell_type": "code",
   "execution_count": 7,
   "metadata": {
    "collapsed": false,
    "pycharm": {
     "name": "#%%\n"
    },
    "ExecuteTime": {
     "end_time": "2024-03-13T17:28:59.209763Z",
     "start_time": "2024-03-13T17:28:59.084154Z"
    }
   },
   "outputs": [
    {
     "data": {
      "text/plain": "                  open        high         low       close      volume\ndate                                                                  \n1985-01-01    0.100486    0.107386    0.096173    0.100055  6366416000\n1985-02-01    0.100055    0.106093    0.085392    0.085392  4733388800\n1985-03-01    0.085392    0.089704    0.071591    0.076335  4615587200\n1985-04-01    0.076335    0.079354    0.067710    0.073316  2868028800\n1985-05-01    0.073316    0.076766    0.058222    0.059947  4639129600\n...                ...         ...         ...         ...         ...\n2023-11-01  170.557368  192.430595  169.679641  189.458313  1099586100\n2023-12-01  190.087444  199.365598  187.211110  192.284637  1062774800\n2024-01-01  186.911489  196.129737  179.940388  184.164993  1187219300\n2024-02-01  183.755530  190.806530  179.021565  180.519653  1161627000\n2024-03-01  179.550003  180.529999  168.490005  171.393600   614431309\n\n[471 rows x 5 columns]",
      "text/html": "<div>\n<style scoped>\n    .dataframe tbody tr th:only-of-type {\n        vertical-align: middle;\n    }\n\n    .dataframe tbody tr th {\n        vertical-align: top;\n    }\n\n    .dataframe thead th {\n        text-align: right;\n    }\n</style>\n<table border=\"1\" class=\"dataframe\">\n  <thead>\n    <tr style=\"text-align: right;\">\n      <th></th>\n      <th>open</th>\n      <th>high</th>\n      <th>low</th>\n      <th>close</th>\n      <th>volume</th>\n    </tr>\n    <tr>\n      <th>date</th>\n      <th></th>\n      <th></th>\n      <th></th>\n      <th></th>\n      <th></th>\n    </tr>\n  </thead>\n  <tbody>\n    <tr>\n      <th>1985-01-01</th>\n      <td>0.100486</td>\n      <td>0.107386</td>\n      <td>0.096173</td>\n      <td>0.100055</td>\n      <td>6366416000</td>\n    </tr>\n    <tr>\n      <th>1985-02-01</th>\n      <td>0.100055</td>\n      <td>0.106093</td>\n      <td>0.085392</td>\n      <td>0.085392</td>\n      <td>4733388800</td>\n    </tr>\n    <tr>\n      <th>1985-03-01</th>\n      <td>0.085392</td>\n      <td>0.089704</td>\n      <td>0.071591</td>\n      <td>0.076335</td>\n      <td>4615587200</td>\n    </tr>\n    <tr>\n      <th>1985-04-01</th>\n      <td>0.076335</td>\n      <td>0.079354</td>\n      <td>0.067710</td>\n      <td>0.073316</td>\n      <td>2868028800</td>\n    </tr>\n    <tr>\n      <th>1985-05-01</th>\n      <td>0.073316</td>\n      <td>0.076766</td>\n      <td>0.058222</td>\n      <td>0.059947</td>\n      <td>4639129600</td>\n    </tr>\n    <tr>\n      <th>...</th>\n      <td>...</td>\n      <td>...</td>\n      <td>...</td>\n      <td>...</td>\n      <td>...</td>\n    </tr>\n    <tr>\n      <th>2023-11-01</th>\n      <td>170.557368</td>\n      <td>192.430595</td>\n      <td>169.679641</td>\n      <td>189.458313</td>\n      <td>1099586100</td>\n    </tr>\n    <tr>\n      <th>2023-12-01</th>\n      <td>190.087444</td>\n      <td>199.365598</td>\n      <td>187.211110</td>\n      <td>192.284637</td>\n      <td>1062774800</td>\n    </tr>\n    <tr>\n      <th>2024-01-01</th>\n      <td>186.911489</td>\n      <td>196.129737</td>\n      <td>179.940388</td>\n      <td>184.164993</td>\n      <td>1187219300</td>\n    </tr>\n    <tr>\n      <th>2024-02-01</th>\n      <td>183.755530</td>\n      <td>190.806530</td>\n      <td>179.021565</td>\n      <td>180.519653</td>\n      <td>1161627000</td>\n    </tr>\n    <tr>\n      <th>2024-03-01</th>\n      <td>179.550003</td>\n      <td>180.529999</td>\n      <td>168.490005</td>\n      <td>171.393600</td>\n      <td>614431309</td>\n    </tr>\n  </tbody>\n</table>\n<p>471 rows × 5 columns</p>\n</div>"
     },
     "execution_count": 7,
     "metadata": {},
     "output_type": "execute_result"
    }
   ],
   "source": [
    "helper.get_prices(\"AAPL\", freq=\"monthly\")"
   ]
  },
  {
   "cell_type": "code",
   "execution_count": 8,
   "metadata": {
    "pycharm": {
     "name": "#%%\n"
    },
    "ExecuteTime": {
     "end_time": "2024-03-13T17:29:00.096020Z",
     "start_time": "2024-03-13T17:28:59.929741Z"
    }
   },
   "outputs": [
    {
     "data": {
      "text/plain": "                                 open        high         low       close  \\\ndate                                                                        \n2024-03-05 09:30:00-05:00  170.895004  170.960007  170.880005  170.919998   \n2024-03-05 09:31:00-05:00  171.000000  171.080002  170.999496  171.059998   \n2024-03-05 09:32:00-05:00  171.339905  171.339996  171.270004  171.300003   \n2024-03-05 09:33:00-05:00  171.929993  171.929993  171.875000  171.895004   \n2024-03-05 09:34:00-05:00  171.625000  171.740005  171.580002  171.610001   \n...                               ...         ...         ...         ...   \n2024-03-13 13:24:00-04:00  171.324997  171.376007  171.309998  171.371201   \n2024-03-13 13:25:00-04:00  171.375000  171.440002  171.375000  171.399994   \n2024-03-13 13:26:00-04:00  171.395004  171.419998  171.380005  171.395905   \n2024-03-13 13:27:00-04:00  171.395004  171.407196  171.360001  171.392395   \n2024-03-13 13:28:00-04:00  171.393600  171.393600  171.393600  171.393600   \n\n                            volume  \ndate                                \n2024-03-05 09:30:00-05:00  5958861  \n2024-03-05 09:31:00-05:00   926341  \n2024-03-05 09:32:00-05:00   703908  \n2024-03-05 09:33:00-05:00   994237  \n2024-03-05 09:34:00-05:00   626087  \n...                            ...  \n2024-03-13 13:24:00-04:00    59653  \n2024-03-13 13:25:00-04:00   126625  \n2024-03-13 13:26:00-04:00    56993  \n2024-03-13 13:27:00-04:00    47852  \n2024-03-13 13:28:00-04:00        0  \n\n[2547 rows x 5 columns]",
      "text/html": "<div>\n<style scoped>\n    .dataframe tbody tr th:only-of-type {\n        vertical-align: middle;\n    }\n\n    .dataframe tbody tr th {\n        vertical-align: top;\n    }\n\n    .dataframe thead th {\n        text-align: right;\n    }\n</style>\n<table border=\"1\" class=\"dataframe\">\n  <thead>\n    <tr style=\"text-align: right;\">\n      <th></th>\n      <th>open</th>\n      <th>high</th>\n      <th>low</th>\n      <th>close</th>\n      <th>volume</th>\n    </tr>\n    <tr>\n      <th>date</th>\n      <th></th>\n      <th></th>\n      <th></th>\n      <th></th>\n      <th></th>\n    </tr>\n  </thead>\n  <tbody>\n    <tr>\n      <th>2024-03-05 09:30:00-05:00</th>\n      <td>170.895004</td>\n      <td>170.960007</td>\n      <td>170.880005</td>\n      <td>170.919998</td>\n      <td>5958861</td>\n    </tr>\n    <tr>\n      <th>2024-03-05 09:31:00-05:00</th>\n      <td>171.000000</td>\n      <td>171.080002</td>\n      <td>170.999496</td>\n      <td>171.059998</td>\n      <td>926341</td>\n    </tr>\n    <tr>\n      <th>2024-03-05 09:32:00-05:00</th>\n      <td>171.339905</td>\n      <td>171.339996</td>\n      <td>171.270004</td>\n      <td>171.300003</td>\n      <td>703908</td>\n    </tr>\n    <tr>\n      <th>2024-03-05 09:33:00-05:00</th>\n      <td>171.929993</td>\n      <td>171.929993</td>\n      <td>171.875000</td>\n      <td>171.895004</td>\n      <td>994237</td>\n    </tr>\n    <tr>\n      <th>2024-03-05 09:34:00-05:00</th>\n      <td>171.625000</td>\n      <td>171.740005</td>\n      <td>171.580002</td>\n      <td>171.610001</td>\n      <td>626087</td>\n    </tr>\n    <tr>\n      <th>...</th>\n      <td>...</td>\n      <td>...</td>\n      <td>...</td>\n      <td>...</td>\n      <td>...</td>\n    </tr>\n    <tr>\n      <th>2024-03-13 13:24:00-04:00</th>\n      <td>171.324997</td>\n      <td>171.376007</td>\n      <td>171.309998</td>\n      <td>171.371201</td>\n      <td>59653</td>\n    </tr>\n    <tr>\n      <th>2024-03-13 13:25:00-04:00</th>\n      <td>171.375000</td>\n      <td>171.440002</td>\n      <td>171.375000</td>\n      <td>171.399994</td>\n      <td>126625</td>\n    </tr>\n    <tr>\n      <th>2024-03-13 13:26:00-04:00</th>\n      <td>171.395004</td>\n      <td>171.419998</td>\n      <td>171.380005</td>\n      <td>171.395905</td>\n      <td>56993</td>\n    </tr>\n    <tr>\n      <th>2024-03-13 13:27:00-04:00</th>\n      <td>171.395004</td>\n      <td>171.407196</td>\n      <td>171.360001</td>\n      <td>171.392395</td>\n      <td>47852</td>\n    </tr>\n    <tr>\n      <th>2024-03-13 13:28:00-04:00</th>\n      <td>171.393600</td>\n      <td>171.393600</td>\n      <td>171.393600</td>\n      <td>171.393600</td>\n      <td>0</td>\n    </tr>\n  </tbody>\n</table>\n<p>2547 rows × 5 columns</p>\n</div>"
     },
     "execution_count": 8,
     "metadata": {},
     "output_type": "execute_result"
    }
   ],
   "source": [
    "helper.get_prices(\"AAPL\", freq=\"1min\")"
   ]
  },
  {
   "cell_type": "code",
   "execution_count": 9,
   "metadata": {
    "collapsed": false,
    "pycharm": {
     "name": "#%%\n"
    },
    "ExecuteTime": {
     "end_time": "2024-03-13T17:29:00.982134Z",
     "start_time": "2024-03-13T17:29:00.799270Z"
    }
   },
   "outputs": [
    {
     "data": {
      "text/plain": "                                 open        high         low       close  \\\ndate                                                                        \n2023-12-15 09:30:00-05:00  197.789993  198.009995  197.125000  197.250000   \n2023-12-15 09:35:00-05:00  197.250000  197.919998  197.080002  197.697998   \n2023-12-15 09:40:00-05:00  197.690002  198.059906  197.460007  197.929993   \n2023-12-15 09:45:00-05:00  197.940002  198.149994  197.550003  197.639999   \n2023-12-15 09:50:00-05:00  197.649994  197.919998  197.559998  197.604996   \n...                               ...         ...         ...         ...   \n2024-03-13 13:05:00-04:00  171.089996  171.335007  171.089996  171.214996   \n2024-03-13 13:10:00-04:00  171.220001  171.365005  171.213303  171.309998   \n2024-03-13 13:15:00-04:00  171.310303  171.330002  171.139999  171.235001   \n2024-03-13 13:20:00-04:00  171.240005  171.376007  171.240005  171.371201   \n2024-03-13 13:25:00-04:00  171.375000  171.440002  171.360001  171.398697   \n\n                             volume  \ndate                                 \n2023-12-15 09:30:00-05:00  18998133  \n2023-12-15 09:35:00-05:00   1906887  \n2023-12-15 09:40:00-05:00    787100  \n2023-12-15 09:45:00-05:00    827365  \n2023-12-15 09:50:00-05:00    498733  \n...                             ...  \n2024-03-13 13:05:00-04:00    502730  \n2024-03-13 13:10:00-04:00    361154  \n2024-03-13 13:15:00-04:00    427851  \n2024-03-13 13:20:00-04:00    330700  \n2024-03-13 13:25:00-04:00    263946  \n\n[4643 rows x 5 columns]",
      "text/html": "<div>\n<style scoped>\n    .dataframe tbody tr th:only-of-type {\n        vertical-align: middle;\n    }\n\n    .dataframe tbody tr th {\n        vertical-align: top;\n    }\n\n    .dataframe thead th {\n        text-align: right;\n    }\n</style>\n<table border=\"1\" class=\"dataframe\">\n  <thead>\n    <tr style=\"text-align: right;\">\n      <th></th>\n      <th>open</th>\n      <th>high</th>\n      <th>low</th>\n      <th>close</th>\n      <th>volume</th>\n    </tr>\n    <tr>\n      <th>date</th>\n      <th></th>\n      <th></th>\n      <th></th>\n      <th></th>\n      <th></th>\n    </tr>\n  </thead>\n  <tbody>\n    <tr>\n      <th>2023-12-15 09:30:00-05:00</th>\n      <td>197.789993</td>\n      <td>198.009995</td>\n      <td>197.125000</td>\n      <td>197.250000</td>\n      <td>18998133</td>\n    </tr>\n    <tr>\n      <th>2023-12-15 09:35:00-05:00</th>\n      <td>197.250000</td>\n      <td>197.919998</td>\n      <td>197.080002</td>\n      <td>197.697998</td>\n      <td>1906887</td>\n    </tr>\n    <tr>\n      <th>2023-12-15 09:40:00-05:00</th>\n      <td>197.690002</td>\n      <td>198.059906</td>\n      <td>197.460007</td>\n      <td>197.929993</td>\n      <td>787100</td>\n    </tr>\n    <tr>\n      <th>2023-12-15 09:45:00-05:00</th>\n      <td>197.940002</td>\n      <td>198.149994</td>\n      <td>197.550003</td>\n      <td>197.639999</td>\n      <td>827365</td>\n    </tr>\n    <tr>\n      <th>2023-12-15 09:50:00-05:00</th>\n      <td>197.649994</td>\n      <td>197.919998</td>\n      <td>197.559998</td>\n      <td>197.604996</td>\n      <td>498733</td>\n    </tr>\n    <tr>\n      <th>...</th>\n      <td>...</td>\n      <td>...</td>\n      <td>...</td>\n      <td>...</td>\n      <td>...</td>\n    </tr>\n    <tr>\n      <th>2024-03-13 13:05:00-04:00</th>\n      <td>171.089996</td>\n      <td>171.335007</td>\n      <td>171.089996</td>\n      <td>171.214996</td>\n      <td>502730</td>\n    </tr>\n    <tr>\n      <th>2024-03-13 13:10:00-04:00</th>\n      <td>171.220001</td>\n      <td>171.365005</td>\n      <td>171.213303</td>\n      <td>171.309998</td>\n      <td>361154</td>\n    </tr>\n    <tr>\n      <th>2024-03-13 13:15:00-04:00</th>\n      <td>171.310303</td>\n      <td>171.330002</td>\n      <td>171.139999</td>\n      <td>171.235001</td>\n      <td>427851</td>\n    </tr>\n    <tr>\n      <th>2024-03-13 13:20:00-04:00</th>\n      <td>171.240005</td>\n      <td>171.376007</td>\n      <td>171.240005</td>\n      <td>171.371201</td>\n      <td>330700</td>\n    </tr>\n    <tr>\n      <th>2024-03-13 13:25:00-04:00</th>\n      <td>171.375000</td>\n      <td>171.440002</td>\n      <td>171.360001</td>\n      <td>171.398697</td>\n      <td>263946</td>\n    </tr>\n  </tbody>\n</table>\n<p>4643 rows × 5 columns</p>\n</div>"
     },
     "execution_count": 9,
     "metadata": {},
     "output_type": "execute_result"
    }
   ],
   "source": [
    "helper.get_prices(\"AAPL\", freq=\"5min\")"
   ]
  },
  {
   "cell_type": "code",
   "execution_count": 10,
   "metadata": {
    "collapsed": false,
    "pycharm": {
     "name": "#%%\n"
    },
    "ExecuteTime": {
     "end_time": "2024-03-13T17:29:01.813308Z",
     "start_time": "2024-03-13T17:29:01.668642Z"
    }
   },
   "outputs": [
    {
     "data": {
      "text/plain": "                           open        high         low       close    volume\ndate                                                                         \n2023-12-15 09:30:00  197.789993  198.059906  197.080002  197.929993  21692120\n2023-12-15 09:45:00  197.940002  198.149994  197.535004  197.884995   1928102\n2023-12-15 10:00:00  197.889999  198.229904  197.554993  198.149994   2149409\n2023-12-15 10:15:00  198.139999  198.399902  198.009995  198.029999   1938818\n2023-12-15 10:30:00  198.039993  198.158997  197.570007  197.579895   1951387\n...                         ...         ...         ...         ...       ...\n2024-03-13 12:15:00  170.945007  171.139999  170.945007  171.059998   1071992\n2024-03-13 12:30:00  171.070007  171.119995  170.940002  171.039993   1938135\n2024-03-13 12:45:00  171.050003  171.070007  170.945007  171.014999    983009\n2024-03-13 13:00:00  171.014999  171.365005  171.014999  171.309998   1522681\n2024-03-13 13:15:00  171.310303  171.440002  171.139999  171.395004   1022497\n\n[1550 rows x 5 columns]",
      "text/html": "<div>\n<style scoped>\n    .dataframe tbody tr th:only-of-type {\n        vertical-align: middle;\n    }\n\n    .dataframe tbody tr th {\n        vertical-align: top;\n    }\n\n    .dataframe thead th {\n        text-align: right;\n    }\n</style>\n<table border=\"1\" class=\"dataframe\">\n  <thead>\n    <tr style=\"text-align: right;\">\n      <th></th>\n      <th>open</th>\n      <th>high</th>\n      <th>low</th>\n      <th>close</th>\n      <th>volume</th>\n    </tr>\n    <tr>\n      <th>date</th>\n      <th></th>\n      <th></th>\n      <th></th>\n      <th></th>\n      <th></th>\n    </tr>\n  </thead>\n  <tbody>\n    <tr>\n      <th>2023-12-15 09:30:00</th>\n      <td>197.789993</td>\n      <td>198.059906</td>\n      <td>197.080002</td>\n      <td>197.929993</td>\n      <td>21692120</td>\n    </tr>\n    <tr>\n      <th>2023-12-15 09:45:00</th>\n      <td>197.940002</td>\n      <td>198.149994</td>\n      <td>197.535004</td>\n      <td>197.884995</td>\n      <td>1928102</td>\n    </tr>\n    <tr>\n      <th>2023-12-15 10:00:00</th>\n      <td>197.889999</td>\n      <td>198.229904</td>\n      <td>197.554993</td>\n      <td>198.149994</td>\n      <td>2149409</td>\n    </tr>\n    <tr>\n      <th>2023-12-15 10:15:00</th>\n      <td>198.139999</td>\n      <td>198.399902</td>\n      <td>198.009995</td>\n      <td>198.029999</td>\n      <td>1938818</td>\n    </tr>\n    <tr>\n      <th>2023-12-15 10:30:00</th>\n      <td>198.039993</td>\n      <td>198.158997</td>\n      <td>197.570007</td>\n      <td>197.579895</td>\n      <td>1951387</td>\n    </tr>\n    <tr>\n      <th>...</th>\n      <td>...</td>\n      <td>...</td>\n      <td>...</td>\n      <td>...</td>\n      <td>...</td>\n    </tr>\n    <tr>\n      <th>2024-03-13 12:15:00</th>\n      <td>170.945007</td>\n      <td>171.139999</td>\n      <td>170.945007</td>\n      <td>171.059998</td>\n      <td>1071992</td>\n    </tr>\n    <tr>\n      <th>2024-03-13 12:30:00</th>\n      <td>171.070007</td>\n      <td>171.119995</td>\n      <td>170.940002</td>\n      <td>171.039993</td>\n      <td>1938135</td>\n    </tr>\n    <tr>\n      <th>2024-03-13 12:45:00</th>\n      <td>171.050003</td>\n      <td>171.070007</td>\n      <td>170.945007</td>\n      <td>171.014999</td>\n      <td>983009</td>\n    </tr>\n    <tr>\n      <th>2024-03-13 13:00:00</th>\n      <td>171.014999</td>\n      <td>171.365005</td>\n      <td>171.014999</td>\n      <td>171.309998</td>\n      <td>1522681</td>\n    </tr>\n    <tr>\n      <th>2024-03-13 13:15:00</th>\n      <td>171.310303</td>\n      <td>171.440002</td>\n      <td>171.139999</td>\n      <td>171.395004</td>\n      <td>1022497</td>\n    </tr>\n  </tbody>\n</table>\n<p>1550 rows × 5 columns</p>\n</div>"
     },
     "execution_count": 10,
     "metadata": {},
     "output_type": "execute_result"
    }
   ],
   "source": [
    "helper.get_prices(\"AAPL\", freq=\"15min\")"
   ]
  },
  {
   "cell_type": "code",
   "execution_count": 11,
   "metadata": {
    "collapsed": false,
    "pycharm": {
     "name": "#%%\n"
    },
    "ExecuteTime": {
     "end_time": "2024-03-13T17:29:02.590986Z",
     "start_time": "2024-03-13T17:29:02.504074Z"
    }
   },
   "outputs": [
    {
     "data": {
      "text/plain": "                                 open        high         low       close  \\\ndate                                                                        \n2023-12-15 09:30:00-05:00  197.789993  198.399902  197.080002  198.029999   \n2023-12-15 10:30:00-05:00  198.039993  198.158997  197.350006  197.625000   \n2023-12-15 11:30:00-05:00  197.630005  198.020004  197.535004  197.729996   \n2023-12-15 12:30:00-05:00  197.740005  197.740005  197.100006  197.375000   \n2023-12-15 13:30:00-05:00  197.380005  197.664993  197.020004  197.270004   \n...                               ...         ...         ...         ...   \n2024-03-12 15:30:00-04:00  173.854996  174.029999  173.149994  173.220001   \n2024-03-13 09:30:00-04:00  173.000000  173.029999  170.759995  170.985001   \n2024-03-13 10:30:00-04:00  170.985001  171.350006  170.865005  170.994995   \n2024-03-13 11:30:00-04:00  171.000000  171.179993  170.852707  171.059998   \n2024-03-13 12:30:00-04:00  171.070007  171.440002  170.940002  171.395004   \n\n                             volume  \ndate                                 \n2023-12-15 09:30:00-05:00  27708449  \n2023-12-15 10:30:00-05:00   6069219  \n2023-12-15 11:30:00-05:00   4016473  \n2023-12-15 12:30:00-05:00   4909415  \n2023-12-15 13:30:00-05:00   4612469  \n...                             ...  \n2024-03-12 15:30:00-04:00   6368886  \n2024-03-13 09:30:00-04:00  11960722  \n2024-03-13 10:30:00-04:00   6130049  \n2024-03-13 11:30:00-04:00   4316300  \n2024-03-13 12:30:00-04:00   5466322  \n\n[417 rows x 5 columns]",
      "text/html": "<div>\n<style scoped>\n    .dataframe tbody tr th:only-of-type {\n        vertical-align: middle;\n    }\n\n    .dataframe tbody tr th {\n        vertical-align: top;\n    }\n\n    .dataframe thead th {\n        text-align: right;\n    }\n</style>\n<table border=\"1\" class=\"dataframe\">\n  <thead>\n    <tr style=\"text-align: right;\">\n      <th></th>\n      <th>open</th>\n      <th>high</th>\n      <th>low</th>\n      <th>close</th>\n      <th>volume</th>\n    </tr>\n    <tr>\n      <th>date</th>\n      <th></th>\n      <th></th>\n      <th></th>\n      <th></th>\n      <th></th>\n    </tr>\n  </thead>\n  <tbody>\n    <tr>\n      <th>2023-12-15 09:30:00-05:00</th>\n      <td>197.789993</td>\n      <td>198.399902</td>\n      <td>197.080002</td>\n      <td>198.029999</td>\n      <td>27708449</td>\n    </tr>\n    <tr>\n      <th>2023-12-15 10:30:00-05:00</th>\n      <td>198.039993</td>\n      <td>198.158997</td>\n      <td>197.350006</td>\n      <td>197.625000</td>\n      <td>6069219</td>\n    </tr>\n    <tr>\n      <th>2023-12-15 11:30:00-05:00</th>\n      <td>197.630005</td>\n      <td>198.020004</td>\n      <td>197.535004</td>\n      <td>197.729996</td>\n      <td>4016473</td>\n    </tr>\n    <tr>\n      <th>2023-12-15 12:30:00-05:00</th>\n      <td>197.740005</td>\n      <td>197.740005</td>\n      <td>197.100006</td>\n      <td>197.375000</td>\n      <td>4909415</td>\n    </tr>\n    <tr>\n      <th>2023-12-15 13:30:00-05:00</th>\n      <td>197.380005</td>\n      <td>197.664993</td>\n      <td>197.020004</td>\n      <td>197.270004</td>\n      <td>4612469</td>\n    </tr>\n    <tr>\n      <th>...</th>\n      <td>...</td>\n      <td>...</td>\n      <td>...</td>\n      <td>...</td>\n      <td>...</td>\n    </tr>\n    <tr>\n      <th>2024-03-12 15:30:00-04:00</th>\n      <td>173.854996</td>\n      <td>174.029999</td>\n      <td>173.149994</td>\n      <td>173.220001</td>\n      <td>6368886</td>\n    </tr>\n    <tr>\n      <th>2024-03-13 09:30:00-04:00</th>\n      <td>173.000000</td>\n      <td>173.029999</td>\n      <td>170.759995</td>\n      <td>170.985001</td>\n      <td>11960722</td>\n    </tr>\n    <tr>\n      <th>2024-03-13 10:30:00-04:00</th>\n      <td>170.985001</td>\n      <td>171.350006</td>\n      <td>170.865005</td>\n      <td>170.994995</td>\n      <td>6130049</td>\n    </tr>\n    <tr>\n      <th>2024-03-13 11:30:00-04:00</th>\n      <td>171.000000</td>\n      <td>171.179993</td>\n      <td>170.852707</td>\n      <td>171.059998</td>\n      <td>4316300</td>\n    </tr>\n    <tr>\n      <th>2024-03-13 12:30:00-04:00</th>\n      <td>171.070007</td>\n      <td>171.440002</td>\n      <td>170.940002</td>\n      <td>171.395004</td>\n      <td>5466322</td>\n    </tr>\n  </tbody>\n</table>\n<p>417 rows × 5 columns</p>\n</div>"
     },
     "execution_count": 11,
     "metadata": {},
     "output_type": "execute_result"
    }
   ],
   "source": [
    "helper.get_prices(\"AAPL\", freq=\"1hour\")"
   ]
  },
  {
   "cell_type": "code",
   "execution_count": null,
   "metadata": {
    "collapsed": false,
    "pycharm": {
     "name": "#%%\n"
    }
   },
   "outputs": [],
   "source": []
  },
  {
   "cell_type": "code",
   "execution_count": null,
   "metadata": {},
   "outputs": [],
   "source": []
  },
  {
   "cell_type": "code",
   "execution_count": null,
   "metadata": {},
   "outputs": [],
   "source": []
  }
 ],
 "metadata": {
  "kernelspec": {
   "display_name": "Python 3 (ipykernel)",
   "language": "python",
   "name": "python3"
  },
  "language_info": {
   "codemirror_mode": {
    "name": "ipython",
    "version": 3
   },
   "file_extension": ".py",
   "mimetype": "text/x-python",
   "name": "python",
   "nbconvert_exporter": "python",
   "pygments_lexer": "ipython3",
   "version": "3.9.18"
  }
 },
 "nbformat": 4,
 "nbformat_minor": 1
}
