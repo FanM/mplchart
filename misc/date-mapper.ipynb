{
 "cells": [
  {
   "cell_type": "code",
   "execution_count": 139,
   "id": "initial_id",
   "metadata": {
    "collapsed": true,
    "ExecuteTime": {
     "end_time": "2024-03-13T20:48:15.571392Z",
     "start_time": "2024-03-13T20:48:15.557710Z"
    }
   },
   "source": [
    "import pandas as pd\n",
    "\n",
    "from mplchart.samples import sample_prices\n",
    "from mplchart.mapper import DateIndexMapper\n"
   ],
   "outputs": []
  },
  {
   "cell_type": "code",
   "source": [
    "ticker = \"AAPL\"\n",
    "prices = sample_prices(5000)\n",
    "prices"
   ],
   "metadata": {
    "collapsed": false,
    "ExecuteTime": {
     "end_time": "2024-03-13T20:48:16.044970Z",
     "start_time": "2024-03-13T20:48:16.019150Z"
    }
   },
   "id": "480884037ba44b3c",
   "execution_count": 140,
   "outputs": []
  },
  {
   "cell_type": "code",
   "source": [
    "mapper = DateIndexMapper(prices.index, max_bars=250)\n",
    "mapper"
   ],
   "metadata": {
    "collapsed": false,
    "ExecuteTime": {
     "end_time": "2024-03-13T20:48:16.474239Z",
     "start_time": "2024-03-13T20:48:16.464757Z"
    }
   },
   "id": "814858bd1dc3f20e",
   "execution_count": 141,
   "outputs": []
  },
  {
   "cell_type": "code",
   "source": [
    "mapper.extract_df(prices)"
   ],
   "metadata": {
    "collapsed": false,
    "ExecuteTime": {
     "end_time": "2024-03-13T20:48:16.923456Z",
     "start_time": "2024-03-13T20:48:16.899312Z"
    }
   },
   "id": "4191e58db4057c79",
   "execution_count": 142,
   "outputs": []
  },
  {
   "cell_type": "code",
   "source": [
    "mapper.slice(prices)"
   ],
   "metadata": {
    "collapsed": false,
    "ExecuteTime": {
     "end_time": "2024-03-13T20:48:17.259770Z",
     "start_time": "2024-03-13T20:48:17.247379Z"
    }
   },
   "id": "9667ea87cf0642eb",
   "execution_count": 143,
   "outputs": []
  },
  {
   "cell_type": "code",
   "source": [
    "prices2 = pd.concat([prices, prices]).sort_index()\n",
    "prices2"
   ],
   "metadata": {
    "collapsed": false,
    "ExecuteTime": {
     "end_time": "2024-03-13T20:48:17.620573Z",
     "start_time": "2024-03-13T20:48:17.605978Z"
    }
   },
   "id": "5a262fbe66f07965",
   "execution_count": 144,
   "outputs": []
  },
  {
   "cell_type": "code",
   "source": [
    "mapper.extract_df(prices2)"
   ],
   "metadata": {
    "collapsed": false,
    "ExecuteTime": {
     "end_time": "2024-03-13T20:48:17.854962Z",
     "start_time": "2024-03-13T20:48:17.842935Z"
    }
   },
   "id": "5c11bcd311efe2c7",
   "execution_count": 145,
   "outputs": []
  },
  {
   "cell_type": "code",
   "source": [
    "mapper.slice(prices2)"
   ],
   "metadata": {
    "collapsed": false,
    "ExecuteTime": {
     "end_time": "2024-03-13T20:48:18.224965Z",
     "start_time": "2024-03-13T20:48:18.211275Z"
    }
   },
   "id": "b28cfe936a9e1507",
   "execution_count": 146,
   "outputs": []
  },
  {
   "cell_type": "code",
   "source": [],
   "metadata": {
    "collapsed": false
   },
   "id": "6e3a2edfe40e9375",
   "execution_count": null,
   "outputs": []
  }
 ],
 "metadata": {
  "kernelspec": {
   "display_name": "Python 3",
   "language": "python",
   "name": "python3"
  },
  "language_info": {
   "codemirror_mode": {
    "name": "ipython",
    "version": 2
   },
   "file_extension": ".py",
   "mimetype": "text/x-python",
   "name": "python",
   "nbconvert_exporter": "python",
   "pygments_lexer": "ipython2",
   "version": "2.7.6"
  }
 },
 "nbformat": 4,
 "nbformat_minor": 5
}
