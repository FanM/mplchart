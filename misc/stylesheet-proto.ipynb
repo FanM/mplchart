{
 "cells": [
  {
   "cell_type": "code",
   "execution_count": 195,
   "metadata": {},
   "outputs": [
    {
     "data": {
      "text/plain": [
       "Cycler(['red', 'green', 'blue'], 0)"
      ]
     },
     "execution_count": 195,
     "metadata": {},
     "output_type": "execute_result"
    }
   ],
   "source": [
    "class Cycler:\n",
    "    def __init__(self, values, counter: int =0):\n",
    "        self.values = list(values)\n",
    "        self.counter = counter\n",
    "\n",
    "    def __iter__(self):\n",
    "        return self.values.__iter__()\n",
    "\n",
    "    def next(self):\n",
    "        idx = self.counter % len(self.values)\n",
    "        self.counter += 1\n",
    "        return self.values[idx] \n",
    "\n",
    "    def copy(self, reset: bool = True):\n",
    "        counter = 0 if reset else self.counter\n",
    "        return self.__class__(self.values, counter)\n",
    "\n",
    "    def __repr__(self):\n",
    "        cname = self.__class__.__name__\n",
    "        return f\"{cname}({self.values!r}, {self.counter})\"\n",
    "\n",
    "\n",
    "cycler = Cycler([\"red\", \"green\", \"blue\"])\n",
    "cycler\n"
   ]
  },
  {
   "cell_type": "code",
   "execution_count": 196,
   "metadata": {},
   "outputs": [
    {
     "name": "stdout",
     "output_type": "stream",
     "text": [
      "Stylesheet({'candlesticks.up:color': 'black', 'candlesticks.down:color': 'red', 'sma:color': Cycler(['blue', 'green', 'red'], 0)})\n"
     ]
    },
    {
     "data": {
      "text/plain": [
       "Stylesheet({'candlesticks.up:color': 'black',\n",
       "         'candlesticks.down:color': 'red',\n",
       "         'sma:color': Cycler(['blue', 'green', 'red'], 0)})"
      ]
     },
     "metadata": {},
     "output_type": "display_data"
    }
   ],
   "source": [
    "\n",
    "class Stylesheet:\n",
    "    def __init__(self, stylemap):\n",
    "        if hasattr(stylemap, 'stylemap'):\n",
    "            stylemap = stylemap.stylemap\n",
    "\n",
    "        def map_value(value):\n",
    "            if isinstance(value, (list, Cycler)):\n",
    "                return Cycler(value)\n",
    "            return value\n",
    "        self.stylemap = {\n",
    "            k: map_value(v) for k, v in stylemap.items()\n",
    "        }\n",
    "\n",
    "\n",
    "    def __repr__(self):\n",
    "        cname = self.__class__.__name__\n",
    "        return f\"{cname}({self.stylemap!r})\"\n",
    "\n",
    "    def _repr_pretty_(self, p, cycle):\n",
    "        cname = self.__class__.__name__\n",
    "        if cycle:\n",
    "            p.text(f\"{cname}(...)\")\n",
    "        else:\n",
    "            with p.group(8, f\"{cname}(\", \")\"):\n",
    "                p.pretty(self.stylemap)\n",
    "\n",
    "    def get_setting(self, *keys, facet: str = None):\n",
    "        if facet is not None:\n",
    "            keys = tuple(k+\":\"+facet for k in keys)\n",
    "        for key in keys:\n",
    "            value = self.stylemap.get(key)\n",
    "            if value is None:\n",
    "                continue\n",
    "            if isinstance(value, Cycler):\n",
    "                value = value.next()\n",
    "            return value   \n",
    "\n",
    "\n",
    "    def copy(self):\n",
    "        return self.__class__(self.stylemap)\n",
    "\n",
    "\n",
    "stylemap = {\n",
    "    \"candlesticks.up:color\": \"black\",\n",
    "    \"candlesticks.down:color\": \"red\",\n",
    "    \"sma:color\" : [\"blue\", \"green\", \"red\"]\n",
    "}\n",
    "\n",
    "\n",
    "stylesheet = Stylesheet(stylemap)\n",
    "\n",
    "print(stylesheet)\n",
    "display(stylesheet)"
   ]
  },
  {
   "cell_type": "code",
   "execution_count": 197,
   "metadata": {},
   "outputs": [
    {
     "name": "stdout",
     "output_type": "stream",
     "text": [
      "blue\n",
      "green\n"
     ]
    },
    {
     "data": {
      "text/plain": [
       "Stylesheet({'candlesticks.up:color': 'black',\n",
       "         'candlesticks.down:color': 'red',\n",
       "         'sma:color': Cycler(['blue', 'green', 'red'], 2)})"
      ]
     },
     "execution_count": 197,
     "metadata": {},
     "output_type": "execute_result"
    }
   ],
   "source": [
    "print(stylesheet.get_setting(\"sma\", facet=\"color\"))\n",
    "print(stylesheet.get_setting(\"sma\", facet=\"color\"))\n",
    "stylesheet\n"
   ]
  },
  {
   "cell_type": "code",
   "execution_count": 198,
   "metadata": {},
   "outputs": [
    {
     "data": {
      "text/plain": [
       "Stylesheet({'candlesticks.up:color': 'black',\n",
       "         'candlesticks.down:color': 'red',\n",
       "         'sma:color': Cycler(['blue', 'green', 'red'], 0)})"
      ]
     },
     "execution_count": 198,
     "metadata": {},
     "output_type": "execute_result"
    }
   ],
   "source": [
    "stylesheet.copy()"
   ]
  },
  {
   "cell_type": "code",
   "execution_count": 199,
   "metadata": {},
   "outputs": [
    {
     "data": {
      "text/plain": [
       "Stylesheet({'candlesticks.up:color': 'black',\n",
       "         'candlesticks.down:color': 'red',\n",
       "         'sma:color': Cycler(['blue', 'green', 'red'], 0)})"
      ]
     },
     "execution_count": 199,
     "metadata": {},
     "output_type": "execute_result"
    }
   ],
   "source": [
    "from collections import defaultdict\n",
    "\n",
    "class Chart:\n",
    "\n",
    "    def __init__(self, stylemap):\n",
    "        self.stylesheet = Stylesheet(stylemap)\n",
    "        self.stylecache = defaultdict(lambda: Stylesheet(self.stylesheet))\n",
    "\n",
    "    def get_stylesheet(self, ax):\n",
    "        return self.stylecache[ax]\n",
    "\n",
    "\n",
    "chart = Chart(stylemap=stylesheet)\n",
    "chart.get_stylesheet(1)\n"
   ]
  },
  {
   "cell_type": "code",
   "execution_count": 200,
   "metadata": {},
   "outputs": [
    {
     "data": {
      "text/plain": [
       "MyDict({'a': 1, 'b': 2})"
      ]
     },
     "execution_count": 200,
     "metadata": {},
     "output_type": "execute_result"
    }
   ],
   "source": [
    "class MyDict(dict):\n",
    "    def __init__(self, mapping=(), **kwargs):\n",
    "        super().__init__(mapping, **kwargs)\n",
    "    \n",
    "    def __repr__(self):\n",
    "        cname = self.__class__.__name__\n",
    "        return f\"{cname}({super().__repr__()})\"\n",
    "\n",
    "\n",
    "MyDict(a=1, b=2)"
   ]
  },
  {
   "cell_type": "code",
   "execution_count": null,
   "metadata": {},
   "outputs": [],
   "source": []
  }
 ],
 "metadata": {
  "kernelspec": {
   "display_name": ".venv",
   "language": "python",
   "name": "python3"
  },
  "language_info": {
   "codemirror_mode": {
    "name": "ipython",
    "version": 3
   },
   "file_extension": ".py",
   "mimetype": "text/x-python",
   "name": "python",
   "nbconvert_exporter": "python",
   "pygments_lexer": "ipython3",
   "version": "3.9.6"
  }
 },
 "nbformat": 4,
 "nbformat_minor": 2
}
