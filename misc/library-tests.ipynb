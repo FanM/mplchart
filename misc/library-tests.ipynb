{
 "cells": [
  {
   "cell_type": "markdown",
   "metadata": {
    "collapsed": false,
    "pycharm": {
     "name": "#%% md\n"
    }
   },
   "source": [
    "# Library Tests"
   ]
  },
  {
   "cell_type": "code",
   "execution_count": 1,
   "metadata": {
    "collapsed": false,
    "pycharm": {
     "name": "#%%\n"
    },
    "ExecuteTime": {
     "end_time": "2024-03-15T19:49:59.346339Z",
     "start_time": "2024-03-15T19:49:59.021718Z"
    }
   },
   "source": [
    "import yfinance as yf\n",
    "\n",
    "from mplchart import library\n"
   ],
   "outputs": []
  },
  {
   "cell_type": "code",
   "source": [
    "ticker = \"AAPL\"\n",
    "prices = yf.Ticker(ticker).history(period=\"5y\")\n",
    "prices = prices.rename(columns=str.lower).rename_axis(index=str.lower)\n",
    "prices"
   ],
   "metadata": {
    "collapsed": false,
    "pycharm": {
     "name": "#%%\n"
    },
    "ExecuteTime": {
     "end_time": "2024-03-15T19:50:00.533173Z",
     "start_time": "2024-03-15T19:50:00.226223Z"
    }
   },
   "execution_count": 2,
   "outputs": []
  },
  {
   "cell_type": "code",
   "execution_count": 3,
   "metadata": {
    "collapsed": false,
    "ExecuteTime": {
     "end_time": "2024-03-15T19:50:01.294896Z",
     "start_time": "2024-03-15T19:50:01.279145Z"
    }
   },
   "source": [
    "library.calc_adx(prices)\n"
   ],
   "outputs": []
  },
  {
   "cell_type": "code",
   "execution_count": 3,
   "metadata": {
    "ExecuteTime": {
     "end_time": "2023-11-13T21:24:54.283224Z",
     "start_time": "2023-11-13T21:24:54.277700Z"
    },
    "collapsed": false,
    "pycharm": {
     "name": "#%%\n"
    }
   },
   "source": [],
   "outputs": []
  },
  {
   "cell_type": "code",
   "execution_count": null,
   "metadata": {
    "collapsed": false
   },
   "source": [],
   "outputs": []
  }
 ],
 "metadata": {
  "kernelspec": {
   "display_name": "Python 3 (ipykernel)",
   "language": "python",
   "name": "python3"
  },
  "language_info": {
   "codemirror_mode": {
    "name": "ipython",
    "version": 3
   },
   "file_extension": ".py",
   "mimetype": "text/x-python",
   "name": "python",
   "nbconvert_exporter": "python",
   "pygments_lexer": "ipython3",
   "version": "3.9.18"
  }
 },
 "nbformat": 4,
 "nbformat_minor": 1
}
