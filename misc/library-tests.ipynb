{
 "cells": [
  {
   "cell_type": "markdown",
   "metadata": {
    "collapsed": false,
    "pycharm": {
     "name": "#%% md\n"
    }
   },
   "source": [
    "# Mplchart Library Tests"
   ]
  },
  {
   "cell_type": "code",
   "execution_count": 1,
   "metadata": {
    "ExecuteTime": {
     "end_time": "2024-06-05T21:37:36.590600Z",
     "start_time": "2024-06-05T21:37:36.310407Z"
    },
    "collapsed": false,
    "pycharm": {
     "name": "#%%\n"
    }
   },
   "outputs": [],
   "source": [
    "import yfinance as yf\n",
    "\n",
    "from mplchart import library\n"
   ]
  },
  {
   "cell_type": "code",
   "execution_count": 2,
   "metadata": {
    "ExecuteTime": {
     "end_time": "2024-06-05T21:37:37.359815Z",
     "start_time": "2024-06-05T21:37:37.028882Z"
    },
    "collapsed": false,
    "pycharm": {
     "name": "#%%\n"
    }
   },
   "outputs": [
    {
     "data": {
      "text/html": [
       "<div>\n",
       "<style scoped>\n",
       "    .dataframe tbody tr th:only-of-type {\n",
       "        vertical-align: middle;\n",
       "    }\n",
       "\n",
       "    .dataframe tbody tr th {\n",
       "        vertical-align: top;\n",
       "    }\n",
       "\n",
       "    .dataframe thead th {\n",
       "        text-align: right;\n",
       "    }\n",
       "</style>\n",
       "<table border=\"1\" class=\"dataframe\">\n",
       "  <thead>\n",
       "    <tr style=\"text-align: right;\">\n",
       "      <th></th>\n",
       "      <th>open</th>\n",
       "      <th>high</th>\n",
       "      <th>low</th>\n",
       "      <th>close</th>\n",
       "      <th>volume</th>\n",
       "      <th>dividends</th>\n",
       "      <th>stock splits</th>\n",
       "    </tr>\n",
       "    <tr>\n",
       "      <th>date</th>\n",
       "      <th></th>\n",
       "      <th></th>\n",
       "      <th></th>\n",
       "      <th></th>\n",
       "      <th></th>\n",
       "      <th></th>\n",
       "      <th></th>\n",
       "    </tr>\n",
       "  </thead>\n",
       "  <tbody>\n",
       "    <tr>\n",
       "      <th>2019-09-30 00:00:00-04:00</th>\n",
       "      <td>53.438140</td>\n",
       "      <td>54.328375</td>\n",
       "      <td>53.411530</td>\n",
       "      <td>54.180809</td>\n",
       "      <td>103909600</td>\n",
       "      <td>0.0</td>\n",
       "      <td>0.0</td>\n",
       "    </tr>\n",
       "    <tr>\n",
       "      <th>2019-10-01 00:00:00-04:00</th>\n",
       "      <td>54.446908</td>\n",
       "      <td>55.208926</td>\n",
       "      <td>54.236443</td>\n",
       "      <td>54.330788</td>\n",
       "      <td>139223200</td>\n",
       "      <td>0.0</td>\n",
       "      <td>0.0</td>\n",
       "    </tr>\n",
       "    <tr>\n",
       "      <th>2019-10-02 00:00:00-04:00</th>\n",
       "      <td>53.960663</td>\n",
       "      <td>54.086458</td>\n",
       "      <td>52.719658</td>\n",
       "      <td>52.968830</td>\n",
       "      <td>138449200</td>\n",
       "      <td>0.0</td>\n",
       "      <td>0.0</td>\n",
       "    </tr>\n",
       "    <tr>\n",
       "      <th>2019-10-03 00:00:00-04:00</th>\n",
       "      <td>52.840614</td>\n",
       "      <td>53.452652</td>\n",
       "      <td>52.042311</td>\n",
       "      <td>53.418785</td>\n",
       "      <td>114426000</td>\n",
       "      <td>0.0</td>\n",
       "      <td>0.0</td>\n",
       "    </tr>\n",
       "    <tr>\n",
       "      <th>2019-10-04 00:00:00-04:00</th>\n",
       "      <td>54.584797</td>\n",
       "      <td>55.032334</td>\n",
       "      <td>54.161453</td>\n",
       "      <td>54.916214</td>\n",
       "      <td>138478800</td>\n",
       "      <td>0.0</td>\n",
       "      <td>0.0</td>\n",
       "    </tr>\n",
       "    <tr>\n",
       "      <th>...</th>\n",
       "      <td>...</td>\n",
       "      <td>...</td>\n",
       "      <td>...</td>\n",
       "      <td>...</td>\n",
       "      <td>...</td>\n",
       "      <td>...</td>\n",
       "      <td>...</td>\n",
       "    </tr>\n",
       "    <tr>\n",
       "      <th>2024-09-23 00:00:00-04:00</th>\n",
       "      <td>227.339996</td>\n",
       "      <td>229.449997</td>\n",
       "      <td>225.809998</td>\n",
       "      <td>226.470001</td>\n",
       "      <td>54146000</td>\n",
       "      <td>0.0</td>\n",
       "      <td>0.0</td>\n",
       "    </tr>\n",
       "    <tr>\n",
       "      <th>2024-09-24 00:00:00-04:00</th>\n",
       "      <td>228.649994</td>\n",
       "      <td>229.350006</td>\n",
       "      <td>225.729996</td>\n",
       "      <td>227.369995</td>\n",
       "      <td>43556100</td>\n",
       "      <td>0.0</td>\n",
       "      <td>0.0</td>\n",
       "    </tr>\n",
       "    <tr>\n",
       "      <th>2024-09-25 00:00:00-04:00</th>\n",
       "      <td>224.929993</td>\n",
       "      <td>227.289993</td>\n",
       "      <td>224.020004</td>\n",
       "      <td>226.369995</td>\n",
       "      <td>42308700</td>\n",
       "      <td>0.0</td>\n",
       "      <td>0.0</td>\n",
       "    </tr>\n",
       "    <tr>\n",
       "      <th>2024-09-26 00:00:00-04:00</th>\n",
       "      <td>227.300003</td>\n",
       "      <td>228.500000</td>\n",
       "      <td>225.410004</td>\n",
       "      <td>227.520004</td>\n",
       "      <td>36636700</td>\n",
       "      <td>0.0</td>\n",
       "      <td>0.0</td>\n",
       "    </tr>\n",
       "    <tr>\n",
       "      <th>2024-09-27 00:00:00-04:00</th>\n",
       "      <td>228.460007</td>\n",
       "      <td>229.520004</td>\n",
       "      <td>227.300003</td>\n",
       "      <td>227.789993</td>\n",
       "      <td>33993600</td>\n",
       "      <td>0.0</td>\n",
       "      <td>0.0</td>\n",
       "    </tr>\n",
       "  </tbody>\n",
       "</table>\n",
       "<p>1258 rows × 7 columns</p>\n",
       "</div>"
      ],
      "text/plain": [
       "                                 open        high         low       close  \\\n",
       "date                                                                        \n",
       "2019-09-30 00:00:00-04:00   53.438140   54.328375   53.411530   54.180809   \n",
       "2019-10-01 00:00:00-04:00   54.446908   55.208926   54.236443   54.330788   \n",
       "2019-10-02 00:00:00-04:00   53.960663   54.086458   52.719658   52.968830   \n",
       "2019-10-03 00:00:00-04:00   52.840614   53.452652   52.042311   53.418785   \n",
       "2019-10-04 00:00:00-04:00   54.584797   55.032334   54.161453   54.916214   \n",
       "...                               ...         ...         ...         ...   \n",
       "2024-09-23 00:00:00-04:00  227.339996  229.449997  225.809998  226.470001   \n",
       "2024-09-24 00:00:00-04:00  228.649994  229.350006  225.729996  227.369995   \n",
       "2024-09-25 00:00:00-04:00  224.929993  227.289993  224.020004  226.369995   \n",
       "2024-09-26 00:00:00-04:00  227.300003  228.500000  225.410004  227.520004   \n",
       "2024-09-27 00:00:00-04:00  228.460007  229.520004  227.300003  227.789993   \n",
       "\n",
       "                              volume  dividends  stock splits  \n",
       "date                                                           \n",
       "2019-09-30 00:00:00-04:00  103909600        0.0           0.0  \n",
       "2019-10-01 00:00:00-04:00  139223200        0.0           0.0  \n",
       "2019-10-02 00:00:00-04:00  138449200        0.0           0.0  \n",
       "2019-10-03 00:00:00-04:00  114426000        0.0           0.0  \n",
       "2019-10-04 00:00:00-04:00  138478800        0.0           0.0  \n",
       "...                              ...        ...           ...  \n",
       "2024-09-23 00:00:00-04:00   54146000        0.0           0.0  \n",
       "2024-09-24 00:00:00-04:00   43556100        0.0           0.0  \n",
       "2024-09-25 00:00:00-04:00   42308700        0.0           0.0  \n",
       "2024-09-26 00:00:00-04:00   36636700        0.0           0.0  \n",
       "2024-09-27 00:00:00-04:00   33993600        0.0           0.0  \n",
       "\n",
       "[1258 rows x 7 columns]"
      ]
     },
     "execution_count": 2,
     "metadata": {},
     "output_type": "execute_result"
    }
   ],
   "source": [
    "ticker = \"AAPL\"\n",
    "prices = yf.Ticker(ticker).history(period=\"5y\")\n",
    "prices = prices.rename(columns=str.lower).rename_axis(index=str.lower)\n",
    "prices"
   ]
  },
  {
   "cell_type": "code",
   "execution_count": 3,
   "metadata": {
    "ExecuteTime": {
     "end_time": "2024-06-05T21:37:38.016927Z",
     "start_time": "2024-06-05T21:37:37.997742Z"
    },
    "collapsed": false
   },
   "outputs": [
    {
     "data": {
      "text/plain": [
       "date\n",
       "2019-09-30 00:00:00-04:00          NaN\n",
       "2019-10-01 00:00:00-04:00          NaN\n",
       "2019-10-02 00:00:00-04:00          NaN\n",
       "2019-10-03 00:00:00-04:00          NaN\n",
       "2019-10-04 00:00:00-04:00          NaN\n",
       "                               ...    \n",
       "2024-09-23 00:00:00-04:00    15.043774\n",
       "2024-09-24 00:00:00-04:00    14.870636\n",
       "2024-09-25 00:00:00-04:00    14.322498\n",
       "2024-09-26 00:00:00-04:00    14.048150\n",
       "2024-09-27 00:00:00-04:00    13.992472\n",
       "Name: adx, Length: 1258, dtype: float64"
      ]
     },
     "execution_count": 3,
     "metadata": {},
     "output_type": "execute_result"
    }
   ],
   "source": [
    "library.calc_adx(prices)\n"
   ]
  },
  {
   "cell_type": "code",
   "execution_count": null,
   "metadata": {
    "collapsed": false
   },
   "outputs": [],
   "source": []
  }
 ],
 "metadata": {
  "kernelspec": {
   "display_name": ".venv",
   "language": "python",
   "name": "python3"
  },
  "language_info": {
   "codemirror_mode": {
    "name": "ipython",
    "version": 3
   },
   "file_extension": ".py",
   "mimetype": "text/x-python",
   "name": "python",
   "nbconvert_exporter": "python",
   "pygments_lexer": "ipython3",
   "version": "3.9.19"
  }
 },
 "nbformat": 4,
 "nbformat_minor": 1
}
