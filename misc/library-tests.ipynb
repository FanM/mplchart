{
 "cells": [
  {
   "cell_type": "markdown",
   "metadata": {
    "collapsed": false,
    "pycharm": {
     "name": "#%% md\n"
    }
   },
   "source": [
    "# Library Tests"
   ]
  },
  {
   "cell_type": "code",
   "execution_count": 1,
   "metadata": {
    "collapsed": false,
    "pycharm": {
     "name": "#%%\n"
    },
    "ExecuteTime": {
     "end_time": "2024-03-15T19:49:59.346339Z",
     "start_time": "2024-03-15T19:49:59.021718Z"
    }
   },
   "outputs": [],
   "source": [
    "import yfinance as yf\n",
    "\n",
    "from mplchart import library\n"
   ]
  },
  {
   "cell_type": "code",
   "outputs": [
    {
     "data": {
      "text/plain": "                                 open        high         low       close  \\\ndate                                                                        \n2019-03-15 00:00:00-04:00   44.488726   45.085598   44.221577   44.794380   \n2019-03-18 00:00:00-04:00   44.717365   45.340712   44.714956   45.251663   \n2019-03-19 00:00:00-04:00   45.331089   45.485120   44.746247   44.893059   \n2019-03-20 00:00:00-04:00   44.820847   45.605449   44.459835   45.285351   \n2019-03-21 00:00:00-04:00   45.733013   47.251670   45.682470   46.953232   \n...                               ...         ...         ...         ...   \n2024-03-11 00:00:00-04:00  172.940002  174.380005  172.050003  172.750000   \n2024-03-12 00:00:00-04:00  173.149994  174.029999  171.009995  173.229996   \n2024-03-13 00:00:00-04:00  172.770004  173.190002  170.759995  171.130005   \n2024-03-14 00:00:00-04:00  172.910004  174.309998  172.050003  173.000000   \n2024-03-15 00:00:00-04:00  171.000000  172.470001  170.289993  171.565002   \n\n                              volume  dividends  stock splits  \ndate                                                           \n2019-03-15 00:00:00-04:00  156171600        0.0           0.0  \n2019-03-18 00:00:00-04:00  104879200        0.0           0.0  \n2019-03-19 00:00:00-04:00  126585600        0.0           0.0  \n2019-03-20 00:00:00-04:00  124140800        0.0           0.0  \n2019-03-21 00:00:00-04:00  204136800        0.0           0.0  \n...                              ...        ...           ...  \n2024-03-11 00:00:00-04:00   60139500        0.0           0.0  \n2024-03-12 00:00:00-04:00   59825400        0.0           0.0  \n2024-03-13 00:00:00-04:00   52488700        0.0           0.0  \n2024-03-14 00:00:00-04:00   72913500        0.0           0.0  \n2024-03-15 00:00:00-04:00   65769814        0.0           0.0  \n\n[1260 rows x 7 columns]",
      "text/html": "<div>\n<style scoped>\n    .dataframe tbody tr th:only-of-type {\n        vertical-align: middle;\n    }\n\n    .dataframe tbody tr th {\n        vertical-align: top;\n    }\n\n    .dataframe thead th {\n        text-align: right;\n    }\n</style>\n<table border=\"1\" class=\"dataframe\">\n  <thead>\n    <tr style=\"text-align: right;\">\n      <th></th>\n      <th>open</th>\n      <th>high</th>\n      <th>low</th>\n      <th>close</th>\n      <th>volume</th>\n      <th>dividends</th>\n      <th>stock splits</th>\n    </tr>\n    <tr>\n      <th>date</th>\n      <th></th>\n      <th></th>\n      <th></th>\n      <th></th>\n      <th></th>\n      <th></th>\n      <th></th>\n    </tr>\n  </thead>\n  <tbody>\n    <tr>\n      <th>2019-03-15 00:00:00-04:00</th>\n      <td>44.488726</td>\n      <td>45.085598</td>\n      <td>44.221577</td>\n      <td>44.794380</td>\n      <td>156171600</td>\n      <td>0.0</td>\n      <td>0.0</td>\n    </tr>\n    <tr>\n      <th>2019-03-18 00:00:00-04:00</th>\n      <td>44.717365</td>\n      <td>45.340712</td>\n      <td>44.714956</td>\n      <td>45.251663</td>\n      <td>104879200</td>\n      <td>0.0</td>\n      <td>0.0</td>\n    </tr>\n    <tr>\n      <th>2019-03-19 00:00:00-04:00</th>\n      <td>45.331089</td>\n      <td>45.485120</td>\n      <td>44.746247</td>\n      <td>44.893059</td>\n      <td>126585600</td>\n      <td>0.0</td>\n      <td>0.0</td>\n    </tr>\n    <tr>\n      <th>2019-03-20 00:00:00-04:00</th>\n      <td>44.820847</td>\n      <td>45.605449</td>\n      <td>44.459835</td>\n      <td>45.285351</td>\n      <td>124140800</td>\n      <td>0.0</td>\n      <td>0.0</td>\n    </tr>\n    <tr>\n      <th>2019-03-21 00:00:00-04:00</th>\n      <td>45.733013</td>\n      <td>47.251670</td>\n      <td>45.682470</td>\n      <td>46.953232</td>\n      <td>204136800</td>\n      <td>0.0</td>\n      <td>0.0</td>\n    </tr>\n    <tr>\n      <th>...</th>\n      <td>...</td>\n      <td>...</td>\n      <td>...</td>\n      <td>...</td>\n      <td>...</td>\n      <td>...</td>\n      <td>...</td>\n    </tr>\n    <tr>\n      <th>2024-03-11 00:00:00-04:00</th>\n      <td>172.940002</td>\n      <td>174.380005</td>\n      <td>172.050003</td>\n      <td>172.750000</td>\n      <td>60139500</td>\n      <td>0.0</td>\n      <td>0.0</td>\n    </tr>\n    <tr>\n      <th>2024-03-12 00:00:00-04:00</th>\n      <td>173.149994</td>\n      <td>174.029999</td>\n      <td>171.009995</td>\n      <td>173.229996</td>\n      <td>59825400</td>\n      <td>0.0</td>\n      <td>0.0</td>\n    </tr>\n    <tr>\n      <th>2024-03-13 00:00:00-04:00</th>\n      <td>172.770004</td>\n      <td>173.190002</td>\n      <td>170.759995</td>\n      <td>171.130005</td>\n      <td>52488700</td>\n      <td>0.0</td>\n      <td>0.0</td>\n    </tr>\n    <tr>\n      <th>2024-03-14 00:00:00-04:00</th>\n      <td>172.910004</td>\n      <td>174.309998</td>\n      <td>172.050003</td>\n      <td>173.000000</td>\n      <td>72913500</td>\n      <td>0.0</td>\n      <td>0.0</td>\n    </tr>\n    <tr>\n      <th>2024-03-15 00:00:00-04:00</th>\n      <td>171.000000</td>\n      <td>172.470001</td>\n      <td>170.289993</td>\n      <td>171.565002</td>\n      <td>65769814</td>\n      <td>0.0</td>\n      <td>0.0</td>\n    </tr>\n  </tbody>\n</table>\n<p>1260 rows × 7 columns</p>\n</div>"
     },
     "execution_count": 2,
     "metadata": {},
     "output_type": "execute_result"
    }
   ],
   "source": [
    "ticker = \"AAPL\"\n",
    "prices = yf.Ticker(ticker).history(period=\"5y\")\n",
    "prices = prices.rename(columns=str.lower).rename_axis(index=str.lower)\n",
    "prices"
   ],
   "metadata": {
    "collapsed": false,
    "pycharm": {
     "name": "#%%\n"
    },
    "ExecuteTime": {
     "end_time": "2024-03-15T19:50:00.533173Z",
     "start_time": "2024-03-15T19:50:00.226223Z"
    }
   },
   "execution_count": 2
  },
  {
   "cell_type": "code",
   "execution_count": 3,
   "metadata": {
    "collapsed": false,
    "ExecuteTime": {
     "end_time": "2024-03-15T19:50:01.294896Z",
     "start_time": "2024-03-15T19:50:01.279145Z"
    }
   },
   "outputs": [
    {
     "data": {
      "text/plain": "                                 adx        pdi        mdi\ndate                                                      \n2019-03-15 00:00:00-04:00        NaN        NaN        NaN\n2019-03-18 00:00:00-04:00        NaN        NaN        NaN\n2019-03-19 00:00:00-04:00        NaN        NaN        NaN\n2019-03-20 00:00:00-04:00        NaN        NaN        NaN\n2019-03-21 00:00:00-04:00        NaN        NaN        NaN\n...                              ...        ...        ...\n2024-03-11 00:00:00-04:00  33.339258  15.667816  30.745388\n2024-03-12 00:00:00-04:00  33.510401  14.668132  30.980952\n2024-03-13 00:00:00-04:00  33.725814  13.887659  29.871045\n2024-03-14 00:00:00-04:00  33.379254  15.353287  27.818775\n2024-03-15 00:00:00-04:00  33.497597  14.442621  30.020873\n\n[1260 rows x 3 columns]",
      "text/html": "<div>\n<style scoped>\n    .dataframe tbody tr th:only-of-type {\n        vertical-align: middle;\n    }\n\n    .dataframe tbody tr th {\n        vertical-align: top;\n    }\n\n    .dataframe thead th {\n        text-align: right;\n    }\n</style>\n<table border=\"1\" class=\"dataframe\">\n  <thead>\n    <tr style=\"text-align: right;\">\n      <th></th>\n      <th>adx</th>\n      <th>pdi</th>\n      <th>mdi</th>\n    </tr>\n    <tr>\n      <th>date</th>\n      <th></th>\n      <th></th>\n      <th></th>\n    </tr>\n  </thead>\n  <tbody>\n    <tr>\n      <th>2019-03-15 00:00:00-04:00</th>\n      <td>NaN</td>\n      <td>NaN</td>\n      <td>NaN</td>\n    </tr>\n    <tr>\n      <th>2019-03-18 00:00:00-04:00</th>\n      <td>NaN</td>\n      <td>NaN</td>\n      <td>NaN</td>\n    </tr>\n    <tr>\n      <th>2019-03-19 00:00:00-04:00</th>\n      <td>NaN</td>\n      <td>NaN</td>\n      <td>NaN</td>\n    </tr>\n    <tr>\n      <th>2019-03-20 00:00:00-04:00</th>\n      <td>NaN</td>\n      <td>NaN</td>\n      <td>NaN</td>\n    </tr>\n    <tr>\n      <th>2019-03-21 00:00:00-04:00</th>\n      <td>NaN</td>\n      <td>NaN</td>\n      <td>NaN</td>\n    </tr>\n    <tr>\n      <th>...</th>\n      <td>...</td>\n      <td>...</td>\n      <td>...</td>\n    </tr>\n    <tr>\n      <th>2024-03-11 00:00:00-04:00</th>\n      <td>33.339258</td>\n      <td>15.667816</td>\n      <td>30.745388</td>\n    </tr>\n    <tr>\n      <th>2024-03-12 00:00:00-04:00</th>\n      <td>33.510401</td>\n      <td>14.668132</td>\n      <td>30.980952</td>\n    </tr>\n    <tr>\n      <th>2024-03-13 00:00:00-04:00</th>\n      <td>33.725814</td>\n      <td>13.887659</td>\n      <td>29.871045</td>\n    </tr>\n    <tr>\n      <th>2024-03-14 00:00:00-04:00</th>\n      <td>33.379254</td>\n      <td>15.353287</td>\n      <td>27.818775</td>\n    </tr>\n    <tr>\n      <th>2024-03-15 00:00:00-04:00</th>\n      <td>33.497597</td>\n      <td>14.442621</td>\n      <td>30.020873</td>\n    </tr>\n  </tbody>\n</table>\n<p>1260 rows × 3 columns</p>\n</div>"
     },
     "execution_count": 3,
     "metadata": {},
     "output_type": "execute_result"
    }
   ],
   "source": [
    "library.calc_adx(prices)\n"
   ]
  },
  {
   "cell_type": "code",
   "execution_count": 3,
   "metadata": {
    "ExecuteTime": {
     "end_time": "2023-11-13T21:24:54.283224Z",
     "start_time": "2023-11-13T21:24:54.277700Z"
    },
    "collapsed": false,
    "pycharm": {
     "name": "#%%\n"
    }
   },
   "outputs": [],
   "source": []
  },
  {
   "cell_type": "code",
   "execution_count": null,
   "metadata": {
    "collapsed": false
   },
   "outputs": [],
   "source": []
  }
 ],
 "metadata": {
  "kernelspec": {
   "display_name": "Python 3 (ipykernel)",
   "language": "python",
   "name": "python3"
  },
  "language_info": {
   "codemirror_mode": {
    "name": "ipython",
    "version": 3
   },
   "file_extension": ".py",
   "mimetype": "text/x-python",
   "name": "python",
   "nbconvert_exporter": "python",
   "pygments_lexer": "ipython3",
   "version": "3.9.18"
  }
 },
 "nbformat": 4,
 "nbformat_minor": 1
}
