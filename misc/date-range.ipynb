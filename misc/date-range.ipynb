{
 "cells": [
  {
   "cell_type": "code",
   "id": "initial_id",
   "metadata": {
    "collapsed": true,
    "ExecuteTime": {
     "end_time": "2024-05-16T03:36:32.708034Z",
     "start_time": "2024-05-16T03:36:32.670798Z"
    }
   },
   "source": "import pandas as pd",
   "outputs": [],
   "execution_count": 12
  },
  {
   "metadata": {
    "ExecuteTime": {
     "end_time": "2024-05-16T03:36:32.821530Z",
     "start_time": "2024-05-16T03:36:32.810208Z"
    }
   },
   "cell_type": "code",
   "source": [
    "start = pd.to_datetime('now')\n",
    "end = start + pd.DateOffset(hours=3)\n",
    "\n",
    "end - start"
   ],
   "id": "8fafcce4d6142d27",
   "outputs": [
    {
     "data": {
      "text/plain": [
       "Timedelta('0 days 03:00:00')"
      ]
     },
     "execution_count": 13,
     "metadata": {},
     "output_type": "execute_result"
    }
   ],
   "execution_count": 13
  },
  {
   "metadata": {
    "ExecuteTime": {
     "end_time": "2024-05-16T03:36:33.034538Z",
     "start_time": "2024-05-16T03:36:32.979383Z"
    }
   },
   "cell_type": "code",
   "source": "(end - start) / pd.Timedelta(days=1)",
   "id": "a8511e7d4483c111",
   "outputs": [
    {
     "data": {
      "text/plain": [
       "0.125"
      ]
     },
     "execution_count": 14,
     "metadata": {},
     "output_type": "execute_result"
    }
   ],
   "execution_count": 14
  },
  {
   "metadata": {},
   "cell_type": "code",
   "outputs": [],
   "execution_count": null,
   "source": "",
   "id": "cc8454476140e0aa"
  }
 ],
 "metadata": {
  "kernelspec": {
   "display_name": "Python 3",
   "language": "python",
   "name": "python3"
  },
  "language_info": {
   "codemirror_mode": {
    "name": "ipython",
    "version": 2
   },
   "file_extension": ".py",
   "mimetype": "text/x-python",
   "name": "python",
   "nbconvert_exporter": "python",
   "pygments_lexer": "ipython2",
   "version": "2.7.6"
  }
 },
 "nbformat": 4,
 "nbformat_minor": 5
}
