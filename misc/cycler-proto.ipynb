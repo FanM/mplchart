{
 "cells": [
  {
   "cell_type": "code",
   "execution_count": 15,
   "metadata": {},
   "outputs": [
    {
     "name": "stdout",
     "output_type": "stream",
     "text": [
      "Cycler(['A', 'B', 'C', 'D'], 0)\n",
      "A\n",
      "B\n",
      "C\n",
      "D\n",
      "A\n",
      "Cycler(['A', 'B', 'C', 'D'], 5)\n",
      "Cycler(['A', 'B', 'C', 'D'], 0)\n"
     ]
    }
   ],
   "source": [
    "class Cycler:\n",
    "    def __init__(self, values, counter: int =0):\n",
    "        self.values = list(values)\n",
    "        self.counter = counter\n",
    "\n",
    "    def next(self):\n",
    "        idx = self.counter % len(self.values)\n",
    "        self.counter += 1\n",
    "        return self.values[idx] \n",
    "\n",
    "    def copy(self, reset: bool = True):\n",
    "        counter = 0 if reset else self.counter\n",
    "        return self.__class__(self.values, counter)\n",
    "\n",
    "    def __repr__(self):\n",
    "        cname = self.__class__.__name__\n",
    "        return f\"{cname}({self.values!r}, {self.counter})\"\n",
    "\n",
    "\n",
    "cycler = Cycler(\"ABCD\")\n",
    "print(cycler)\n",
    "for i in range(5):\n",
    "    print(cycler.next())\n",
    "print(cycler)\n",
    "print(cycler.copy())\n"
   ]
  },
  {
   "cell_type": "code",
   "execution_count": 14,
   "metadata": {},
   "outputs": [
    {
     "name": "stdout",
     "output_type": "stream",
     "text": [
      "Cycler(['A', 'B', 'C', 'D'], 0)\n",
      "A\n",
      "B\n",
      "C\n",
      "D\n",
      "A\n",
      "Cycler(['A', 'B', 'C', 'D'], 5)\n",
      "Cycler(['A', 'B', 'C', 'D'], 0)\n"
     ]
    }
   ],
   "source": [
    "class Cycler(list):\n",
    "    def __init__(self, iterable, counter : int = 0):\n",
    "        super().__init__(iterable)\n",
    "        self.counter = counter\n",
    "\n",
    "    def __repr__(self):\n",
    "        cname = self.__class__.__name__\n",
    "        return f\"{cname}({super().__repr__()}, {self.counter})\"\n",
    "\n",
    "    def next(self):\n",
    "        idx = self.counter % len(self)\n",
    "        self.counter += 1\n",
    "        return self[idx] \n",
    "\n",
    "    def copy(self, reset: bool = True):\n",
    "        counter = 0 if reset else self.counter\n",
    "        return self.__class__(self, counter)\n",
    "\n",
    "\n",
    "cycler = Cycler(\"ABCD\")\n",
    "print(cycler)\n",
    "for i in range(5):\n",
    "    print(cycler.next())\n",
    "print(cycler)\n",
    "print(cycler.copy())"
   ]
  },
  {
   "cell_type": "code",
   "execution_count": null,
   "metadata": {},
   "outputs": [],
   "source": []
  }
 ],
 "metadata": {
  "kernelspec": {
   "display_name": ".venv",
   "language": "python",
   "name": "python3"
  },
  "language_info": {
   "codemirror_mode": {
    "name": "ipython",
    "version": 3
   },
   "file_extension": ".py",
   "mimetype": "text/x-python",
   "name": "python",
   "nbconvert_exporter": "python",
   "pygments_lexer": "ipython3",
   "version": "3.9.6"
  }
 },
 "nbformat": 4,
 "nbformat_minor": 2
}
