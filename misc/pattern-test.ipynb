{
 "cells": [
  {
   "cell_type": "code",
   "execution_count": 1,
   "metadata": {},
   "outputs": [],
   "source": [
    "import yfinance as yf\n",
    "\n",
    "ticker = \"AAPL\"\n",
    "prices = yf.Ticker(ticker).history(period=\"1y\")\n",
    "\n",
    "prices['high'] = prices['High']\n",
    "prices['low'] = prices['Low']\n",
    "prices['close'] = prices['Close']\n",
    "prices['open'] = prices['Open']"
   ]
  },
  {
   "cell_type": "code",
   "execution_count": 2,
   "metadata": {},
   "outputs": [
    {
     "name": "stdout",
     "output_type": "stream",
     "text": [
      "Pivot: time=2024-11-08 00:00:00-05:00, index=249, price=228.66000366210938, norm_price=0.9048834035369343\n",
      "Pivot: time=2024-11-04 00:00:00-05:00, index=245, price=219.46854635353304, norm_price=0.8028574523372206\n",
      "Pivot: time=2024-10-15 00:00:00-04:00, index=231, price=237.22900130875718, norm_price=1.0\n",
      "Pivot: time=2024-10-07 00:00:00-04:00, index=225, price=221.08676038639473, norm_price=0.8208197645587426\n",
      "Pivot: time=2024-09-20 00:00:00-04:00, index=214, price=232.83382873595048, norm_price=0.9512132138165854\n",
      "Pivot: time=2024-09-16 00:00:00-04:00, index=210, price=213.6849038037586, norm_price=0.7386585323259963\n",
      "Pivot: time=2024-08-29 00:00:00-04:00, index=199, price=232.66402541964027, norm_price=0.9493283826867873\n",
      "Pivot: time=2024-08-05 00:00:00-04:00, index=181, price=195.55824424838744, norm_price=0.5374510827211876\n",
      "Pivot: time=2024-08-02 00:00:00-04:00, index=180, price=225.09153987705304, norm_price=0.8652731546102062\n",
      "Pivot: time=2024-07-25 00:00:00-04:00, index=174, price=214.13627507494223, norm_price=0.7436687914982566\n",
      "Pivot: time=2024-07-15 00:00:00-04:00, index=166, price=236.69531224247876, norm_price=0.9940760063606958\n",
      "Pivot: time=2024-06-24 00:00:00-04:00, index=152, price=206.1243736003879, norm_price=0.654736009522859\n",
      "Pivot: time=2024-06-12 00:00:00-04:00, index=145, price=219.7037025197263, norm_price=0.8054677056116344\n",
      "Pivot: time=2024-05-23 00:00:00-04:00, index=132, price=186.20936473753514, norm_price=0.4336777318014998\n",
      "Pivot: time=2024-05-03 00:00:00-04:00, index=118, price=186.32578503963057, norm_price=0.4349700069719629\n",
      "Pivot: time=2024-04-19 00:00:00-04:00, index=108, price=163.48843957599198, norm_price=0.18147354655429596\n",
      "Pivot: time=2024-04-12 00:00:00-04:00, index=103, price=177.71695459263955, norm_price=0.3394112630661655\n",
      "Pivot: time=2024-04-10 00:00:00-04:00, index=101, price=166.5075272055357, norm_price=0.21498567382839817\n",
      "Pivot: time=2024-03-20 00:00:00-04:00, index=87, price=178.0258331298828, norm_price=0.3428398408759123\n",
      "Pivot: time=2024-03-07 00:00:00-05:00, index=78, price=167.88253026663398, norm_price=0.23024832375445212\n",
      "Pivot: time=2024-02-07 00:00:00-05:00, index=58, price=190.118606941087, norm_price=0.47707064990984926\n",
      "Pivot: time=2024-02-02 00:00:00-05:00, index=55, price=178.37613927772276, norm_price=0.34672826865668754\n",
      "Pivot: time=2024-01-24 00:00:00-05:00, index=48, price=195.42261254918643, norm_price=0.5359455594228413\n",
      "Pivot: time=2024-01-05 00:00:00-05:00, index=36, price=179.29163655398915, norm_price=0.3568903656230383\n",
      "Pivot: time=2023-12-14 00:00:00-05:00, index=22, price=198.64682869695653, norm_price=0.5717346305468276\n",
      "Pivot: time=2023-12-04 00:00:00-05:00, index=14, price=186.53614211824694, norm_price=0.4373049882830769\n",
      "Pivot: time=2023-11-22 00:00:00-05:00, index=7, price=191.98944739740554, norm_price=0.4978371367345997\n",
      "Pivot: time=2023-11-13 00:00:00-05:00, index=0, price=183.31195834215197, norm_price=0.40151627648741434\n"
     ]
    }
   ],
   "source": [
    "from mplchart.zigzag import Zigzag\n",
    "\n",
    "zigzag = Zigzag(backcandels=5, forwardcandels=5, pivot_limit=50, offset=0)\n",
    "zigzag.calculate(prices)\n",
    "\n",
    "for pivot in zigzag.zigzag_pivots:\n",
    "    print(f\"Pivot: time={pivot.point.time}, index={pivot.point.index}, price={pivot.point.price}, norm_price={pivot.point.norm_price}\")"
   ]
  },
  {
   "cell_type": "code",
   "execution_count": 3,
   "metadata": {},
   "outputs": [
    {
     "name": "stdout",
     "output_type": "stream",
     "text": [
      "Points: 214, 231, 249 on the same line, cos_diff=3.324374922153428e-05\n",
      "Chose points: 214, 231\n",
      "Points: 210, 225, 245 on the same line, cos_diff=2.0323278750677964e-05\n",
      "Chose points: 210, 245\n",
      "Points: 199, 214, 231 on the same line, cos_diff=3.765170842440213e-06\n",
      "Chose points: 199, 231\n",
      "Points: 181, 210, 225 on the same line, cos_diff=1.0668452573581177e-06\n",
      "Chose points: 210, 225\n",
      "Points: 180, 199, 214 on the same line, cos_diff=9.237570211428903e-06\n",
      "Chose points: 180, 214\n",
      "Points: 174, 181, 210 on the same line, cos_diff=0.000662015020259088\n",
      "Chose points: 174, 181\n",
      "Points: 166, 180, 199 on the same line, cos_diff=9.280354467133822e-05\n",
      "Chose points: 166, 199\n",
      "Points: 152, 174, 181 on the same line, cos_diff=0.0005608559040981564\n",
      "Chose points: 152, 181\n",
      "Points: 145, 166, 180 on the same line, cos_diff=0.00016527074247196794\n",
      "Chose points: 145, 166\n",
      "Points: 132, 152, 174 on the same line, cos_diff=2.457055684990106e-05\n",
      "Points: 118, 145, 166 on the same line, cos_diff=1.1234583027430745e-05\n",
      "Chose points: 118, 166\n",
      "Points: 108, 132, 152 on the same line, cos_diff=1.4815458648786972e-07\n",
      "Chose points: 132, 152\n",
      "Points: 103, 118, 145 on the same line, cos_diff=2.7016854723171946e-05\n",
      "Chose points: 103, 145\n",
      "Points: 101, 108, 132 on the same line, cos_diff=0.00011697435538116085\n",
      "Chose points: 101, 108\n",
      "Points: 87, 103, 118 on the same line, cos_diff=2.1679604302549116e-05\n",
      "Chose points: 87, 118\n",
      "Points: 78, 101, 108 on the same line, cos_diff=8.502920453179463e-06\n",
      "Chose points: 78, 108\n",
      "Points: 58, 87, 103 on the same line, cos_diff=9.74313630452972e-06\n",
      "Points: 55, 78, 101 on the same line, cos_diff=9.683103156965522e-06\n",
      "Chose points: 55, 101\n",
      "Points: 48, 58, 87 on the same line, cos_diff=7.922979243790707e-07\n",
      "Chose points: 58, 87\n",
      "Points: 36, 55, 78 on the same line, cos_diff=1.0257963658388825e-05\n",
      "Chose points: 36, 78\n",
      "Points: 22, 48, 58 on the same line, cos_diff=1.0174187158762393e-05\n",
      "Chose points: 22, 48\n",
      "Points: 14, 36, 55 on the same line, cos_diff=4.868277766467699e-06\n",
      "Chose points: 14, 55\n",
      "Points: 7, 22, 48 on the same line, cos_diff=1.9863596693481256e-05\n",
      "Chose points: 7, 22\n",
      "Points: 0, 14, 36 on the same line, cos_diff=1.929145833567958e-05\n",
      "Chose points: 0, 36\n",
      "Ascending Triangle (Contracting): 199 - 231\n",
      "Ascending Triangle (Contracting): 181 - 225\n",
      "Rising Wedge (Contracting): 180 - 214\n",
      "Descending Triangle (Expanding): 174 - 210\n",
      "Descending Triangle (Expanding): 166 - 199\n",
      "Descending Channel: 152 - 181\n",
      "Rising Wedge (Expanding): 145 - 180\n",
      "Ascending Channel: 118 - 166\n",
      "Rising Wedge (Expanding): 108 - 152\n",
      "Ascending Channel: 103 - 145\n",
      "Diverging Triangle: 101 - 132\n",
      "Diverging Triangle: 87 - 118\n",
      "Ranging Channel: 78 - 108\n",
      "Falling Wedge (Contracting): 55 - 101\n",
      "Descending Channel: 48 - 87\n",
      "Falling Wedge (Contracting): 36 - 78\n",
      "Ranging Channel: 22 - 58\n",
      "Descending Channel: 14 - 55\n",
      "Diverging Triangle: 7 - 48\n",
      "Ascending Triangle (Expanding): 0 - 36\n"
     ]
    }
   ],
   "source": [
    "from mplchart.primitives import ScanProperties\n",
    "from mplchart.trendlines import find_pattern, TrendLine\n",
    "from typing import List\n",
    "\n",
    "scan_props = ScanProperties(offset=0, number_of_pivots=5, error_ratio=0.02)\n",
    "\n",
    "# Initialize pattern storage\n",
    "patterns: List[TrendLine] = []\n",
    "\n",
    "# Find patterns\n",
    "for i in range(0, len(zigzag.zigzag_pivots)):\n",
    "    find_pattern(zigzag, i, scan_props, patterns, prices)\n",
    "\n",
    "for pattern in patterns:\n",
    "    print(f\"{pattern.pattern_name}: {pattern.pivots[0].point.index} - {pattern.pivots[-1].point.index}\")\n"
   ]
  }
 ],
 "metadata": {
  "kernelspec": {
   "display_name": ".venv",
   "language": "python",
   "name": "python3"
  },
  "language_info": {
   "codemirror_mode": {
    "name": "ipython",
    "version": 3
   },
   "file_extension": ".py",
   "mimetype": "text/x-python",
   "name": "python",
   "nbconvert_exporter": "python",
   "pygments_lexer": "ipython3",
   "version": "3.10.15"
  }
 },
 "nbformat": 4,
 "nbformat_minor": 2
}
