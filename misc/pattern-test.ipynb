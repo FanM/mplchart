{
 "cells": [
  {
   "cell_type": "code",
   "execution_count": null,
   "metadata": {},
   "outputs": [],
   "source": [
    "import logging\n",
    "\n",
    "logging.basicConfig(level=logging.DEBUG)"
   ]
  },
  {
   "cell_type": "code",
   "execution_count": 1,
   "metadata": {},
   "outputs": [],
   "source": [
    "import yfinance as yf\n",
    "\n",
    "ticker = \"AAPL\"\n",
    "prices = yf.Ticker(ticker).history(period=\"1y\")\n",
    "\n",
    "prices['high'] = prices['High']\n",
    "prices['low'] = prices['Low']\n",
    "prices['close'] = prices['Close']\n",
    "prices['open'] = prices['Open']"
   ]
  },
  {
   "cell_type": "code",
   "execution_count": 2,
   "metadata": {},
   "outputs": [
    {
     "name": "stdout",
     "output_type": "stream",
     "text": [
      "Pivot: time=2024-11-22 00:00:00-05:00, index=251, price=230.72000122070312, direction=2\n",
      "Pivot: time=2024-11-21 00:00:00-05:00, index=250, price=225.7100067138672, direction=-1\n",
      "Pivot: time=2024-11-19 00:00:00-05:00, index=248, price=230.16000366210938, direction=2\n",
      "Pivot: time=2024-11-11 00:00:00-05:00, index=242, price=221.5, direction=-1\n",
      "Pivot: time=2024-11-08 00:00:00-05:00, index=241, price=228.66000366210938, direction=1\n",
      "Pivot: time=2024-11-04 00:00:00-05:00, index=237, price=219.46854635353304, direction=-2\n",
      "Pivot: time=2024-10-28 00:00:00-04:00, index=232, price=234.472033847566, direction=1\n",
      "Pivot: time=2024-10-23 00:00:00-04:00, index=229, price=227.50969037853835, direction=-1\n",
      "Pivot: time=2024-10-15 00:00:00-04:00, index=223, price=237.22900130875718, direction=2\n",
      "Pivot: time=2024-10-07 00:00:00-04:00, index=217, price=221.08676038639473, direction=-2\n",
      "Pivot: time=2024-10-04 00:00:00-04:00, index=216, price=227.74942888869526, direction=1\n",
      "Pivot: time=2024-10-02 00:00:00-04:00, index=214, price=222.77491454853467, direction=-2\n",
      "Pivot: time=2024-09-30 00:00:00-04:00, index=212, price=232.7439422607422, direction=1\n",
      "Pivot: time=2024-09-25 00:00:00-04:00, index=209, price=223.77380760174057, direction=-1\n",
      "Pivot: time=2024-09-20 00:00:00-04:00, index=206, price=232.83382873595048, direction=2\n",
      "Pivot: time=2024-09-16 00:00:00-04:00, index=202, price=213.6849038037586, direction=-2\n",
      "Pivot: time=2024-09-13 00:00:00-04:00, index=201, price=223.7937787761964, direction=1\n",
      "Pivot: time=2024-09-09 00:00:00-04:00, index=197, price=216.47183996524672, direction=-2\n",
      "Pivot: time=2024-08-29 00:00:00-04:00, index=191, price=232.66402541964027, direction=2\n",
      "Pivot: time=2024-08-26 00:00:00-04:00, index=188, price=223.64395069142014, direction=-1\n",
      "Pivot: time=2024-08-22 00:00:00-04:00, index=186, price=228.08905941841815, direction=2\n",
      "Pivot: time=2024-08-05 00:00:00-04:00, index=173, price=195.55824424838744, direction=-2\n",
      "Pivot: time=2024-08-02 00:00:00-04:00, index=172, price=225.09153987705304, direction=1\n",
      "Pivot: time=2024-07-25 00:00:00-04:00, index=166, price=214.13627507494223, direction=-2\n",
      "Pivot: time=2024-07-15 00:00:00-04:00, index=158, price=236.69531224247876, direction=2\n",
      "Pivot: time=2024-07-11 00:00:00-04:00, index=156, price=225.26115227596378, direction=-1\n",
      "Pivot: time=2024-07-10 00:00:00-04:00, index=155, price=232.55467572482934, direction=2\n",
      "Pivot: time=2024-06-24 00:00:00-04:00, index=144, price=206.1243736003879, direction=-1\n",
      "Pivot: time=2024-06-12 00:00:00-04:00, index=137, price=219.7037025197263, direction=2\n",
      "Pivot: time=2024-06-10 00:00:00-04:00, index=135, price=191.7169079607164, direction=-1\n",
      "Pivot: time=2024-05-28 00:00:00-04:00, index=126, price=192.56499305086223, direction=2\n",
      "Pivot: time=2024-05-23 00:00:00-04:00, index=124, price=186.20936473753514, direction=-2\n",
      "Pivot: time=2024-05-22 00:00:00-04:00, index=123, price=192.38541249371693, direction=2\n",
      "Pivot: time=2024-05-20 00:00:00-04:00, index=121, price=188.58399727816297, direction=-1\n",
      "Pivot: time=2024-05-03 00:00:00-04:00, index=110, price=186.32578503963057, direction=2\n",
      "Pivot: time=2024-05-01 00:00:00-04:00, index=108, price=168.50030355143892, direction=-1\n",
      "Pivot: time=2024-04-29 00:00:00-04:00, index=106, price=175.39534310552878, direction=1\n",
      "Pivot: time=2024-04-19 00:00:00-04:00, index=100, price=163.48843957599198, direction=-2\n",
      "Pivot: time=2024-04-12 00:00:00-04:00, index=95, price=177.71695459263955, direction=2\n",
      "Pivot: time=2024-04-10 00:00:00-04:00, index=93, price=166.50751200767976, direction=-2\n",
      "Pivot: time=2024-04-04 00:00:00-04:00, index=89, price=171.30016373186453, direction=1\n",
      "Pivot: time=2024-04-02 00:00:00-04:00, index=87, price=167.62346088712874, direction=-2\n",
      "Pivot: time=2024-03-27 00:00:00-04:00, index=84, price=172.97412838637234, direction=1\n",
      "Pivot: time=2024-03-25 00:00:00-04:00, index=82, price=168.83907761478048, direction=-2\n",
      "Pivot: time=2024-03-20 00:00:00-04:00, index=79, price=178.0258331298828, direction=2\n",
      "Pivot: time=2024-03-15 00:00:00-04:00, index=76, price=169.6760486454164, direction=-1\n",
      "Pivot: time=2024-03-11 00:00:00-04:00, index=72, price=173.75131021022753, direction=1\n",
      "Pivot: time=2024-03-07 00:00:00-05:00, index=70, price=167.8825454793763, direction=-2\n",
      "Pivot: time=2024-02-23 00:00:00-05:00, index=61, price=184.37285727847149, direction=1\n",
      "Pivot: time=2024-02-20 00:00:00-05:00, index=58, price=179.3510375405212, direction=-1\n",
      "Pivot: time=2024-02-07 00:00:00-05:00, index=50, price=190.118606941087, direction=1\n",
      "Pivot: time=2024-02-02 00:00:00-05:00, index=47, price=178.37613927772276, direction=-2\n",
      "Pivot: time=2024-01-24 00:00:00-05:00, index=40, price=195.42261254918643, direction=2\n",
      "Pivot: time=2024-01-17 00:00:00-05:00, index=35, price=179.42101140332082, direction=-1\n",
      "Pivot: time=2024-01-11 00:00:00-05:00, index=32, price=186.13810009590225, direction=1\n",
      "Pivot: time=2024-01-05 00:00:00-05:00, index=28, price=179.29163655398915, direction=-2\n",
      "Pivot: time=2023-12-28 00:00:00-05:00, index=23, price=193.71099759457724, direction=1\n",
      "Pivot: time=2023-12-27 00:00:00-05:00, index=22, price=190.15840400250286, direction=-2\n",
      "Pivot: time=2023-12-20 00:00:00-05:00, index=18, price=196.71628487042167, direction=1\n",
      "Pivot: time=2023-12-18 00:00:00-05:00, index=16, price=193.4423254921639, direction=-1\n",
      "Pivot: time=2023-12-14 00:00:00-05:00, index=14, price=198.64681332186495, direction=2\n",
      "Pivot: time=2023-12-11 00:00:00-05:00, index=11, price=190.48680586341095, direction=-1\n",
      "Pivot: time=2023-12-08 00:00:00-05:00, index=10, price=195.03452363413496, direction=2\n",
      "Pivot: time=2023-12-04 00:00:00-05:00, index=6, price=186.5361270189487, direction=-2\n",
      "Pivot: time=2023-11-29 00:00:00-05:00, index=3, price=191.15353347560767, direction=1\n",
      "Pivot: time=2023-11-27 00:00:00-05:00, index=1, price=187.97907036225195, direction=-1\n"
     ]
    }
   ],
   "source": [
    "from auto_chart_patterns.zigzag import Zigzag\n",
    "\n",
    "zigzag = Zigzag(backcandels=2, forwardcandels=2, pivot_limit=100, offset=0)\n",
    "zigzag.calculate(prices)\n",
    "\n",
    "for pivot in zigzag.zigzag_pivots:\n",
    "    print(f\"Pivot: time={pivot.point.time}, index={pivot.point.index}, price={pivot.point.price}, direction={pivot.direction}\")\n"
   ]
  },
  {
   "cell_type": "code",
   "execution_count": 3,
   "metadata": {},
   "outputs": [
    {
     "name": "stdout",
     "output_type": "stream",
     "text": [
      "Rising Wedge (Contracting): 135 - 156\n",
      "Descending Triangle (Contracting): 40 - 61\n"
     ]
    }
   ],
   "source": [
    "from auto_chart_patterns.trendline_patterns import find_trend_lines, TrendLinePattern, TrendLineProperties\n",
    "from typing import List\n",
    "\n",
    "scan_props = TrendLineProperties(offset=0, number_of_pivots=5)\n",
    "\n",
    "# Initialize pattern storage\n",
    "patterns: List[TrendLinePattern] = []\n",
    "\n",
    "# Find patterns\n",
    "for i in range(0, len(zigzag.zigzag_pivots)):\n",
    "    find_trend_lines(zigzag, i, scan_props, patterns, prices)\n",
    "\n",
    "for pattern in patterns:\n",
    "    print(f\"{pattern.pattern_name}: {pattern.pivots[0].point.index} - {pattern.pivots[-1].point.index}\")\n"
   ]
  },
  {
   "cell_type": "code",
   "execution_count": 4,
   "metadata": {},
   "outputs": [
    {
     "name": "stdout",
     "output_type": "stream",
     "text": [
      "Double Bottoms: 206 - 216\n",
      "Double Bottoms: 84 - 95\n",
      "Double Bottoms: 40 - 61\n",
      "Double Bottoms: 23 - 40\n"
     ]
    }
   ],
   "source": [
    "from auto_chart_patterns.reversal_patterns import find_reversal_patterns, ReversalPatternProperties\n",
    "\n",
    "scan_props = ReversalPatternProperties(min_periods_lapsed=8, flat_ratio=0.1)\n",
    "patterns = []\n",
    "for i in range(0, len(zigzag.zigzag_pivots)):\n",
    "    find_reversal_patterns(zigzag, i, scan_props, patterns, prices)\n",
    "\n",
    "for pattern in patterns:\n",
    "    print(f\"{pattern.pattern_name}: {pattern.pivots[0].point.index} - {pattern.pivots[-1].point.index}\")"
   ]
  },
  {
   "cell_type": "code",
   "execution_count": 5,
   "metadata": {},
   "outputs": [
    {
     "name": "stdout",
     "output_type": "stream",
     "text": [
      "Hidden Bearish: 63 - 41.97444688212273\n",
      "Bearish: 122 - 74.12592661468999\n",
      "Bearish: 155 - 78.76855735159351\n",
      "Bullish: 74 - 32.136466020598775\n",
      "Bullish: 83 - 37.371239793690506\n",
      "Bullish: 87 - 38.376958765443284\n",
      "Hidden Bullish: 115 - 64.13725062273029\n"
     ]
    }
   ],
   "source": [
    "from auto_chart_patterns.rsi_div_patterns import RsiDivergenceProperties, find_rsi_divergences\n",
    "\n",
    "patterns = []\n",
    "scan_props = RsiDivergenceProperties(min_periods_lapsed=5, min_change_pct=0.005)\n",
    "find_rsi_divergences(2, 2, scan_props, patterns, prices)\n",
    "\n",
    "for pattern in patterns:\n",
    "    print(f\"{pattern.pattern_name}: {pattern.divergence_line.p1.index} - {pattern.divergence_line.p1.price}\")\n"
   ]
  }
 ],
 "metadata": {
  "kernelspec": {
   "display_name": ".venv",
   "language": "python",
   "name": "python3"
  },
  "language_info": {
   "codemirror_mode": {
    "name": "ipython",
    "version": 3
   },
   "file_extension": ".py",
   "mimetype": "text/x-python",
   "name": "python",
   "nbconvert_exporter": "python",
   "pygments_lexer": "ipython3",
   "version": "3.10.15"
  }
 },
 "nbformat": 4,
 "nbformat_minor": 2
}
