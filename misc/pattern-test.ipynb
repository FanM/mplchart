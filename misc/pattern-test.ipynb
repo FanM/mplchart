{
 "cells": [
  {
   "cell_type": "code",
   "execution_count": 1,
   "metadata": {},
   "outputs": [],
   "source": [
    "import yfinance as yf\n",
    "\n",
    "ticker = \"AAPL\"\n",
    "prices = yf.Ticker(ticker).history(period=\"1y\")\n",
    "\n",
    "prices['high'] = prices['High']\n",
    "prices['low'] = prices['Low']\n",
    "prices['close'] = prices['Close']\n",
    "prices['open'] = prices['Open']"
   ]
  },
  {
   "cell_type": "code",
   "execution_count": 2,
   "metadata": {},
   "outputs": [
    {
     "name": "stdout",
     "output_type": "stream",
     "text": [
      "Pivot: time=2024-11-08 00:00:00-05:00, index=249, price=228.66000366210938, direction=1\n",
      "Pivot: time=2024-11-04 00:00:00-05:00, index=245, price=219.46854635353304, direction=-1\n",
      "Pivot: time=2024-10-15 00:00:00-04:00, index=231, price=237.22900130875718, direction=2\n",
      "Pivot: time=2024-10-07 00:00:00-04:00, index=225, price=221.08676038639473, direction=-1\n",
      "Pivot: time=2024-09-20 00:00:00-04:00, index=214, price=232.83382873595048, direction=2\n",
      "Pivot: time=2024-09-16 00:00:00-04:00, index=210, price=213.6849038037586, direction=-1\n",
      "Pivot: time=2024-08-29 00:00:00-04:00, index=199, price=232.66402541964027, direction=2\n",
      "Pivot: time=2024-08-05 00:00:00-04:00, index=181, price=195.55824424838744, direction=-2\n",
      "Pivot: time=2024-08-02 00:00:00-04:00, index=180, price=225.0915242198944, direction=1\n",
      "Pivot: time=2024-07-25 00:00:00-04:00, index=174, price=214.13627507494223, direction=-1\n",
      "Pivot: time=2024-07-15 00:00:00-04:00, index=166, price=236.69531224247876, direction=2\n",
      "Pivot: time=2024-06-24 00:00:00-04:00, index=152, price=206.1243584552299, direction=-1\n",
      "Pivot: time=2024-06-12 00:00:00-04:00, index=145, price=219.7037025197263, direction=2\n",
      "Pivot: time=2024-05-23 00:00:00-04:00, index=132, price=186.20936473753514, direction=-1\n",
      "Pivot: time=2024-05-03 00:00:00-04:00, index=118, price=186.32580059963428, direction=2\n",
      "Pivot: time=2024-04-19 00:00:00-04:00, index=108, price=163.48843957599198, direction=-2\n",
      "Pivot: time=2024-04-12 00:00:00-04:00, index=103, price=177.71695459263955, direction=1\n",
      "Pivot: time=2024-04-10 00:00:00-04:00, index=101, price=166.50751200767976, direction=-2\n",
      "Pivot: time=2024-03-20 00:00:00-04:00, index=87, price=178.02581787109375, direction=1\n",
      "Pivot: time=2024-03-07 00:00:00-05:00, index=78, price=167.8825454793763, direction=-2\n",
      "Pivot: time=2024-02-07 00:00:00-05:00, index=58, price=190.11859155018027, direction=1\n",
      "Pivot: time=2024-02-02 00:00:00-05:00, index=55, price=178.3761245608121, direction=-2\n",
      "Pivot: time=2024-01-24 00:00:00-05:00, index=48, price=195.42261254918643, direction=1\n",
      "Pivot: time=2024-01-05 00:00:00-05:00, index=36, price=179.29162138026078, direction=-2\n",
      "Pivot: time=2023-12-14 00:00:00-05:00, index=22, price=198.64681332186495, direction=2\n",
      "Pivot: time=2023-12-04 00:00:00-05:00, index=14, price=186.53615721754525, direction=-1\n",
      "Pivot: time=2023-11-22 00:00:00-05:00, index=7, price=191.98943200940647, direction=1\n",
      "Pivot: time=2023-11-13 00:00:00-05:00, index=0, price=183.31194313207843, direction=-1\n"
     ]
    }
   ],
   "source": [
    "from mplchart.zigzag import Zigzag\n",
    "\n",
    "zigzag = Zigzag(backcandels=5, forwardcandels=5, pivot_limit=50, offset=0)\n",
    "zigzag.calculate(prices)\n",
    "\n",
    "for pivot in zigzag.zigzag_pivots:\n",
    "    print(f\"Pivot: time={pivot.point.time}, index={pivot.point.index}, price={pivot.point.price}, direction={pivot.direction}\")\n"
   ]
  },
  {
   "cell_type": "code",
   "execution_count": 3,
   "metadata": {},
   "outputs": [
    {
     "name": "stdout",
     "output_type": "stream",
     "text": [
      "Points: 214, 231, 249 on the same line, cos_diff=3.324374922153428e-05\n",
      "Points: 210, 225, 245 on the same line, cos_diff=2.0323278750677964e-05\n",
      "Points: 199, 214, 231 on the same line, cos_diff=3.765170842440213e-06\n",
      "Points: 181, 210, 225 on the same line, cos_diff=1.0668452573581177e-06\n",
      "Points: 180, 199, 214 on the same line, cos_diff=9.237609527756874e-06\n",
      "Points: 174, 181, 210 on the same line, cos_diff=0.000662015020259088\n",
      "Points: 166, 180, 199 on the same line, cos_diff=9.280383839205264e-05\n",
      "Points: 152, 174, 181 on the same line, cos_diff=0.0005608561599862449\n",
      "Points: 145, 166, 180 on the same line, cos_diff=0.00016527096814000775\n",
      "Points: 132, 152, 174 on the same line, cos_diff=2.4570444367433275e-05\n",
      "Points: 118, 145, 166 on the same line, cos_diff=1.1234552710570611e-05\n",
      "Points: 108, 132, 152 on the same line, cos_diff=1.4815001148082985e-07\n",
      "Points: 103, 118, 145 on the same line, cos_diff=2.7016723073813864e-05\n",
      "Points: 101, 108, 132 on the same line, cos_diff=0.00011697398678756077\n",
      "Points: 87, 103, 118 on the same line, cos_diff=2.1679610414215844e-05\n",
      "Points: 78, 101, 108 on the same line, cos_diff=8.502760550865851e-06\n",
      "Points: 58, 87, 103 on the same line, cos_diff=9.743182810550977e-06\n",
      "Points: 55, 78, 101 on the same line, cos_diff=9.682975006586325e-06\n",
      "Points: 48, 58, 87 on the same line, cos_diff=7.9231949268177e-07\n",
      "Points: 36, 55, 78 on the same line, cos_diff=1.0257899443644192e-05\n",
      "Points: 22, 48, 58 on the same line, cos_diff=1.0174293830655934e-05\n",
      "Points: 14, 36, 55 on the same line, cos_diff=4.868326259566125e-06\n",
      "Points: 7, 22, 48 on the same line, cos_diff=1.986355538119433e-05\n",
      "Points: 0, 14, 36 on the same line, cos_diff=1.9291702478940742e-05\n",
      "Ascending Channel: 180 - 214\n",
      "Diverging Triangle: 174 - 210\n",
      "Descending Triangle (Expanding): 166 - 199\n",
      "Descending Channel: 152 - 181\n",
      "Rising Wedge (Expanding): 145 - 180\n",
      "Ascending Channel: 132 - 174\n",
      "Ascending Channel: 118 - 166\n",
      "Rising Wedge (Expanding): 108 - 152\n",
      "Ascending Channel: 103 - 145\n",
      "Diverging Triangle: 101 - 132\n",
      "Diverging Triangle: 87 - 118\n",
      "Ranging Channel: 78 - 108\n",
      "Falling Wedge (Contracting): 58 - 103\n",
      "Descending Channel: 55 - 101\n",
      "Descending Channel: 48 - 87\n",
      "Falling Wedge (Contracting): 36 - 78\n",
      "Ranging Channel: 22 - 58\n",
      "Falling Wedge (Expanding): 14 - 55\n",
      "Diverging Triangle: 7 - 48\n",
      "Diverging Triangle: 0 - 36\n"
     ]
    }
   ],
   "source": [
    "from mplchart.trendline_patterns import find_trend_lines, TrendLinePattern, TrendLineProperties\n",
    "from typing import List\n",
    "\n",
    "scan_props = TrendLineProperties(offset=0, number_of_pivots=5, error_ratio=0.02)\n",
    "\n",
    "# Initialize pattern storage\n",
    "patterns: List[TrendLinePattern] = []\n",
    "\n",
    "# Find patterns\n",
    "for i in range(0, len(zigzag.zigzag_pivots)):\n",
    "    find_trend_lines(zigzag, i, scan_props, patterns, prices)\n",
    "\n",
    "for pattern in patterns:\n",
    "    print(f\"{pattern.pattern_name}: {pattern.pivots[0].point.index} - {pattern.pivots[-1].point.index}\")\n"
   ]
  },
  {
   "cell_type": "code",
   "execution_count": 5,
   "metadata": {},
   "outputs": [
    {
     "name": "stdout",
     "output_type": "stream",
     "text": [
      "Support line found: 169 - 190\n",
      "Support line found: 92 - 144\n",
      "Support line found: 48 - 87\n",
      "Double Bottoms: 166 - 199\n",
      "Triple Bottoms: 87 - 145\n",
      "Triple Bottoms: 48 - 103\n"
     ]
    }
   ],
   "source": [
    "from mplchart.reversal_patterns import find_reversal_patterns, ReversalPatternProperties\n",
    "\n",
    "scan_props = ReversalPatternProperties(min_periods_lapsed=8, flat_ratio=0.1)\n",
    "patterns = []\n",
    "for i in range(0, len(zigzag.zigzag_pivots)):\n",
    "    find_reversal_patterns(zigzag, i, scan_props, patterns, prices)\n",
    "\n",
    "for pattern in patterns:\n",
    "    print(f\"{pattern.pattern_name}: {pattern.pivots[0].point.index} - {pattern.pivots[-1].point.index}\")"
   ]
  }
 ],
 "metadata": {
  "kernelspec": {
   "display_name": ".venv",
   "language": "python",
   "name": "python3"
  },
  "language_info": {
   "codemirror_mode": {
    "name": "ipython",
    "version": 3
   },
   "file_extension": ".py",
   "mimetype": "text/x-python",
   "name": "python",
   "nbconvert_exporter": "python",
   "pygments_lexer": "ipython3",
   "version": "3.10.15"
  }
 },
 "nbformat": 4,
 "nbformat_minor": 2
}
