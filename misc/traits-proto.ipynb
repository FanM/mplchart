{
 "cells": [
  {
   "cell_type": "markdown",
   "metadata": {
    "collapsed": false,
    "pycharm": {
     "name": "#%% md\n"
    }
   },
   "source": [
    "# Traits Prototype"
   ]
  },
  {
   "cell_type": "code",
   "execution_count": 2,
   "metadata": {
    "ExecuteTime": {
     "end_time": "2024-03-14T22:13:54.627210Z",
     "start_time": "2024-03-14T22:13:54.617547Z"
    },
    "collapsed": false,
    "pycharm": {
     "name": "#%%\n"
    }
   },
   "outputs": [],
   "source": [
    "import logging\n",
    "import yfinance as yf\n",
    "\n",
    "from mplchart.chart import Chart\n",
    "\n",
    "from mplchart.library import get_series, calc_ema\n",
    "from mplchart.primitives import Candlesticks, OHLC, Volume\n",
    "\n",
    "from dataclasses import dataclass\n",
    "\n",
    "logging.basicConfig(level=logging.INFO)"
   ]
  },
  {
   "cell_type": "code",
   "execution_count": 3,
   "metadata": {
    "ExecuteTime": {
     "end_time": "2024-03-14T22:13:57.079343Z",
     "start_time": "2024-03-14T22:13:56.838036Z"
    },
    "pycharm": {
     "name": "#%%\n"
    }
   },
   "outputs": [
    {
     "data": {
      "text/html": [
       "<div>\n",
       "<style scoped>\n",
       "    .dataframe tbody tr th:only-of-type {\n",
       "        vertical-align: middle;\n",
       "    }\n",
       "\n",
       "    .dataframe tbody tr th {\n",
       "        vertical-align: top;\n",
       "    }\n",
       "\n",
       "    .dataframe thead th {\n",
       "        text-align: right;\n",
       "    }\n",
       "</style>\n",
       "<table border=\"1\" class=\"dataframe\">\n",
       "  <thead>\n",
       "    <tr style=\"text-align: right;\">\n",
       "      <th></th>\n",
       "      <th>Open</th>\n",
       "      <th>High</th>\n",
       "      <th>Low</th>\n",
       "      <th>Close</th>\n",
       "      <th>Volume</th>\n",
       "      <th>Dividends</th>\n",
       "      <th>Stock Splits</th>\n",
       "    </tr>\n",
       "    <tr>\n",
       "      <th>Date</th>\n",
       "      <th></th>\n",
       "      <th></th>\n",
       "      <th></th>\n",
       "      <th></th>\n",
       "      <th></th>\n",
       "      <th></th>\n",
       "      <th></th>\n",
       "    </tr>\n",
       "  </thead>\n",
       "  <tbody>\n",
       "    <tr>\n",
       "      <th>2019-09-17 00:00:00-04:00</th>\n",
       "      <td>53.210740</td>\n",
       "      <td>53.418783</td>\n",
       "      <td>53.007532</td>\n",
       "      <td>53.389751</td>\n",
       "      <td>73274800</td>\n",
       "      <td>0.0</td>\n",
       "      <td>0.0</td>\n",
       "    </tr>\n",
       "    <tr>\n",
       "      <th>2019-09-18 00:00:00-04:00</th>\n",
       "      <td>53.476841</td>\n",
       "      <td>53.909864</td>\n",
       "      <td>53.084947</td>\n",
       "      <td>53.890511</td>\n",
       "      <td>101360000</td>\n",
       "      <td>0.0</td>\n",
       "      <td>0.0</td>\n",
       "    </tr>\n",
       "    <tr>\n",
       "      <th>2019-09-19 00:00:00-04:00</th>\n",
       "      <td>53.706656</td>\n",
       "      <td>54.130000</td>\n",
       "      <td>53.309922</td>\n",
       "      <td>53.452652</td>\n",
       "      <td>88242400</td>\n",
       "      <td>0.0</td>\n",
       "      <td>0.0</td>\n",
       "    </tr>\n",
       "    <tr>\n",
       "      <th>2019-09-20 00:00:00-04:00</th>\n",
       "      <td>53.554257</td>\n",
       "      <td>53.839710</td>\n",
       "      <td>52.608384</td>\n",
       "      <td>52.671280</td>\n",
       "      <td>221652400</td>\n",
       "      <td>0.0</td>\n",
       "      <td>0.0</td>\n",
       "    </tr>\n",
       "    <tr>\n",
       "      <th>2019-09-23 00:00:00-04:00</th>\n",
       "      <td>52.966413</td>\n",
       "      <td>53.181713</td>\n",
       "      <td>52.651928</td>\n",
       "      <td>52.910774</td>\n",
       "      <td>76662000</td>\n",
       "      <td>0.0</td>\n",
       "      <td>0.0</td>\n",
       "    </tr>\n",
       "    <tr>\n",
       "      <th>...</th>\n",
       "      <td>...</td>\n",
       "      <td>...</td>\n",
       "      <td>...</td>\n",
       "      <td>...</td>\n",
       "      <td>...</td>\n",
       "      <td>...</td>\n",
       "      <td>...</td>\n",
       "    </tr>\n",
       "    <tr>\n",
       "      <th>2024-09-10 00:00:00-04:00</th>\n",
       "      <td>218.919998</td>\n",
       "      <td>221.479996</td>\n",
       "      <td>216.729996</td>\n",
       "      <td>220.110001</td>\n",
       "      <td>51591000</td>\n",
       "      <td>0.0</td>\n",
       "      <td>0.0</td>\n",
       "    </tr>\n",
       "    <tr>\n",
       "      <th>2024-09-11 00:00:00-04:00</th>\n",
       "      <td>221.460007</td>\n",
       "      <td>223.089996</td>\n",
       "      <td>217.889999</td>\n",
       "      <td>222.660004</td>\n",
       "      <td>44587100</td>\n",
       "      <td>0.0</td>\n",
       "      <td>0.0</td>\n",
       "    </tr>\n",
       "    <tr>\n",
       "      <th>2024-09-12 00:00:00-04:00</th>\n",
       "      <td>222.500000</td>\n",
       "      <td>223.550003</td>\n",
       "      <td>219.820007</td>\n",
       "      <td>222.770004</td>\n",
       "      <td>37498200</td>\n",
       "      <td>0.0</td>\n",
       "      <td>0.0</td>\n",
       "    </tr>\n",
       "    <tr>\n",
       "      <th>2024-09-13 00:00:00-04:00</th>\n",
       "      <td>223.580002</td>\n",
       "      <td>224.039993</td>\n",
       "      <td>221.910004</td>\n",
       "      <td>222.500000</td>\n",
       "      <td>36722900</td>\n",
       "      <td>0.0</td>\n",
       "      <td>0.0</td>\n",
       "    </tr>\n",
       "    <tr>\n",
       "      <th>2024-09-16 00:00:00-04:00</th>\n",
       "      <td>216.740005</td>\n",
       "      <td>217.199997</td>\n",
       "      <td>213.919998</td>\n",
       "      <td>216.320007</td>\n",
       "      <td>59138791</td>\n",
       "      <td>0.0</td>\n",
       "      <td>0.0</td>\n",
       "    </tr>\n",
       "  </tbody>\n",
       "</table>\n",
       "<p>1258 rows × 7 columns</p>\n",
       "</div>"
      ],
      "text/plain": [
       "                                 Open        High         Low       Close  \\\n",
       "Date                                                                        \n",
       "2019-09-17 00:00:00-04:00   53.210740   53.418783   53.007532   53.389751   \n",
       "2019-09-18 00:00:00-04:00   53.476841   53.909864   53.084947   53.890511   \n",
       "2019-09-19 00:00:00-04:00   53.706656   54.130000   53.309922   53.452652   \n",
       "2019-09-20 00:00:00-04:00   53.554257   53.839710   52.608384   52.671280   \n",
       "2019-09-23 00:00:00-04:00   52.966413   53.181713   52.651928   52.910774   \n",
       "...                               ...         ...         ...         ...   \n",
       "2024-09-10 00:00:00-04:00  218.919998  221.479996  216.729996  220.110001   \n",
       "2024-09-11 00:00:00-04:00  221.460007  223.089996  217.889999  222.660004   \n",
       "2024-09-12 00:00:00-04:00  222.500000  223.550003  219.820007  222.770004   \n",
       "2024-09-13 00:00:00-04:00  223.580002  224.039993  221.910004  222.500000   \n",
       "2024-09-16 00:00:00-04:00  216.740005  217.199997  213.919998  216.320007   \n",
       "\n",
       "                              Volume  Dividends  Stock Splits  \n",
       "Date                                                           \n",
       "2019-09-17 00:00:00-04:00   73274800        0.0           0.0  \n",
       "2019-09-18 00:00:00-04:00  101360000        0.0           0.0  \n",
       "2019-09-19 00:00:00-04:00   88242400        0.0           0.0  \n",
       "2019-09-20 00:00:00-04:00  221652400        0.0           0.0  \n",
       "2019-09-23 00:00:00-04:00   76662000        0.0           0.0  \n",
       "...                              ...        ...           ...  \n",
       "2024-09-10 00:00:00-04:00   51591000        0.0           0.0  \n",
       "2024-09-11 00:00:00-04:00   44587100        0.0           0.0  \n",
       "2024-09-12 00:00:00-04:00   37498200        0.0           0.0  \n",
       "2024-09-13 00:00:00-04:00   36722900        0.0           0.0  \n",
       "2024-09-16 00:00:00-04:00   59138791        0.0           0.0  \n",
       "\n",
       "[1258 rows x 7 columns]"
      ]
     },
     "execution_count": 3,
     "metadata": {},
     "output_type": "execute_result"
    }
   ],
   "source": [
    "ticker = \"AAPL\"\n",
    "prices = yf.Ticker(ticker).history(period=\"5y\")\n",
    "prices"
   ]
  },
  {
   "cell_type": "code",
   "execution_count": 4,
   "metadata": {
    "ExecuteTime": {
     "end_time": "2024-03-14T22:14:17.302553Z",
     "start_time": "2024-03-14T22:14:17.287392Z"
    },
    "collapsed": false,
    "pycharm": {
     "name": "#%%\n"
    }
   },
   "outputs": [],
   "source": [
    "\n",
    "import inspect\n",
    "\n",
    "from typing import Any\n",
    "from dataclasses import dataclass, field\n",
    "\n",
    "from mplchart.utils import series_xy, get_series\n",
    "from mplchart.model import Indicator\n",
    "\n",
    "\n",
    "@dataclass\n",
    "class Line:\n",
    "    name: str = field(init=False, default=None)\n",
    "    item: str = None\n",
    "    color: str = None\n",
    "    label: bool = False\n",
    "\n",
    "    def __set_name__(self, owner, name):\n",
    "        self.name = name\n",
    "\n",
    "    def plot_trait(self, data, chart, ax, parent=None):\n",
    "        logging.info(\"plot_result %r\", self)\n",
    "\n",
    "        label = repr(parent) if self.label else None\n",
    "        color = self.color\n",
    "\n",
    "        xv, yv = series_xy(data)\n",
    "\n",
    "        ax.plot(xv, yv, label=label, color=color)\n",
    "\n",
    "\n",
    "class DEMA(Indicator):\n",
    "    \"\"\"Double Exponential Moving Average\"\"\"\n",
    "\n",
    "    line = Line(color=\"red\", label=True)\n",
    "\n",
    "    same_scale = True\n",
    "    # same_scale is an optional class attribute\n",
    "    # to specify that the indicator can be drawn\n",
    "    # on the same axes as the previous indicator\n",
    "\n",
    "    def __init__(self, period: int = 20):\n",
    "        self.period = period\n",
    "\n",
    "    def __call__(self, prices):\n",
    "        series = get_series(prices)\n",
    "        ema1 = calc_ema(series, self.period)\n",
    "        ema2 = calc_ema(ema1, self.period)\n",
    "        return 2 * ema1 - ema2\n",
    "    \n",
    "    def plot_result(self, data, chart, ax=None):\n",
    "        logging.info(\"plot_result %r\", self)\n",
    "\n",
    "        def is_trait(m):\n",
    "            return hasattr(m, \"plot_trait\")\n",
    "\n",
    "        members = inspect.getmembers(self, predicate=is_trait)\n",
    "        print(\"members\", members)\n",
    "\n",
    "        for name, member in members:\n",
    "            print(\"member\", name)\n",
    "            member.plot_trait(data, chart, ax, parent=self)\n",
    "\n",
    "\n",
    "            "
   ]
  },
  {
   "cell_type": "code",
   "execution_count": 5,
   "metadata": {
    "ExecuteTime": {
     "end_time": "2024-03-14T22:14:17.783344Z",
     "start_time": "2024-03-14T22:14:17.760158Z"
    },
    "collapsed": false,
    "pycharm": {
     "name": "#%%\n"
    }
   },
   "outputs": [
    {
     "data": {
      "text/plain": [
       "Date\n",
       "2024-09-10 00:00:00-04:00    223.817881\n",
       "2024-09-11 00:00:00-04:00    223.684504\n",
       "2024-09-12 00:00:00-04:00    223.585986\n",
       "2024-09-13 00:00:00-04:00    223.448957\n",
       "2024-09-16 00:00:00-04:00    222.207092\n",
       "Name: close, dtype: float64"
      ]
     },
     "execution_count": 5,
     "metadata": {},
     "output_type": "execute_result"
    }
   ],
   "source": [
    "res = DEMA(20)(prices)\n",
    "res.tail()"
   ]
  },
  {
   "cell_type": "code",
   "execution_count": 6,
   "metadata": {
    "ExecuteTime": {
     "end_time": "2024-03-14T22:14:18.797616Z",
     "start_time": "2024-03-14T22:14:18.497517Z"
    },
    "collapsed": false,
    "pycharm": {
     "name": "#%%\n"
    }
   },
   "outputs": [
    {
     "name": "stderr",
     "output_type": "stream",
     "text": [
      "INFO:root:plot_result DEMA(20)\n",
      "INFO:root:plot_result Line(name='line', item=None, color='red', label=True)\n"
     ]
    },
    {
     "name": "stdout",
     "output_type": "stream",
     "text": [
      "members [('line', Line(name='line', item=None, color='red', label=True))]\n",
      "member line\n"
     ]
    },
    {
     "data": {
      "image/png": "[encoded data removed]",
      "text/plain": [
       "<Figure size 1200x900 with 2 Axes>"
      ]
     },
     "metadata": {},
     "output_type": "display_data"
    }
   ],
   "source": [
    "max_bars = 250\n",
    "\n",
    "indicators = [\n",
    "    OHLC(),\n",
    "    DEMA(20),\n",
    "]\n",
    "\n",
    "chart = Chart(title=ticker, max_bars=max_bars)\n",
    "chart.plot(prices, indicators)"
   ]
  },
  {
   "cell_type": "code",
   "execution_count": 9,
   "metadata": {
    "collapsed": false,
    "pycharm": {
     "name": "#%%\n"
    }
   },
   "outputs": [
    {
     "data": {
      "text/plain": [
       "{'color': 'red'}"
      ]
     },
     "execution_count": 9,
     "metadata": {},
     "output_type": "execute_result"
    }
   ],
   "source": [
    "import types\n",
    "\n",
    "from collections import ChainMap\n",
    "\n",
    "def mappingproxy(*args, **kwargs):\n",
    "    return types.MappingProxyType(dict(*args, **kwargs))\n",
    "\n",
    "\n",
    "style = ChainMap(mappingproxy(color=\"red\"))\n",
    "\n",
    "dict(style)\n",
    "\n"
   ]
  },
  {
   "cell_type": "code",
   "execution_count": 8,
   "metadata": {},
   "outputs": [],
   "source": [
    "from collections import ChainMap\n",
    "from types import MappingProxyType\n",
    "\n",
    "import copy\n",
    "\n",
    "class Foo:\n",
    "    style_map = ChainMap(mappingproxy(color=\"red\"))\n",
    "\n",
    "    def __repr__(self):\n",
    "        cname = self.__class__.__name__\n",
    "        style_map = dict(self.style_map)\n",
    "        return f\"{cname}({style_map!r})\"\n",
    "\n",
    "class Style:\n",
    "    def __init__(self, **kwds):\n",
    "        self.kwds = kwds\n",
    "\n",
    "    def __ror__(self, other):\n",
    "        result = copy.copy(other)\n",
    "        style_map = getattr(result, 'style_map', ChainMap())\n",
    "        result.style_map = style_map.new_child(self.kwds)\n",
    "        return result\n",
    "\n",
    "foo = Foo()\n",
    "\n"
   ]
  },
  {
   "cell_type": "code",
   "execution_count": 68,
   "metadata": {},
   "outputs": [
    {
     "data": {
      "text/plain": [
       "Foo({'color': 'red'})"
      ]
     },
     "execution_count": 68,
     "metadata": {},
     "output_type": "execute_result"
    }
   ],
   "source": [
    "Foo.__new__(Foo)"
   ]
  },
  {
   "cell_type": "code",
   "execution_count": 70,
   "metadata": {},
   "outputs": [
    {
     "data": {
      "text/plain": [
       "Foo({'color': 'red', 'linewidth': 0.5})"
      ]
     },
     "execution_count": 70,
     "metadata": {},
     "output_type": "execute_result"
    }
   ],
   "source": [
    "bar = foo | Style(linewidth=0.5)\n",
    "bar"
   ]
  },
  {
   "cell_type": "code",
   "execution_count": 10,
   "metadata": {},
   "outputs": [
    {
     "data": {
      "text/plain": [
       "ChainMap({})"
      ]
     },
     "execution_count": 10,
     "metadata": {},
     "output_type": "execute_result"
    }
   ],
   "source": [
    "cm = ChainMap()\n",
    "cm"
   ]
  },
  {
   "cell_type": "code",
   "execution_count": 13,
   "metadata": {},
   "outputs": [
    {
     "data": {
      "text/plain": [
       "ChainMap({'a': 1}, {})"
      ]
     },
     "execution_count": 13,
     "metadata": {},
     "output_type": "execute_result"
    }
   ],
   "source": [
    "cm.new_child(dict(a=1))\n"
   ]
  },
  {
   "cell_type": "code",
   "execution_count": null,
   "metadata": {},
   "outputs": [],
   "source": []
  }
 ],
 "metadata": {
  "kernelspec": {
   "display_name": "Python 3 (ipykernel)",
   "language": "python",
   "name": "python3"
  },
  "language_info": {
   "codemirror_mode": {
    "name": "ipython",
    "version": 3
   },
   "file_extension": ".py",
   "mimetype": "text/x-python",
   "name": "python",
   "nbconvert_exporter": "python",
   "pygments_lexer": "ipython3",
   "version": "3.9.19"
  }
 },
 "nbformat": 4,
 "nbformat_minor": 1
}
