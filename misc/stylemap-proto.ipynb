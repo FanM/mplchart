{
 "cells": [
  {
   "cell_type": "code",
   "execution_count": 1,
   "metadata": {},
   "outputs": [],
   "source": [
    "\"\"\"mplchart stylemap (experimental)\"\"\"\n",
    "\n",
    "from collections import Counter, ChainMap\n",
    "\n",
    "\n",
    "class StyleMap:\n",
    "    def __init__(self, mapping, counter: Counter = None):\n",
    "        if not isinstance(mapping, ChainMap):\n",
    "            mapping = ChainMap(mapping)\n",
    "        if counter is None:\n",
    "            counter = Counter()\n",
    "\n",
    "        self.mapping = mapping\n",
    "        self.counter = counter\n",
    "\n",
    "    def merge(self, mapping, *, reset: bool = False):\n",
    "        mapping = self.mapping.new_child(mapping)\n",
    "        counter = Counter() if reset else self.counter\n",
    "        return self.__class__(mapping, counter)\n",
    "\n",
    "    def copy(self, *, reset: bool = True):\n",
    "        mapping = self.mapping\n",
    "        counter = Counter() if reset else self.counter\n",
    "        return self.__class__(mapping, counter)\n",
    "\n",
    "    def __repr__(self):\n",
    "        cname = self.__class__.__name__\n",
    "        return f\"{cname}({self.mapping!r}, {self.counter!r})\"\n",
    "\n",
    "    def get_setting(self, key: str, default=None):\n",
    "        value = self.mapping.get(key)\n",
    "\n",
    "        if isinstance(value, list) and len(value):\n",
    "            count = self.counter[key]\n",
    "            value = value[count % len(value)]\n",
    "            self.counter[key] += 1\n",
    "\n",
    "        if value is not None:\n",
    "            return value\n",
    "\n",
    "        return default\n"
   ]
  },
  {
   "cell_type": "code",
   "execution_count": 2,
   "metadata": {},
   "outputs": [
    {
     "name": "stdout",
     "output_type": "stream",
     "text": [
      "StyleMap(ChainMap({'candleup.color': 'black', 'candledown.color': 'red', 'sma.color': ['blue', 'green', 'red'], 'rsi.color': 'black'}), Counter())\n"
     ]
    }
   ],
   "source": [
    "\n",
    "stylesheet = {\n",
    "    \"candleup.color\": \"black\",\n",
    "    \"candledown.color\": \"red\",\n",
    "    \"sma.color\" : [\"blue\", \"green\", \"red\"],\n",
    "    \"rsi.color\" : \"black\"\n",
    "}\n",
    "\n",
    "stylemap = StyleMap(stylesheet)\n",
    "\n",
    "print(stylemap)"
   ]
  },
  {
   "cell_type": "code",
   "execution_count": 3,
   "metadata": {},
   "outputs": [
    {
     "name": "stdout",
     "output_type": "stream",
     "text": [
      "rsi.color 'black'\n",
      "sma.color 'blue'\n",
      "sma.color 'green'\n"
     ]
    }
   ],
   "source": [
    "for key in [\"rsi.color\", \"sma.color\", \"sma.color\"]:\n",
    "    value = stylemap.get_setting(key)\n",
    "    print(key, repr(value))\n"
   ]
  },
  {
   "cell_type": "code",
   "execution_count": 4,
   "metadata": {},
   "outputs": [
    {
     "data": {
      "text/plain": [
       "StyleMap(ChainMap({'candleup.color': 'black', 'candledown.color': 'red', 'sma.color': ['blue', 'green', 'red'], 'rsi.color': 'black'}), Counter())"
      ]
     },
     "execution_count": 4,
     "metadata": {},
     "output_type": "execute_result"
    }
   ],
   "source": [
    "from collections import defaultdict\n",
    "\n",
    "class Chart:\n",
    "    def __init__(self, stylesheet):\n",
    "        stylesheet = dict(stylesheet)\n",
    "        self.stylemaps = defaultdict(lambda: StyleMap(stylesheet))\n",
    "\n",
    "    def get_stylemap(self, ax):\n",
    "        return self.stylemaps[ax]\n",
    "\n",
    "\n",
    "chart = Chart(stylesheet=stylesheet)\n",
    "chart.get_stylemap(None)"
   ]
  },
  {
   "cell_type": "code",
   "execution_count": null,
   "metadata": {},
   "outputs": [],
   "source": []
  },
  {
   "cell_type": "code",
   "execution_count": null,
   "metadata": {},
   "outputs": [],
   "source": []
  }
 ],
 "metadata": {
  "kernelspec": {
   "display_name": ".venv",
   "language": "python",
   "name": "python3"
  },
  "language_info": {
   "codemirror_mode": {
    "name": "ipython",
    "version": 3
   },
   "file_extension": ".py",
   "mimetype": "text/x-python",
   "name": "python",
   "nbconvert_exporter": "python",
   "pygments_lexer": "ipython3",
   "version": "3.9.6"
  }
 },
 "nbformat": 4,
 "nbformat_minor": 2
}
