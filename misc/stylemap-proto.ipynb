{
 "cells": [
  {
   "cell_type": "markdown",
   "metadata": {},
   "source": [
    "# Stylemap Prototype (legacy)"
   ]
  },
  {
   "cell_type": "code",
   "execution_count": 20,
   "metadata": {},
   "outputs": [],
   "source": [
    "\"\"\"mplchart stylemap (experimental)\"\"\"\n",
    "\n",
    "from collections import Counter, ChainMap\n",
    "\n",
    "\n",
    "class StyleMap:\n",
    "    def __init__(self, mapping, counter: Counter = None):\n",
    "        if not isinstance(mapping, ChainMap):\n",
    "            mapping = ChainMap(mapping)\n",
    "        if counter is None:\n",
    "            counter = Counter()\n",
    "\n",
    "        self.mapping = mapping\n",
    "        self.counter = counter\n",
    "\n",
    "    def merge(self, mapping, *, reset: bool = False):\n",
    "        mapping = self.mapping.new_child(mapping)\n",
    "        counter = Counter() if reset else self.counter\n",
    "        return self.__class__(mapping, counter)\n",
    "\n",
    "    def copy(self, *, reset: bool = True):\n",
    "        mapping = self.mapping\n",
    "        counter = Counter() if reset else self.counter\n",
    "        return self.__class__(mapping, counter)\n",
    "\n",
    "    def __repr__(self):\n",
    "        cname = self.__class__.__name__\n",
    "        return f\"{cname}({self.mapping!r}, {self.counter!r})\"\n",
    "\n",
    "    def get_setting(self, key: str, default=None, *, prefix=None):\n",
    "        if prefix:\n",
    "            keys = [f\"{p}.{key}\" for p in prefix.split(\":\")]\n",
    "        else:\n",
    "            keys = [key]\n",
    "\n",
    "        for key in keys:\n",
    "            value = self.mapping.get(key)\n",
    "            if isinstance(value, list) and len(value):\n",
    "                count = self.counter[key]\n",
    "                value = value[count % len(value)]\n",
    "                self.counter[key] += 1\n",
    "            if value is not None:\n",
    "                return value\n",
    "\n",
    "        return default\n",
    "\n",
    "\n",
    "    def get_settings(self, prefix=None, **kwargs):\n",
    "        for key, value in kwargs.items():\n",
    "            value = self.get_setting(key, default=value, prefix=prefix)\n",
    "            kwargs[key] = value\n",
    "\n",
    "        return kwargs \n"
   ]
  },
  {
   "cell_type": "code",
   "execution_count": 21,
   "metadata": {},
   "outputs": [
    {
     "name": "stdout",
     "output_type": "stream",
     "text": [
      "StyleMap(ChainMap({'candlesticks.up.color': 'black', 'candlesticks.down.color': 'red', 'sma.color': ['blue', 'green', 'red'], 'rsi.color': 'black', 'rsi.overbought.color': 'grey', 'rsi.oversold.color': 'grey', 'rsi.yticks.linewidth': 1.0, 'rsi.yticks.linestyle': '.', 'macd.color': None, 'macdsignal.color': None, '*.overbought.color': 'blue', '*.oversold.color': 'blue', 'yticks.linewidth': 1.0, 'yticks.linestyle': None}), Counter())\n"
     ]
    }
   ],
   "source": [
    "\n",
    "stylesheet = {\n",
    "    \"candlesticks.up.color\": \"black\",\n",
    "    \"candlesticks.down.color\": \"red\",\n",
    "    \"sma.color\": [\"blue\", \"green\", \"red\"],\n",
    "    \"rsi.color\": \"black\",\n",
    "    \"rsi.overbought.color\": \"grey\",\n",
    "    \"rsi.oversold.color\": \"grey\",\n",
    "    \"rsi.yticks.linewidth\": 1.0,\n",
    "    \"rsi.yticks.linestyle\": \".\",\n",
    "    \"macd.color\": None,\n",
    "    \"macdsignal.color\": None,\n",
    "    \"*.overbought.color\": \"blue\",\n",
    "    \"*.oversold.color\": \"blue\",\n",
    "    \"yticks.linewidth\": 1.0,\n",
    "    \"yticks.linestyle\": None,\n",
    "}\n",
    "\n",
    "\n",
    "stylemap = StyleMap(stylesheet)\n",
    "\n",
    "print(stylemap)"
   ]
  },
  {
   "cell_type": "code",
   "execution_count": 22,
   "metadata": {},
   "outputs": [
    {
     "name": "stdout",
     "output_type": "stream",
     "text": [
      "rsi.color 'black'\n",
      "sma.color 'blue'\n",
      "sma.color 'green'\n"
     ]
    }
   ],
   "source": [
    "for key in [\"rsi.color\", \"sma.color\", \"sma.color\"]:\n",
    "    value = stylemap.get_setting(key)\n",
    "    print(key, repr(value))\n"
   ]
  },
  {
   "cell_type": "code",
   "execution_count": 23,
   "metadata": {},
   "outputs": [
    {
     "data": {
      "text/plain": [
       "StyleMap(ChainMap({'candlesticks.up.color': 'black', 'candlesticks.down.color': 'red', 'sma.color': ['blue', 'green', 'red'], 'rsi.color': 'black', 'rsi.overbought.color': 'grey', 'rsi.oversold.color': 'grey', 'rsi.yticks.linewidth': 1.0, 'rsi.yticks.linestyle': '.', 'macd.color': None, 'macdsignal.color': None, '*.overbought.color': 'blue', '*.oversold.color': 'blue', 'yticks.linewidth': 1.0, 'yticks.linestyle': None}), Counter())"
      ]
     },
     "execution_count": 23,
     "metadata": {},
     "output_type": "execute_result"
    }
   ],
   "source": [
    "from collections import defaultdict\n",
    "\n",
    "class Chart:\n",
    "    def __init__(self, stylesheet):\n",
    "        stylesheet = dict(stylesheet)\n",
    "        self.stylemaps = defaultdict(lambda: StyleMap(stylesheet))\n",
    "\n",
    "    def get_stylemap(self, ax):\n",
    "        return self.stylemaps[ax]\n",
    "    \n",
    "    def get_settings(self, prefix, ax=None, **kwargs):\n",
    "        return self.stylemaps[ax].get_settings()\n",
    "\n",
    "\n",
    "chart = Chart(stylesheet=stylesheet)\n",
    "chart.get_stylemap(None)"
   ]
  },
  {
   "cell_type": "code",
   "execution_count": null,
   "metadata": {},
   "outputs": [],
   "source": []
  },
  {
   "cell_type": "code",
   "execution_count": null,
   "metadata": {},
   "outputs": [],
   "source": []
  }
 ],
 "metadata": {
  "kernelspec": {
   "display_name": ".venv",
   "language": "python",
   "name": "python3"
  },
  "language_info": {
   "codemirror_mode": {
    "name": "ipython",
    "version": 3
   },
   "file_extension": ".py",
   "mimetype": "text/x-python",
   "name": "python",
   "nbconvert_exporter": "python",
   "pygments_lexer": "ipython3",
   "version": "3.9.19"
  }
 },
 "nbformat": 4,
 "nbformat_minor": 2
}
