{
 "cells": [
  {
   "cell_type": "code",
   "execution_count": 18,
   "metadata": {
    "collapsed": true,
    "pycharm": {
     "name": "#%%\n"
    }
   },
   "outputs": [],
   "source": [
    "import os\n",
    "import re\n",
    "import project\n",
    "import posixpath\n",
    "\n",
    "from pathlib import Path"
   ]
  },
  {
   "cell_type": "code",
   "execution_count": 19,
   "outputs": [
    {
     "data": {
      "text/plain": "WindowsPath('C:/Users/frederic/OneDrive/Python/mplchart-proto')"
     },
     "execution_count": 19,
     "metadata": {},
     "output_type": "execute_result"
    }
   ],
   "source": [
    "project.root"
   ],
   "metadata": {
    "collapsed": false,
    "pycharm": {
     "name": "#%%\n"
    }
   }
  },
  {
   "cell_type": "code",
   "execution_count": 20,
   "outputs": [
    {
     "data": {
      "text/plain": "['metadata', 'options', 'options.packages.find']"
     },
     "execution_count": 20,
     "metadata": {},
     "output_type": "execute_result"
    }
   ],
   "source": [
    "config = project.get_config()\n",
    "config.sections()\n"
   ],
   "metadata": {
    "collapsed": false,
    "pycharm": {
     "name": "#%%\n"
    }
   }
  },
  {
   "cell_type": "code",
   "execution_count": 21,
   "outputs": [
    {
     "data": {
      "text/plain": "'https://github.com/furechan/mplchart-proto'"
     },
     "execution_count": 21,
     "metadata": {},
     "output_type": "execute_result"
    }
   ],
   "source": [
    "project_url = config.get('metadata', 'url')\n",
    "project_url\n"
   ],
   "metadata": {
    "collapsed": false,
    "pycharm": {
     "name": "#%%\n"
    }
   }
  },
  {
   "cell_type": "code",
   "execution_count": 29,
   "outputs": [
    {
     "data": {
      "text/plain": "'https://github.com/furechan/mplchart-proto/toto/raw/main'"
     },
     "execution_count": 29,
     "metadata": {},
     "output_type": "execute_result"
    }
   ],
   "source": [
    "raw_prefix = posixpath.join(project_url + \"/\", \"toto\", \"raw/main\")\n",
    "raw_prefix\n"
   ],
   "metadata": {
    "collapsed": false,
    "pycharm": {
     "name": "#%%\n"
    }
   }
  },
  {
   "cell_type": "code",
   "execution_count": 23,
   "outputs": [
    {
     "data": {
      "text/plain": "WindowsPath('C:/Users/frederic/OneDrive/Python/mplchart-proto/README.md')"
     },
     "execution_count": 23,
     "metadata": {},
     "output_type": "execute_result"
    }
   ],
   "source": [
    "readme = project.root.joinpath(\"README.md\").resolve(strict=True)\n",
    "readme"
   ],
   "metadata": {
    "collapsed": false,
    "pycharm": {
     "name": "#%%\n"
    }
   }
  },
  {
   "cell_type": "code",
   "execution_count": 25,
   "outputs": [],
   "source": [
    "text = readme.read_text()\n"
   ],
   "metadata": {
    "collapsed": false,
    "pycharm": {
     "name": "#%%\n"
    }
   }
  },
  {
   "cell_type": "code",
   "execution_count": 31,
   "outputs": [
    {
     "name": "stdout",
     "output_type": "stream",
     "text": [
      "mapping ![Showcase Chart](/output/showcase.svg \"Showcase\") -> ![Showcase Chart](https://github.com/furechan/mplchart-proto/raw/main/output/showcase.svg \"Showcase\")\n",
      "mapping [mplchart-helper.ipynb](/examples/mplchart-helper.ipynb) -> [mplchart-helper.ipynb](https://github.com/furechan/mplchart-proto/blob/main/examples/mplchart-helper.ipynb)\n",
      "mapping [mplchart-primitives.ipynb](/examples/mplchart-primitives.ipynb) -> [mplchart-primitives.ipynb](https://github.com/furechan/mplchart-proto/blob/main/examples/mplchart-primitives.ipynb)\n",
      "mapping [mplchart-builtins.ipynb](/examples/mplchart-builtins.ipynb) -> [mplchart-builtins.ipynb](https://github.com/furechan/mplchart-proto/blob/main/examples/mplchart-builtins.ipynb)\n",
      "mapping [mplchart-abstract.ipynb](/examples/mplchart-abstract.ipynb) -> [mplchart-abstract.ipynb](https://github.com/furechan/mplchart-proto/blob/main/examples/mplchart-abstract.ipynb)\n",
      "mapping [mplchart-primitives.ipynb](/examples/mplchart-primitives.ipynb) -> [mplchart-primitives.ipynb](https://github.com/furechan/mplchart-proto/blob/main/examples/mplchart-primitives.ipynb)\n",
      "mapping [mplchart-builtins.ipynb](/examples/mplchart-builtins.ipynb) -> [mplchart-builtins.ipynb](https://github.com/furechan/mplchart-proto/blob/main/examples/mplchart-builtins.ipynb)\n",
      "mapping [mplchart-abstract.ipynb](/examples/mplchart-abstract.ipynb) -> [mplchart-abstract.ipynb](https://github.com/furechan/mplchart-proto/blob/main/examples/mplchart-abstract.ipynb)\n"
     ]
    }
   ],
   "source": [
    "\n",
    "def replace(m):\n",
    "    exclam, alt, url = m.groups()\n",
    "    ftype = \"raw\" if exclam else \"blob\"\n",
    "    branch = \"main\"\n",
    "    if url.startswith(\"/\"):\n",
    "        url = posixpath.join(project_url, ftype, branch, url[1:])\n",
    "        result = f\"{exclam}[{alt}]({url})\"\n",
    "        print(\"mapping\", m.group(0), \"->\", result)\n",
    "    else:\n",
    "        result = m.group(0)\n",
    "    return result\n",
    "\n",
    "textout = re.sub(r\"(?x)(\\!?)\\[([^]]*)\\]\\(([^)]+)\\)\", replace, text)\n"
   ],
   "metadata": {
    "collapsed": false,
    "pycharm": {
     "name": "#%%\n"
    }
   }
  },
  {
   "cell_type": "code",
   "execution_count": 32,
   "outputs": [
    {
     "data": {
      "text/plain": "WindowsPath('C:/Users/frederic/OneDrive/Python/mplchart-proto/output')"
     },
     "execution_count": 32,
     "metadata": {},
     "output_type": "execute_result"
    }
   ],
   "source": [
    "output = project.root.joinpath(\"output\").resolve(strict=True)\n",
    "output"
   ],
   "metadata": {
    "collapsed": false,
    "pycharm": {
     "name": "#%%\n"
    }
   }
  },
  {
   "cell_type": "code",
   "execution_count": 33,
   "outputs": [
    {
     "data": {
      "text/plain": "5248"
     },
     "execution_count": 33,
     "metadata": {},
     "output_type": "execute_result"
    }
   ],
   "source": [
    "outfile = output / \"README.md\"\n",
    "outfile.write_text(textout)"
   ],
   "metadata": {
    "collapsed": false,
    "pycharm": {
     "name": "#%%\n"
    }
   }
  },
  {
   "cell_type": "code",
   "execution_count": null,
   "outputs": [],
   "source": [],
   "metadata": {
    "collapsed": false,
    "pycharm": {
     "name": "#%%\n"
    }
   }
  }
 ],
 "metadata": {
  "kernelspec": {
   "display_name": "Python 3",
   "language": "python",
   "name": "python3"
  },
  "language_info": {
   "codemirror_mode": {
    "name": "ipython",
    "version": 2
   },
   "file_extension": ".py",
   "mimetype": "text/x-python",
   "name": "python",
   "nbconvert_exporter": "python",
   "pygments_lexer": "ipython2",
   "version": "2.7.6"
  }
 },
 "nbformat": 4,
 "nbformat_minor": 0
}