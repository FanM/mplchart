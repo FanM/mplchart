{
 "cells": [
  {
   "cell_type": "markdown",
   "metadata": {
    "collapsed": false
   },
   "source": [
    "## Update Showcase Chart"
   ]
  },
  {
   "cell_type": "code",
   "execution_count": 10,
   "metadata": {
    "collapsed": false,
    "ExecuteTime": {
     "end_time": "2024-03-15T20:18:04.675307Z",
     "start_time": "2024-03-15T20:18:04.665001Z"
    }
   },
   "source": [
    "import yfinance as yf\n",
    "\n",
    "from pathlib import Path\n",
    "\n",
    "from mplchart.chart import Chart\n",
    "\n",
    "from mplchart.primitives import Candlesticks, Volume, TradeMarker, TradeSpan\n",
    "from mplchart.indicators import SMA, EMA, RSI, MACD\n",
    "\n",
    "from matplotlib_inline.backend_inline import set_matplotlib_formats\n",
    "\n",
    "set_matplotlib_formats(\"svg\")\n",
    "\n",
    "ROOT = Path.cwd().parent"
   ],
   "outputs": []
  },
  {
   "cell_type": "code",
   "execution_count": 11,
   "metadata": {
    "collapsed": false,
    "pycharm": {
     "name": "#%%\n"
    },
    "ExecuteTime": {
     "end_time": "2024-03-15T20:18:05.507554Z",
     "start_time": "2024-03-15T20:18:05.451086Z"
    }
   },
   "source": [
    "ticker = \"AAPL\"\n",
    "prices = yf.Ticker(ticker).history(period=\"5y\")\n",
    "prices"
   ],
   "outputs": []
  },
  {
   "cell_type": "code",
   "execution_count": 12,
   "metadata": {
    "collapsed": false,
    "pycharm": {
     "name": "#%%\n"
    },
    "ExecuteTime": {
     "end_time": "2024-03-15T20:18:07.152636Z",
     "start_time": "2024-03-15T20:18:06.466269Z"
    }
   },
   "source": [
    "max_bars = 250\n",
    "\n",
    "indicators = [\n",
    "    Candlesticks(use_bars=False),\n",
    "    SMA(50),\n",
    "    SMA(200),\n",
    "    Volume(),\n",
    "    RSI(),\n",
    "    MACD(),\n",
    "    TradeMarker(),\n",
    "    TradeSpan(),\n",
    "]\n",
    "\n",
    "chart = Chart(title=ticker, max_bars=max_bars)\n",
    "chart.plot(prices, indicators)"
   ],
   "outputs": []
  },
  {
   "cell_type": "code",
   "execution_count": 10,
   "metadata": {
    "collapsed": false,
    "pycharm": {
     "name": "#%%\n"
    },
    "ExecuteTime": {
     "end_time": "2024-03-14T17:39:20.689612Z",
     "start_time": "2024-03-14T17:39:20.418841Z"
    }
   },
   "source": [
    "showcase = ROOT.joinpath(\"output/showcase.svg\")\n",
    "\n",
    "data = chart.render(\"svg\")\n",
    "\n",
    "print(f\"Updating {showcase.name} ...\")\n",
    "\n",
    "showcase.write_bytes(data)"
   ],
   "outputs": []
  },
  {
   "cell_type": "code",
   "execution_count": null,
   "metadata": {
    "collapsed": false,
    "pycharm": {
     "name": "#%%\n"
    }
   },
   "source": [],
   "outputs": []
  }
 ],
 "metadata": {
  "kernelspec": {
   "display_name": "Python 3",
   "language": "python",
   "name": "python3"
  },
  "language_info": {
   "codemirror_mode": {
    "name": "ipython",
    "version": 3
   },
   "file_extension": ".py",
   "mimetype": "text/x-python",
   "name": "python",
   "nbconvert_exporter": "python",
   "pygments_lexer": "ipython3",
   "version": "3.8.8"
  }
 },
 "nbformat": 4,
 "nbformat_minor": 1
}
